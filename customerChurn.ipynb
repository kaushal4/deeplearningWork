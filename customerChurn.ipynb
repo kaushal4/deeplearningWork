{
 "metadata": {
  "language_info": {
   "codemirror_mode": {
    "name": "ipython",
    "version": 3
   },
   "file_extension": ".py",
   "mimetype": "text/x-python",
   "name": "python",
   "nbconvert_exporter": "python",
   "pygments_lexer": "ipython3",
   "version": "3.8.6"
  },
  "orig_nbformat": 2,
  "kernelspec": {
   "name": "tfgpu",
   "display_name": "tfgpu",
   "language": "python"
  }
 },
 "nbformat": 4,
 "nbformat_minor": 2,
 "cells": [
  {
   "cell_type": "code",
   "execution_count": 1,
   "metadata": {},
   "outputs": [],
   "source": [
    "import tensorflow as tf\n",
    "import tensorflow.keras as keras\n",
    "import matplotlib.pyplot as plt\n",
    "import pandas as pd\n",
    "import numpy as np \n",
    "import seaborn as sns\n",
    "%matplotlib inline"
   ]
  },
  {
   "cell_type": "code",
   "execution_count": 2,
   "metadata": {},
   "outputs": [
    {
     "output_type": "execute_result",
     "data": {
      "text/plain": [
       "   customerID  gender  SeniorCitizen Partner Dependents  tenure PhoneService  \\\n",
       "0  7590-VHVEG  Female              0     Yes         No       1           No   \n",
       "1  5575-GNVDE    Male              0      No         No      34          Yes   \n",
       "2  3668-QPYBK    Male              0      No         No       2          Yes   \n",
       "3  7795-CFOCW    Male              0      No         No      45           No   \n",
       "4  9237-HQITU  Female              0      No         No       2          Yes   \n",
       "\n",
       "      MultipleLines InternetService OnlineSecurity  ... DeviceProtection  \\\n",
       "0  No phone service             DSL             No  ...               No   \n",
       "1                No             DSL            Yes  ...              Yes   \n",
       "2                No             DSL            Yes  ...               No   \n",
       "3  No phone service             DSL            Yes  ...              Yes   \n",
       "4                No     Fiber optic             No  ...               No   \n",
       "\n",
       "  TechSupport StreamingTV StreamingMovies        Contract PaperlessBilling  \\\n",
       "0          No          No              No  Month-to-month              Yes   \n",
       "1          No          No              No        One year               No   \n",
       "2          No          No              No  Month-to-month              Yes   \n",
       "3         Yes          No              No        One year               No   \n",
       "4          No          No              No  Month-to-month              Yes   \n",
       "\n",
       "               PaymentMethod MonthlyCharges  TotalCharges Churn  \n",
       "0           Electronic check          29.85         29.85    No  \n",
       "1               Mailed check          56.95        1889.5    No  \n",
       "2               Mailed check          53.85        108.15   Yes  \n",
       "3  Bank transfer (automatic)          42.30       1840.75    No  \n",
       "4           Electronic check          70.70        151.65   Yes  \n",
       "\n",
       "[5 rows x 21 columns]"
      ],
      "text/html": "<div>\n<style scoped>\n    .dataframe tbody tr th:only-of-type {\n        vertical-align: middle;\n    }\n\n    .dataframe tbody tr th {\n        vertical-align: top;\n    }\n\n    .dataframe thead th {\n        text-align: right;\n    }\n</style>\n<table border=\"1\" class=\"dataframe\">\n  <thead>\n    <tr style=\"text-align: right;\">\n      <th></th>\n      <th>customerID</th>\n      <th>gender</th>\n      <th>SeniorCitizen</th>\n      <th>Partner</th>\n      <th>Dependents</th>\n      <th>tenure</th>\n      <th>PhoneService</th>\n      <th>MultipleLines</th>\n      <th>InternetService</th>\n      <th>OnlineSecurity</th>\n      <th>...</th>\n      <th>DeviceProtection</th>\n      <th>TechSupport</th>\n      <th>StreamingTV</th>\n      <th>StreamingMovies</th>\n      <th>Contract</th>\n      <th>PaperlessBilling</th>\n      <th>PaymentMethod</th>\n      <th>MonthlyCharges</th>\n      <th>TotalCharges</th>\n      <th>Churn</th>\n    </tr>\n  </thead>\n  <tbody>\n    <tr>\n      <th>0</th>\n      <td>7590-VHVEG</td>\n      <td>Female</td>\n      <td>0</td>\n      <td>Yes</td>\n      <td>No</td>\n      <td>1</td>\n      <td>No</td>\n      <td>No phone service</td>\n      <td>DSL</td>\n      <td>No</td>\n      <td>...</td>\n      <td>No</td>\n      <td>No</td>\n      <td>No</td>\n      <td>No</td>\n      <td>Month-to-month</td>\n      <td>Yes</td>\n      <td>Electronic check</td>\n      <td>29.85</td>\n      <td>29.85</td>\n      <td>No</td>\n    </tr>\n    <tr>\n      <th>1</th>\n      <td>5575-GNVDE</td>\n      <td>Male</td>\n      <td>0</td>\n      <td>No</td>\n      <td>No</td>\n      <td>34</td>\n      <td>Yes</td>\n      <td>No</td>\n      <td>DSL</td>\n      <td>Yes</td>\n      <td>...</td>\n      <td>Yes</td>\n      <td>No</td>\n      <td>No</td>\n      <td>No</td>\n      <td>One year</td>\n      <td>No</td>\n      <td>Mailed check</td>\n      <td>56.95</td>\n      <td>1889.5</td>\n      <td>No</td>\n    </tr>\n    <tr>\n      <th>2</th>\n      <td>3668-QPYBK</td>\n      <td>Male</td>\n      <td>0</td>\n      <td>No</td>\n      <td>No</td>\n      <td>2</td>\n      <td>Yes</td>\n      <td>No</td>\n      <td>DSL</td>\n      <td>Yes</td>\n      <td>...</td>\n      <td>No</td>\n      <td>No</td>\n      <td>No</td>\n      <td>No</td>\n      <td>Month-to-month</td>\n      <td>Yes</td>\n      <td>Mailed check</td>\n      <td>53.85</td>\n      <td>108.15</td>\n      <td>Yes</td>\n    </tr>\n    <tr>\n      <th>3</th>\n      <td>7795-CFOCW</td>\n      <td>Male</td>\n      <td>0</td>\n      <td>No</td>\n      <td>No</td>\n      <td>45</td>\n      <td>No</td>\n      <td>No phone service</td>\n      <td>DSL</td>\n      <td>Yes</td>\n      <td>...</td>\n      <td>Yes</td>\n      <td>Yes</td>\n      <td>No</td>\n      <td>No</td>\n      <td>One year</td>\n      <td>No</td>\n      <td>Bank transfer (automatic)</td>\n      <td>42.30</td>\n      <td>1840.75</td>\n      <td>No</td>\n    </tr>\n    <tr>\n      <th>4</th>\n      <td>9237-HQITU</td>\n      <td>Female</td>\n      <td>0</td>\n      <td>No</td>\n      <td>No</td>\n      <td>2</td>\n      <td>Yes</td>\n      <td>No</td>\n      <td>Fiber optic</td>\n      <td>No</td>\n      <td>...</td>\n      <td>No</td>\n      <td>No</td>\n      <td>No</td>\n      <td>No</td>\n      <td>Month-to-month</td>\n      <td>Yes</td>\n      <td>Electronic check</td>\n      <td>70.70</td>\n      <td>151.65</td>\n      <td>Yes</td>\n    </tr>\n  </tbody>\n</table>\n<p>5 rows × 21 columns</p>\n</div>"
     },
     "metadata": {},
     "execution_count": 2
    }
   ],
   "source": [
    "df = pd.read_csv(\"E:\\\\machine_learning\\\\learningDL\\\\customerChurn.csv\")\n",
    "df.head()"
   ]
  },
  {
   "cell_type": "code",
   "execution_count": 3,
   "metadata": {},
   "outputs": [
    {
     "output_type": "execute_result",
     "data": {
      "text/plain": [
       "   gender  SeniorCitizen Partner Dependents  tenure PhoneService  \\\n",
       "0  Female              0     Yes         No       1           No   \n",
       "1    Male              0      No         No      34          Yes   \n",
       "2    Male              0      No         No       2          Yes   \n",
       "3    Male              0      No         No      45           No   \n",
       "4  Female              0      No         No       2          Yes   \n",
       "\n",
       "      MultipleLines InternetService OnlineSecurity OnlineBackup  \\\n",
       "0  No phone service             DSL             No          Yes   \n",
       "1                No             DSL            Yes           No   \n",
       "2                No             DSL            Yes          Yes   \n",
       "3  No phone service             DSL            Yes           No   \n",
       "4                No     Fiber optic             No           No   \n",
       "\n",
       "  DeviceProtection TechSupport StreamingTV StreamingMovies        Contract  \\\n",
       "0               No          No          No              No  Month-to-month   \n",
       "1              Yes          No          No              No        One year   \n",
       "2               No          No          No              No  Month-to-month   \n",
       "3              Yes         Yes          No              No        One year   \n",
       "4               No          No          No              No  Month-to-month   \n",
       "\n",
       "  PaperlessBilling              PaymentMethod  MonthlyCharges TotalCharges  \\\n",
       "0              Yes           Electronic check           29.85        29.85   \n",
       "1               No               Mailed check           56.95       1889.5   \n",
       "2              Yes               Mailed check           53.85       108.15   \n",
       "3               No  Bank transfer (automatic)           42.30      1840.75   \n",
       "4              Yes           Electronic check           70.70       151.65   \n",
       "\n",
       "  Churn  \n",
       "0    No  \n",
       "1    No  \n",
       "2   Yes  \n",
       "3    No  \n",
       "4   Yes  "
      ],
      "text/html": "<div>\n<style scoped>\n    .dataframe tbody tr th:only-of-type {\n        vertical-align: middle;\n    }\n\n    .dataframe tbody tr th {\n        vertical-align: top;\n    }\n\n    .dataframe thead th {\n        text-align: right;\n    }\n</style>\n<table border=\"1\" class=\"dataframe\">\n  <thead>\n    <tr style=\"text-align: right;\">\n      <th></th>\n      <th>gender</th>\n      <th>SeniorCitizen</th>\n      <th>Partner</th>\n      <th>Dependents</th>\n      <th>tenure</th>\n      <th>PhoneService</th>\n      <th>MultipleLines</th>\n      <th>InternetService</th>\n      <th>OnlineSecurity</th>\n      <th>OnlineBackup</th>\n      <th>DeviceProtection</th>\n      <th>TechSupport</th>\n      <th>StreamingTV</th>\n      <th>StreamingMovies</th>\n      <th>Contract</th>\n      <th>PaperlessBilling</th>\n      <th>PaymentMethod</th>\n      <th>MonthlyCharges</th>\n      <th>TotalCharges</th>\n      <th>Churn</th>\n    </tr>\n  </thead>\n  <tbody>\n    <tr>\n      <th>0</th>\n      <td>Female</td>\n      <td>0</td>\n      <td>Yes</td>\n      <td>No</td>\n      <td>1</td>\n      <td>No</td>\n      <td>No phone service</td>\n      <td>DSL</td>\n      <td>No</td>\n      <td>Yes</td>\n      <td>No</td>\n      <td>No</td>\n      <td>No</td>\n      <td>No</td>\n      <td>Month-to-month</td>\n      <td>Yes</td>\n      <td>Electronic check</td>\n      <td>29.85</td>\n      <td>29.85</td>\n      <td>No</td>\n    </tr>\n    <tr>\n      <th>1</th>\n      <td>Male</td>\n      <td>0</td>\n      <td>No</td>\n      <td>No</td>\n      <td>34</td>\n      <td>Yes</td>\n      <td>No</td>\n      <td>DSL</td>\n      <td>Yes</td>\n      <td>No</td>\n      <td>Yes</td>\n      <td>No</td>\n      <td>No</td>\n      <td>No</td>\n      <td>One year</td>\n      <td>No</td>\n      <td>Mailed check</td>\n      <td>56.95</td>\n      <td>1889.5</td>\n      <td>No</td>\n    </tr>\n    <tr>\n      <th>2</th>\n      <td>Male</td>\n      <td>0</td>\n      <td>No</td>\n      <td>No</td>\n      <td>2</td>\n      <td>Yes</td>\n      <td>No</td>\n      <td>DSL</td>\n      <td>Yes</td>\n      <td>Yes</td>\n      <td>No</td>\n      <td>No</td>\n      <td>No</td>\n      <td>No</td>\n      <td>Month-to-month</td>\n      <td>Yes</td>\n      <td>Mailed check</td>\n      <td>53.85</td>\n      <td>108.15</td>\n      <td>Yes</td>\n    </tr>\n    <tr>\n      <th>3</th>\n      <td>Male</td>\n      <td>0</td>\n      <td>No</td>\n      <td>No</td>\n      <td>45</td>\n      <td>No</td>\n      <td>No phone service</td>\n      <td>DSL</td>\n      <td>Yes</td>\n      <td>No</td>\n      <td>Yes</td>\n      <td>Yes</td>\n      <td>No</td>\n      <td>No</td>\n      <td>One year</td>\n      <td>No</td>\n      <td>Bank transfer (automatic)</td>\n      <td>42.30</td>\n      <td>1840.75</td>\n      <td>No</td>\n    </tr>\n    <tr>\n      <th>4</th>\n      <td>Female</td>\n      <td>0</td>\n      <td>No</td>\n      <td>No</td>\n      <td>2</td>\n      <td>Yes</td>\n      <td>No</td>\n      <td>Fiber optic</td>\n      <td>No</td>\n      <td>No</td>\n      <td>No</td>\n      <td>No</td>\n      <td>No</td>\n      <td>No</td>\n      <td>Month-to-month</td>\n      <td>Yes</td>\n      <td>Electronic check</td>\n      <td>70.70</td>\n      <td>151.65</td>\n      <td>Yes</td>\n    </tr>\n  </tbody>\n</table>\n</div>"
     },
     "metadata": {},
     "execution_count": 3
    }
   ],
   "source": [
    "df.drop(\"customerID\",inplace=True,axis=1)\n",
    "df.head()"
   ]
  },
  {
   "cell_type": "code",
   "execution_count": 4,
   "metadata": {},
   "outputs": [
    {
     "output_type": "stream",
     "name": "stdout",
     "text": [
      "(7043, 20)\n(7032, 20)\n"
     ]
    }
   ],
   "source": [
    "print(df.shape)\n",
    "df=df[df[\"TotalCharges\"]!=\" \"]\n",
    "print(df.shape)"
   ]
  },
  {
   "cell_type": "code",
   "execution_count": 5,
   "metadata": {},
   "outputs": [
    {
     "output_type": "execute_result",
     "data": {
      "text/plain": [
       "   gender  SeniorCitizen Partner Dependents  tenure PhoneService  \\\n",
       "0  Female              0     Yes         No       1           No   \n",
       "1    Male              0      No         No      34          Yes   \n",
       "2    Male              0      No         No       2          Yes   \n",
       "3    Male              0      No         No      45           No   \n",
       "4  Female              0      No         No       2          Yes   \n",
       "\n",
       "      MultipleLines InternetService OnlineSecurity OnlineBackup  \\\n",
       "0  No phone service             DSL             No          Yes   \n",
       "1                No             DSL            Yes           No   \n",
       "2                No             DSL            Yes          Yes   \n",
       "3  No phone service             DSL            Yes           No   \n",
       "4                No     Fiber optic             No           No   \n",
       "\n",
       "  DeviceProtection TechSupport StreamingTV StreamingMovies        Contract  \\\n",
       "0               No          No          No              No  Month-to-month   \n",
       "1              Yes          No          No              No        One year   \n",
       "2               No          No          No              No  Month-to-month   \n",
       "3              Yes         Yes          No              No        One year   \n",
       "4               No          No          No              No  Month-to-month   \n",
       "\n",
       "  PaperlessBilling              PaymentMethod  MonthlyCharges  TotalCharges  \\\n",
       "0              Yes           Electronic check           29.85         29.85   \n",
       "1               No               Mailed check           56.95       1889.50   \n",
       "2              Yes               Mailed check           53.85        108.15   \n",
       "3               No  Bank transfer (automatic)           42.30       1840.75   \n",
       "4              Yes           Electronic check           70.70        151.65   \n",
       "\n",
       "  Churn  \n",
       "0    No  \n",
       "1    No  \n",
       "2   Yes  \n",
       "3    No  \n",
       "4   Yes  "
      ],
      "text/html": "<div>\n<style scoped>\n    .dataframe tbody tr th:only-of-type {\n        vertical-align: middle;\n    }\n\n    .dataframe tbody tr th {\n        vertical-align: top;\n    }\n\n    .dataframe thead th {\n        text-align: right;\n    }\n</style>\n<table border=\"1\" class=\"dataframe\">\n  <thead>\n    <tr style=\"text-align: right;\">\n      <th></th>\n      <th>gender</th>\n      <th>SeniorCitizen</th>\n      <th>Partner</th>\n      <th>Dependents</th>\n      <th>tenure</th>\n      <th>PhoneService</th>\n      <th>MultipleLines</th>\n      <th>InternetService</th>\n      <th>OnlineSecurity</th>\n      <th>OnlineBackup</th>\n      <th>DeviceProtection</th>\n      <th>TechSupport</th>\n      <th>StreamingTV</th>\n      <th>StreamingMovies</th>\n      <th>Contract</th>\n      <th>PaperlessBilling</th>\n      <th>PaymentMethod</th>\n      <th>MonthlyCharges</th>\n      <th>TotalCharges</th>\n      <th>Churn</th>\n    </tr>\n  </thead>\n  <tbody>\n    <tr>\n      <th>0</th>\n      <td>Female</td>\n      <td>0</td>\n      <td>Yes</td>\n      <td>No</td>\n      <td>1</td>\n      <td>No</td>\n      <td>No phone service</td>\n      <td>DSL</td>\n      <td>No</td>\n      <td>Yes</td>\n      <td>No</td>\n      <td>No</td>\n      <td>No</td>\n      <td>No</td>\n      <td>Month-to-month</td>\n      <td>Yes</td>\n      <td>Electronic check</td>\n      <td>29.85</td>\n      <td>29.85</td>\n      <td>No</td>\n    </tr>\n    <tr>\n      <th>1</th>\n      <td>Male</td>\n      <td>0</td>\n      <td>No</td>\n      <td>No</td>\n      <td>34</td>\n      <td>Yes</td>\n      <td>No</td>\n      <td>DSL</td>\n      <td>Yes</td>\n      <td>No</td>\n      <td>Yes</td>\n      <td>No</td>\n      <td>No</td>\n      <td>No</td>\n      <td>One year</td>\n      <td>No</td>\n      <td>Mailed check</td>\n      <td>56.95</td>\n      <td>1889.50</td>\n      <td>No</td>\n    </tr>\n    <tr>\n      <th>2</th>\n      <td>Male</td>\n      <td>0</td>\n      <td>No</td>\n      <td>No</td>\n      <td>2</td>\n      <td>Yes</td>\n      <td>No</td>\n      <td>DSL</td>\n      <td>Yes</td>\n      <td>Yes</td>\n      <td>No</td>\n      <td>No</td>\n      <td>No</td>\n      <td>No</td>\n      <td>Month-to-month</td>\n      <td>Yes</td>\n      <td>Mailed check</td>\n      <td>53.85</td>\n      <td>108.15</td>\n      <td>Yes</td>\n    </tr>\n    <tr>\n      <th>3</th>\n      <td>Male</td>\n      <td>0</td>\n      <td>No</td>\n      <td>No</td>\n      <td>45</td>\n      <td>No</td>\n      <td>No phone service</td>\n      <td>DSL</td>\n      <td>Yes</td>\n      <td>No</td>\n      <td>Yes</td>\n      <td>Yes</td>\n      <td>No</td>\n      <td>No</td>\n      <td>One year</td>\n      <td>No</td>\n      <td>Bank transfer (automatic)</td>\n      <td>42.30</td>\n      <td>1840.75</td>\n      <td>No</td>\n    </tr>\n    <tr>\n      <th>4</th>\n      <td>Female</td>\n      <td>0</td>\n      <td>No</td>\n      <td>No</td>\n      <td>2</td>\n      <td>Yes</td>\n      <td>No</td>\n      <td>Fiber optic</td>\n      <td>No</td>\n      <td>No</td>\n      <td>No</td>\n      <td>No</td>\n      <td>No</td>\n      <td>No</td>\n      <td>Month-to-month</td>\n      <td>Yes</td>\n      <td>Electronic check</td>\n      <td>70.70</td>\n      <td>151.65</td>\n      <td>Yes</td>\n    </tr>\n  </tbody>\n</table>\n</div>"
     },
     "metadata": {},
     "execution_count": 5
    }
   ],
   "source": [
    "df[\"TotalCharges\"]=pd.to_numeric(df[\"TotalCharges\"])\n",
    "df.head()"
   ]
  },
  {
   "cell_type": "code",
   "execution_count": 6,
   "metadata": {},
   "outputs": [
    {
     "output_type": "execute_result",
     "data": {
      "text/plain": [
       "<AxesSubplot:title={'center':'customer tenure vs churn prediction'}, xlabel='tenure', ylabel='Count'>"
      ]
     },
     "metadata": {},
     "execution_count": 6
    },
    {
     "output_type": "display_data",
     "data": {
      "text/plain": "<Figure size 432x288 with 1 Axes>",
      "image/svg+xml": "<?xml version=\"1.0\" encoding=\"utf-8\" standalone=\"no\"?>\r\n<!DOCTYPE svg PUBLIC \"-//W3C//DTD SVG 1.1//EN\"\r\n  \"http://www.w3.org/Graphics/SVG/1.1/DTD/svg11.dtd\">\r\n<svg height=\"277.314375pt\" version=\"1.1\" viewBox=\"0 0 388.965625 277.314375\" width=\"388.965625pt\" xmlns=\"http://www.w3.org/2000/svg\" xmlns:xlink=\"http://www.w3.org/1999/xlink\">\r\n <metadata>\r\n  <rdf:RDF xmlns:cc=\"http://creativecommons.org/ns#\" xmlns:dc=\"http://purl.org/dc/elements/1.1/\" xmlns:rdf=\"http://www.w3.org/1999/02/22-rdf-syntax-ns#\">\r\n   <cc:Work>\r\n    <dc:type rdf:resource=\"http://purl.org/dc/dcmitype/StillImage\"/>\r\n    <dc:date>2021-03-30T16:20:04.375814</dc:date>\r\n    <dc:format>image/svg+xml</dc:format>\r\n    <dc:creator>\r\n     <cc:Agent>\r\n      <dc:title>Matplotlib v3.4.0, https://matplotlib.org/</dc:title>\r\n     </cc:Agent>\r\n    </dc:creator>\r\n   </cc:Work>\r\n  </rdf:RDF>\r\n </metadata>\r\n <defs>\r\n  <style type=\"text/css\">*{stroke-linecap:butt;stroke-linejoin:round;}</style>\r\n </defs>\r\n <g id=\"figure_1\">\r\n  <g id=\"patch_1\">\r\n   <path d=\"M 0 277.314375 \r\nL 388.965625 277.314375 \r\nL 388.965625 0 \r\nL 0 0 \r\nz\r\n\" style=\"fill:none;\"/>\r\n  </g>\r\n  <g id=\"axes_1\">\r\n   <g id=\"patch_2\">\r\n    <path d=\"M 46.965625 239.758125 \r\nL 381.765625 239.758125 \r\nL 381.765625 22.318125 \r\nL 46.965625 22.318125 \r\nz\r\n\" style=\"fill:#ffffff;\"/>\r\n   </g>\r\n   <g id=\"patch_3\">\r\n    <path clip-path=\"url(#pe5a5aaf72f)\" d=\"M 72.329261 239.758125 \r\nL 82.474716 239.758125 \r\nL 82.474716 48.602081 \r\nL 72.329261 48.602081 \r\nz\r\n\" style=\"fill:#ff7f0e;fill-opacity:0.75;stroke:#000000;stroke-linejoin:miter;\"/>\r\n   </g>\r\n   <g id=\"patch_4\">\r\n    <path clip-path=\"url(#pe5a5aaf72f)\" d=\"M 92.62017 239.758125 \r\nL 102.765625 239.758125 \r\nL 102.765625 182.205768 \r\nL 92.62017 182.205768 \r\nz\r\n\" style=\"fill:#ff7f0e;fill-opacity:0.75;stroke:#000000;stroke-linejoin:miter;\"/>\r\n   </g>\r\n   <g id=\"patch_5\">\r\n    <path clip-path=\"url(#pe5a5aaf72f)\" d=\"M 112.91108 239.758125 \r\nL 123.056534 239.758125 \r\nL 123.056534 196.593857 \r\nL 112.91108 196.593857 \r\nz\r\n\" style=\"fill:#ff7f0e;fill-opacity:0.75;stroke:#000000;stroke-linejoin:miter;\"/>\r\n   </g>\r\n   <g id=\"patch_6\">\r\n    <path clip-path=\"url(#pe5a5aaf72f)\" d=\"M 133.201989 239.758125 \r\nL 143.347443 239.758125 \r\nL 143.347443 214.835899 \r\nL 133.201989 214.835899 \r\nz\r\n\" style=\"fill:#ff7f0e;fill-opacity:0.75;stroke:#000000;stroke-linejoin:miter;\"/>\r\n   </g>\r\n   <g id=\"patch_7\">\r\n    <path clip-path=\"url(#pe5a5aaf72f)\" d=\"M 153.492898 239.758125 \r\nL 163.638352 239.758125 \r\nL 163.638352 214.578969 \r\nL 153.492898 214.578969 \r\nz\r\n\" style=\"fill:#ff7f0e;fill-opacity:0.75;stroke:#000000;stroke-linejoin:miter;\"/>\r\n   </g>\r\n   <g id=\"patch_8\">\r\n    <path clip-path=\"url(#pe5a5aaf72f)\" d=\"M 173.783807 239.758125 \r\nL 183.929261 239.758125 \r\nL 183.929261 219.717572 \r\nL 173.783807 219.717572 \r\nz\r\n\" style=\"fill:#ff7f0e;fill-opacity:0.75;stroke:#000000;stroke-linejoin:miter;\"/>\r\n   </g>\r\n   <g id=\"patch_9\">\r\n    <path clip-path=\"url(#pe5a5aaf72f)\" d=\"M 194.074716 239.758125 \r\nL 204.22017 239.758125 \r\nL 204.22017 219.974502 \r\nL 194.074716 219.974502 \r\nz\r\n\" style=\"fill:#ff7f0e;fill-opacity:0.75;stroke:#000000;stroke-linejoin:miter;\"/>\r\n   </g>\r\n   <g id=\"patch_10\">\r\n    <path clip-path=\"url(#pe5a5aaf72f)\" d=\"M 214.365625 239.758125 \r\nL 224.51108 239.758125 \r\nL 224.51108 226.140826 \r\nL 214.365625 226.140826 \r\nz\r\n\" style=\"fill:#ff7f0e;fill-opacity:0.75;stroke:#000000;stroke-linejoin:miter;\"/>\r\n   </g>\r\n   <g id=\"patch_11\">\r\n    <path clip-path=\"url(#pe5a5aaf72f)\" d=\"M 234.656534 239.758125 \r\nL 244.801989 239.758125 \r\nL 244.801989 221.773013 \r\nL 234.656534 221.773013 \r\nz\r\n\" style=\"fill:#ff7f0e;fill-opacity:0.75;stroke:#000000;stroke-linejoin:miter;\"/>\r\n   </g>\r\n   <g id=\"patch_12\">\r\n    <path clip-path=\"url(#pe5a5aaf72f)\" d=\"M 254.947443 239.758125 \r\nL 265.092898 239.758125 \r\nL 265.092898 227.682407 \r\nL 254.947443 227.682407 \r\nz\r\n\" style=\"fill:#ff7f0e;fill-opacity:0.75;stroke:#000000;stroke-linejoin:miter;\"/>\r\n   </g>\r\n   <g id=\"patch_13\">\r\n    <path clip-path=\"url(#pe5a5aaf72f)\" d=\"M 275.238352 239.758125 \r\nL 285.383807 239.758125 \r\nL 285.383807 225.626966 \r\nL 275.238352 225.626966 \r\nz\r\n\" style=\"fill:#ff7f0e;fill-opacity:0.75;stroke:#000000;stroke-linejoin:miter;\"/>\r\n   </g>\r\n   <g id=\"patch_14\">\r\n    <path clip-path=\"url(#pe5a5aaf72f)\" d=\"M 295.529261 239.758125 \r\nL 305.674716 239.758125 \r\nL 305.674716 229.480918 \r\nL 295.529261 229.480918 \r\nz\r\n\" style=\"fill:#ff7f0e;fill-opacity:0.75;stroke:#000000;stroke-linejoin:miter;\"/>\r\n   </g>\r\n   <g id=\"patch_15\">\r\n    <path clip-path=\"url(#pe5a5aaf72f)\" d=\"M 315.82017 239.758125 \r\nL 325.965625 239.758125 \r\nL 325.965625 229.994779 \r\nL 315.82017 229.994779 \r\nz\r\n\" style=\"fill:#ff7f0e;fill-opacity:0.75;stroke:#000000;stroke-linejoin:miter;\"/>\r\n   </g>\r\n   <g id=\"patch_16\">\r\n    <path clip-path=\"url(#pe5a5aaf72f)\" d=\"M 336.11108 239.758125 \r\nL 346.256534 239.758125 \r\nL 346.256534 229.480918 \r\nL 336.11108 229.480918 \r\nz\r\n\" style=\"fill:#ff7f0e;fill-opacity:0.75;stroke:#000000;stroke-linejoin:miter;\"/>\r\n   </g>\r\n   <g id=\"patch_17\">\r\n    <path clip-path=\"url(#pe5a5aaf72f)\" d=\"M 356.401989 239.758125 \r\nL 366.547443 239.758125 \r\nL 366.547443 229.480918 \r\nL 356.401989 229.480918 \r\nz\r\n\" style=\"fill:#ff7f0e;fill-opacity:0.75;stroke:#000000;stroke-linejoin:miter;\"/>\r\n   </g>\r\n   <g id=\"patch_18\">\r\n    <path clip-path=\"url(#pe5a5aaf72f)\" d=\"M 62.183807 239.758125 \r\nL 72.329261 239.758125 \r\nL 72.329261 81.489142 \r\nL 62.183807 81.489142 \r\nz\r\n\" style=\"fill:#1f77b4;fill-opacity:0.75;stroke:#000000;stroke-linejoin:miter;\"/>\r\n   </g>\r\n   <g id=\"patch_19\">\r\n    <path clip-path=\"url(#pe5a5aaf72f)\" d=\"M 82.474716 239.758125 \r\nL 92.62017 239.758125 \r\nL 92.62017 143.409313 \r\nL 82.474716 143.409313 \r\nz\r\n\" style=\"fill:#1f77b4;fill-opacity:0.75;stroke:#000000;stroke-linejoin:miter;\"/>\r\n   </g>\r\n   <g id=\"patch_20\">\r\n    <path clip-path=\"url(#pe5a5aaf72f)\" d=\"M 102.765625 239.758125 \r\nL 112.91108 239.758125 \r\nL 112.91108 154.45731 \r\nL 102.765625 154.45731 \r\nz\r\n\" style=\"fill:#1f77b4;fill-opacity:0.75;stroke:#000000;stroke-linejoin:miter;\"/>\r\n   </g>\r\n   <g id=\"patch_21\">\r\n    <path clip-path=\"url(#pe5a5aaf72f)\" d=\"M 123.056534 239.758125 \r\nL 133.201989 239.758125 \r\nL 133.201989 178.094885 \r\nL 123.056534 178.094885 \r\nz\r\n\" style=\"fill:#1f77b4;fill-opacity:0.75;stroke:#000000;stroke-linejoin:miter;\"/>\r\n   </g>\r\n   <g id=\"patch_22\">\r\n    <path clip-path=\"url(#pe5a5aaf72f)\" d=\"M 143.347443 239.758125 \r\nL 153.492898 239.758125 \r\nL 153.492898 161.394424 \r\nL 143.347443 161.394424 \r\nz\r\n\" style=\"fill:#1f77b4;fill-opacity:0.75;stroke:#000000;stroke-linejoin:miter;\"/>\r\n   </g>\r\n   <g id=\"patch_23\">\r\n    <path clip-path=\"url(#pe5a5aaf72f)\" d=\"M 163.638352 239.758125 \r\nL 173.783807 239.758125 \r\nL 173.783807 167.560748 \r\nL 163.638352 167.560748 \r\nz\r\n\" style=\"fill:#1f77b4;fill-opacity:0.75;stroke:#000000;stroke-linejoin:miter;\"/>\r\n   </g>\r\n   <g id=\"patch_24\">\r\n    <path clip-path=\"url(#pe5a5aaf72f)\" d=\"M 183.929261 239.758125 \r\nL 194.074716 239.758125 \r\nL 194.074716 173.470142 \r\nL 183.929261 173.470142 \r\nz\r\n\" style=\"fill:#1f77b4;fill-opacity:0.75;stroke:#000000;stroke-linejoin:miter;\"/>\r\n   </g>\r\n   <g id=\"patch_25\">\r\n    <path clip-path=\"url(#pe5a5aaf72f)\" d=\"M 204.22017 239.758125 \r\nL 214.365625 239.758125 \r\nL 214.365625 186.05972 \r\nL 204.22017 186.05972 \r\nz\r\n\" style=\"fill:#1f77b4;fill-opacity:0.75;stroke:#000000;stroke-linejoin:miter;\"/>\r\n   </g>\r\n   <g id=\"patch_26\">\r\n    <path clip-path=\"url(#pe5a5aaf72f)\" d=\"M 224.51108 239.758125 \r\nL 234.656534 239.758125 \r\nL 234.656534 175.525583 \r\nL 224.51108 175.525583 \r\nz\r\n\" style=\"fill:#1f77b4;fill-opacity:0.75;stroke:#000000;stroke-linejoin:miter;\"/>\r\n   </g>\r\n   <g id=\"patch_27\">\r\n    <path clip-path=\"url(#pe5a5aaf72f)\" d=\"M 244.801989 239.758125 \r\nL 254.947443 239.758125 \r\nL 254.947443 170.13005 \r\nL 244.801989 170.13005 \r\nz\r\n\" style=\"fill:#1f77b4;fill-opacity:0.75;stroke:#000000;stroke-linejoin:miter;\"/>\r\n   </g>\r\n   <g id=\"patch_28\">\r\n    <path clip-path=\"url(#pe5a5aaf72f)\" d=\"M 265.092898 239.758125 \r\nL 275.238352 239.758125 \r\nL 275.238352 163.449866 \r\nL 265.092898 163.449866 \r\nz\r\n\" style=\"fill:#1f77b4;fill-opacity:0.75;stroke:#000000;stroke-linejoin:miter;\"/>\r\n   </g>\r\n   <g id=\"patch_29\">\r\n    <path clip-path=\"url(#pe5a5aaf72f)\" d=\"M 285.383807 239.758125 \r\nL 295.529261 239.758125 \r\nL 295.529261 178.865676 \r\nL 285.383807 178.865676 \r\nz\r\n\" style=\"fill:#1f77b4;fill-opacity:0.75;stroke:#000000;stroke-linejoin:miter;\"/>\r\n   </g>\r\n   <g id=\"patch_30\">\r\n    <path clip-path=\"url(#pe5a5aaf72f)\" d=\"M 305.674716 239.758125 \r\nL 315.82017 239.758125 \r\nL 315.82017 159.852843 \r\nL 305.674716 159.852843 \r\nz\r\n\" style=\"fill:#1f77b4;fill-opacity:0.75;stroke:#000000;stroke-linejoin:miter;\"/>\r\n   </g>\r\n   <g id=\"patch_31\">\r\n    <path clip-path=\"url(#pe5a5aaf72f)\" d=\"M 325.965625 239.758125 \r\nL 336.11108 239.758125 \r\nL 336.11108 143.409313 \r\nL 325.965625 143.409313 \r\nz\r\n\" style=\"fill:#1f77b4;fill-opacity:0.75;stroke:#000000;stroke-linejoin:miter;\"/>\r\n   </g>\r\n   <g id=\"patch_32\">\r\n    <path clip-path=\"url(#pe5a5aaf72f)\" d=\"M 346.256534 239.758125 \r\nL 356.401989 239.758125 \r\nL 356.401989 32.672411 \r\nL 346.256534 32.672411 \r\nz\r\n\" style=\"fill:#1f77b4;fill-opacity:0.75;stroke:#000000;stroke-linejoin:miter;\"/>\r\n   </g>\r\n   <g id=\"matplotlib.axis_1\">\r\n    <g id=\"xtick_1\">\r\n     <g id=\"line2d_1\">\r\n      <defs>\r\n       <path d=\"M 0 0 \r\nL 0 3.5 \r\n\" id=\"m6d176b5863\" style=\"stroke:#000000;stroke-width:0.8;\"/>\r\n      </defs>\r\n      <g>\r\n       <use style=\"stroke:#000000;stroke-width:0.8;\" x=\"57.896995\" xlink:href=\"#m6d176b5863\" y=\"239.758125\"/>\r\n      </g>\r\n     </g>\r\n     <g id=\"text_1\">\r\n      <!-- 0 -->\r\n      <g transform=\"translate(54.715745 254.356562)scale(0.1 -0.1)\">\r\n       <defs>\r\n        <path d=\"M 2034 4250 \r\nQ 1547 4250 1301 3770 \r\nQ 1056 3291 1056 2328 \r\nQ 1056 1369 1301 889 \r\nQ 1547 409 2034 409 \r\nQ 2525 409 2770 889 \r\nQ 3016 1369 3016 2328 \r\nQ 3016 3291 2770 3770 \r\nQ 2525 4250 2034 4250 \r\nz\r\nM 2034 4750 \r\nQ 2819 4750 3233 4129 \r\nQ 3647 3509 3647 2328 \r\nQ 3647 1150 3233 529 \r\nQ 2819 -91 2034 -91 \r\nQ 1250 -91 836 529 \r\nQ 422 1150 422 2328 \r\nQ 422 3509 836 4129 \r\nQ 1250 4750 2034 4750 \r\nz\r\n\" id=\"DejaVuSans-30\" transform=\"scale(0.015625)\"/>\r\n       </defs>\r\n       <use xlink:href=\"#DejaVuSans-30\"/>\r\n      </g>\r\n     </g>\r\n    </g>\r\n    <g id=\"xtick_2\">\r\n     <g id=\"line2d_2\">\r\n      <g>\r\n       <use style=\"stroke:#000000;stroke-width:0.8;\" x=\"100.765113\" xlink:href=\"#m6d176b5863\" y=\"239.758125\"/>\r\n      </g>\r\n     </g>\r\n     <g id=\"text_2\">\r\n      <!-- 10 -->\r\n      <g transform=\"translate(94.402613 254.356562)scale(0.1 -0.1)\">\r\n       <defs>\r\n        <path d=\"M 794 531 \r\nL 1825 531 \r\nL 1825 4091 \r\nL 703 3866 \r\nL 703 4441 \r\nL 1819 4666 \r\nL 2450 4666 \r\nL 2450 531 \r\nL 3481 531 \r\nL 3481 0 \r\nL 794 0 \r\nL 794 531 \r\nz\r\n\" id=\"DejaVuSans-31\" transform=\"scale(0.015625)\"/>\r\n       </defs>\r\n       <use xlink:href=\"#DejaVuSans-31\"/>\r\n       <use x=\"63.623047\" xlink:href=\"#DejaVuSans-30\"/>\r\n      </g>\r\n     </g>\r\n    </g>\r\n    <g id=\"xtick_3\">\r\n     <g id=\"line2d_3\">\r\n      <g>\r\n       <use style=\"stroke:#000000;stroke-width:0.8;\" x=\"143.633231\" xlink:href=\"#m6d176b5863\" y=\"239.758125\"/>\r\n      </g>\r\n     </g>\r\n     <g id=\"text_3\">\r\n      <!-- 20 -->\r\n      <g transform=\"translate(137.270731 254.356562)scale(0.1 -0.1)\">\r\n       <defs>\r\n        <path d=\"M 1228 531 \r\nL 3431 531 \r\nL 3431 0 \r\nL 469 0 \r\nL 469 531 \r\nQ 828 903 1448 1529 \r\nQ 2069 2156 2228 2338 \r\nQ 2531 2678 2651 2914 \r\nQ 2772 3150 2772 3378 \r\nQ 2772 3750 2511 3984 \r\nQ 2250 4219 1831 4219 \r\nQ 1534 4219 1204 4116 \r\nQ 875 4013 500 3803 \r\nL 500 4441 \r\nQ 881 4594 1212 4672 \r\nQ 1544 4750 1819 4750 \r\nQ 2544 4750 2975 4387 \r\nQ 3406 4025 3406 3419 \r\nQ 3406 3131 3298 2873 \r\nQ 3191 2616 2906 2266 \r\nQ 2828 2175 2409 1742 \r\nQ 1991 1309 1228 531 \r\nz\r\n\" id=\"DejaVuSans-32\" transform=\"scale(0.015625)\"/>\r\n       </defs>\r\n       <use xlink:href=\"#DejaVuSans-32\"/>\r\n       <use x=\"63.623047\" xlink:href=\"#DejaVuSans-30\"/>\r\n      </g>\r\n     </g>\r\n    </g>\r\n    <g id=\"xtick_4\">\r\n     <g id=\"line2d_4\">\r\n      <g>\r\n       <use style=\"stroke:#000000;stroke-width:0.8;\" x=\"186.501348\" xlink:href=\"#m6d176b5863\" y=\"239.758125\"/>\r\n      </g>\r\n     </g>\r\n     <g id=\"text_4\">\r\n      <!-- 30 -->\r\n      <g transform=\"translate(180.138848 254.356562)scale(0.1 -0.1)\">\r\n       <defs>\r\n        <path d=\"M 2597 2516 \r\nQ 3050 2419 3304 2112 \r\nQ 3559 1806 3559 1356 \r\nQ 3559 666 3084 287 \r\nQ 2609 -91 1734 -91 \r\nQ 1441 -91 1130 -33 \r\nQ 819 25 488 141 \r\nL 488 750 \r\nQ 750 597 1062 519 \r\nQ 1375 441 1716 441 \r\nQ 2309 441 2620 675 \r\nQ 2931 909 2931 1356 \r\nQ 2931 1769 2642 2001 \r\nQ 2353 2234 1838 2234 \r\nL 1294 2234 \r\nL 1294 2753 \r\nL 1863 2753 \r\nQ 2328 2753 2575 2939 \r\nQ 2822 3125 2822 3475 \r\nQ 2822 3834 2567 4026 \r\nQ 2313 4219 1838 4219 \r\nQ 1578 4219 1281 4162 \r\nQ 984 4106 628 3988 \r\nL 628 4550 \r\nQ 988 4650 1302 4700 \r\nQ 1616 4750 1894 4750 \r\nQ 2613 4750 3031 4423 \r\nQ 3450 4097 3450 3541 \r\nQ 3450 3153 3228 2886 \r\nQ 3006 2619 2597 2516 \r\nz\r\n\" id=\"DejaVuSans-33\" transform=\"scale(0.015625)\"/>\r\n       </defs>\r\n       <use xlink:href=\"#DejaVuSans-33\"/>\r\n       <use x=\"63.623047\" xlink:href=\"#DejaVuSans-30\"/>\r\n      </g>\r\n     </g>\r\n    </g>\r\n    <g id=\"xtick_5\">\r\n     <g id=\"line2d_5\">\r\n      <g>\r\n       <use style=\"stroke:#000000;stroke-width:0.8;\" x=\"229.369466\" xlink:href=\"#m6d176b5863\" y=\"239.758125\"/>\r\n      </g>\r\n     </g>\r\n     <g id=\"text_5\">\r\n      <!-- 40 -->\r\n      <g transform=\"translate(223.006966 254.356562)scale(0.1 -0.1)\">\r\n       <defs>\r\n        <path d=\"M 2419 4116 \r\nL 825 1625 \r\nL 2419 1625 \r\nL 2419 4116 \r\nz\r\nM 2253 4666 \r\nL 3047 4666 \r\nL 3047 1625 \r\nL 3713 1625 \r\nL 3713 1100 \r\nL 3047 1100 \r\nL 3047 0 \r\nL 2419 0 \r\nL 2419 1100 \r\nL 313 1100 \r\nL 313 1709 \r\nL 2253 4666 \r\nz\r\n\" id=\"DejaVuSans-34\" transform=\"scale(0.015625)\"/>\r\n       </defs>\r\n       <use xlink:href=\"#DejaVuSans-34\"/>\r\n       <use x=\"63.623047\" xlink:href=\"#DejaVuSans-30\"/>\r\n      </g>\r\n     </g>\r\n    </g>\r\n    <g id=\"xtick_6\">\r\n     <g id=\"line2d_6\">\r\n      <g>\r\n       <use style=\"stroke:#000000;stroke-width:0.8;\" x=\"272.237584\" xlink:href=\"#m6d176b5863\" y=\"239.758125\"/>\r\n      </g>\r\n     </g>\r\n     <g id=\"text_6\">\r\n      <!-- 50 -->\r\n      <g transform=\"translate(265.875084 254.356562)scale(0.1 -0.1)\">\r\n       <defs>\r\n        <path d=\"M 691 4666 \r\nL 3169 4666 \r\nL 3169 4134 \r\nL 1269 4134 \r\nL 1269 2991 \r\nQ 1406 3038 1543 3061 \r\nQ 1681 3084 1819 3084 \r\nQ 2600 3084 3056 2656 \r\nQ 3513 2228 3513 1497 \r\nQ 3513 744 3044 326 \r\nQ 2575 -91 1722 -91 \r\nQ 1428 -91 1123 -41 \r\nQ 819 9 494 109 \r\nL 494 744 \r\nQ 775 591 1075 516 \r\nQ 1375 441 1709 441 \r\nQ 2250 441 2565 725 \r\nQ 2881 1009 2881 1497 \r\nQ 2881 1984 2565 2268 \r\nQ 2250 2553 1709 2553 \r\nQ 1456 2553 1204 2497 \r\nQ 953 2441 691 2322 \r\nL 691 4666 \r\nz\r\n\" id=\"DejaVuSans-35\" transform=\"scale(0.015625)\"/>\r\n       </defs>\r\n       <use xlink:href=\"#DejaVuSans-35\"/>\r\n       <use x=\"63.623047\" xlink:href=\"#DejaVuSans-30\"/>\r\n      </g>\r\n     </g>\r\n    </g>\r\n    <g id=\"xtick_7\">\r\n     <g id=\"line2d_7\">\r\n      <g>\r\n       <use style=\"stroke:#000000;stroke-width:0.8;\" x=\"315.105702\" xlink:href=\"#m6d176b5863\" y=\"239.758125\"/>\r\n      </g>\r\n     </g>\r\n     <g id=\"text_7\">\r\n      <!-- 60 -->\r\n      <g transform=\"translate(308.743202 254.356562)scale(0.1 -0.1)\">\r\n       <defs>\r\n        <path d=\"M 2113 2584 \r\nQ 1688 2584 1439 2293 \r\nQ 1191 2003 1191 1497 \r\nQ 1191 994 1439 701 \r\nQ 1688 409 2113 409 \r\nQ 2538 409 2786 701 \r\nQ 3034 994 3034 1497 \r\nQ 3034 2003 2786 2293 \r\nQ 2538 2584 2113 2584 \r\nz\r\nM 3366 4563 \r\nL 3366 3988 \r\nQ 3128 4100 2886 4159 \r\nQ 2644 4219 2406 4219 \r\nQ 1781 4219 1451 3797 \r\nQ 1122 3375 1075 2522 \r\nQ 1259 2794 1537 2939 \r\nQ 1816 3084 2150 3084 \r\nQ 2853 3084 3261 2657 \r\nQ 3669 2231 3669 1497 \r\nQ 3669 778 3244 343 \r\nQ 2819 -91 2113 -91 \r\nQ 1303 -91 875 529 \r\nQ 447 1150 447 2328 \r\nQ 447 3434 972 4092 \r\nQ 1497 4750 2381 4750 \r\nQ 2619 4750 2861 4703 \r\nQ 3103 4656 3366 4563 \r\nz\r\n\" id=\"DejaVuSans-36\" transform=\"scale(0.015625)\"/>\r\n       </defs>\r\n       <use xlink:href=\"#DejaVuSans-36\"/>\r\n       <use x=\"63.623047\" xlink:href=\"#DejaVuSans-30\"/>\r\n      </g>\r\n     </g>\r\n    </g>\r\n    <g id=\"xtick_8\">\r\n     <g id=\"line2d_8\">\r\n      <g>\r\n       <use style=\"stroke:#000000;stroke-width:0.8;\" x=\"357.97382\" xlink:href=\"#m6d176b5863\" y=\"239.758125\"/>\r\n      </g>\r\n     </g>\r\n     <g id=\"text_8\">\r\n      <!-- 70 -->\r\n      <g transform=\"translate(351.61132 254.356562)scale(0.1 -0.1)\">\r\n       <defs>\r\n        <path d=\"M 525 4666 \r\nL 3525 4666 \r\nL 3525 4397 \r\nL 1831 0 \r\nL 1172 0 \r\nL 2766 4134 \r\nL 525 4134 \r\nL 525 4666 \r\nz\r\n\" id=\"DejaVuSans-37\" transform=\"scale(0.015625)\"/>\r\n       </defs>\r\n       <use xlink:href=\"#DejaVuSans-37\"/>\r\n       <use x=\"63.623047\" xlink:href=\"#DejaVuSans-30\"/>\r\n      </g>\r\n     </g>\r\n    </g>\r\n    <g id=\"text_9\">\r\n     <!-- tenure -->\r\n     <g transform=\"translate(197.971875 268.034687)scale(0.1 -0.1)\">\r\n      <defs>\r\n       <path d=\"M 1172 4494 \r\nL 1172 3500 \r\nL 2356 3500 \r\nL 2356 3053 \r\nL 1172 3053 \r\nL 1172 1153 \r\nQ 1172 725 1289 603 \r\nQ 1406 481 1766 481 \r\nL 2356 481 \r\nL 2356 0 \r\nL 1766 0 \r\nQ 1100 0 847 248 \r\nQ 594 497 594 1153 \r\nL 594 3053 \r\nL 172 3053 \r\nL 172 3500 \r\nL 594 3500 \r\nL 594 4494 \r\nL 1172 4494 \r\nz\r\n\" id=\"DejaVuSans-74\" transform=\"scale(0.015625)\"/>\r\n       <path d=\"M 3597 1894 \r\nL 3597 1613 \r\nL 953 1613 \r\nQ 991 1019 1311 708 \r\nQ 1631 397 2203 397 \r\nQ 2534 397 2845 478 \r\nQ 3156 559 3463 722 \r\nL 3463 178 \r\nQ 3153 47 2828 -22 \r\nQ 2503 -91 2169 -91 \r\nQ 1331 -91 842 396 \r\nQ 353 884 353 1716 \r\nQ 353 2575 817 3079 \r\nQ 1281 3584 2069 3584 \r\nQ 2775 3584 3186 3129 \r\nQ 3597 2675 3597 1894 \r\nz\r\nM 3022 2063 \r\nQ 3016 2534 2758 2815 \r\nQ 2500 3097 2075 3097 \r\nQ 1594 3097 1305 2825 \r\nQ 1016 2553 972 2059 \r\nL 3022 2063 \r\nz\r\n\" id=\"DejaVuSans-65\" transform=\"scale(0.015625)\"/>\r\n       <path d=\"M 3513 2113 \r\nL 3513 0 \r\nL 2938 0 \r\nL 2938 2094 \r\nQ 2938 2591 2744 2837 \r\nQ 2550 3084 2163 3084 \r\nQ 1697 3084 1428 2787 \r\nQ 1159 2491 1159 1978 \r\nL 1159 0 \r\nL 581 0 \r\nL 581 3500 \r\nL 1159 3500 \r\nL 1159 2956 \r\nQ 1366 3272 1645 3428 \r\nQ 1925 3584 2291 3584 \r\nQ 2894 3584 3203 3211 \r\nQ 3513 2838 3513 2113 \r\nz\r\n\" id=\"DejaVuSans-6e\" transform=\"scale(0.015625)\"/>\r\n       <path d=\"M 544 1381 \r\nL 544 3500 \r\nL 1119 3500 \r\nL 1119 1403 \r\nQ 1119 906 1312 657 \r\nQ 1506 409 1894 409 \r\nQ 2359 409 2629 706 \r\nQ 2900 1003 2900 1516 \r\nL 2900 3500 \r\nL 3475 3500 \r\nL 3475 0 \r\nL 2900 0 \r\nL 2900 538 \r\nQ 2691 219 2414 64 \r\nQ 2138 -91 1772 -91 \r\nQ 1169 -91 856 284 \r\nQ 544 659 544 1381 \r\nz\r\nM 1991 3584 \r\nL 1991 3584 \r\nz\r\n\" id=\"DejaVuSans-75\" transform=\"scale(0.015625)\"/>\r\n       <path d=\"M 2631 2963 \r\nQ 2534 3019 2420 3045 \r\nQ 2306 3072 2169 3072 \r\nQ 1681 3072 1420 2755 \r\nQ 1159 2438 1159 1844 \r\nL 1159 0 \r\nL 581 0 \r\nL 581 3500 \r\nL 1159 3500 \r\nL 1159 2956 \r\nQ 1341 3275 1631 3429 \r\nQ 1922 3584 2338 3584 \r\nQ 2397 3584 2469 3576 \r\nQ 2541 3569 2628 3553 \r\nL 2631 2963 \r\nz\r\n\" id=\"DejaVuSans-72\" transform=\"scale(0.015625)\"/>\r\n      </defs>\r\n      <use xlink:href=\"#DejaVuSans-74\"/>\r\n      <use x=\"39.208984\" xlink:href=\"#DejaVuSans-65\"/>\r\n      <use x=\"100.732422\" xlink:href=\"#DejaVuSans-6e\"/>\r\n      <use x=\"164.111328\" xlink:href=\"#DejaVuSans-75\"/>\r\n      <use x=\"227.490234\" xlink:href=\"#DejaVuSans-72\"/>\r\n      <use x=\"266.353516\" xlink:href=\"#DejaVuSans-65\"/>\r\n     </g>\r\n    </g>\r\n   </g>\r\n   <g id=\"matplotlib.axis_2\">\r\n    <g id=\"ytick_1\">\r\n     <g id=\"line2d_9\">\r\n      <defs>\r\n       <path d=\"M 0 0 \r\nL -3.5 0 \r\n\" id=\"m36eb9171c5\" style=\"stroke:#000000;stroke-width:0.8;\"/>\r\n      </defs>\r\n      <g>\r\n       <use style=\"stroke:#000000;stroke-width:0.8;\" x=\"46.965625\" xlink:href=\"#m36eb9171c5\" y=\"239.758125\"/>\r\n      </g>\r\n     </g>\r\n     <g id=\"text_10\">\r\n      <!-- 0 -->\r\n      <g transform=\"translate(33.603125 243.557344)scale(0.1 -0.1)\">\r\n       <use xlink:href=\"#DejaVuSans-30\"/>\r\n      </g>\r\n     </g>\r\n    </g>\r\n    <g id=\"ytick_2\">\r\n     <g id=\"line2d_10\">\r\n      <g>\r\n       <use style=\"stroke:#000000;stroke-width:0.8;\" x=\"46.965625\" xlink:href=\"#m36eb9171c5\" y=\"214.065108\"/>\r\n      </g>\r\n     </g>\r\n     <g id=\"text_11\">\r\n      <!-- 100 -->\r\n      <g transform=\"translate(20.878125 217.864327)scale(0.1 -0.1)\">\r\n       <use xlink:href=\"#DejaVuSans-31\"/>\r\n       <use x=\"63.623047\" xlink:href=\"#DejaVuSans-30\"/>\r\n       <use x=\"127.246094\" xlink:href=\"#DejaVuSans-30\"/>\r\n      </g>\r\n     </g>\r\n    </g>\r\n    <g id=\"ytick_3\">\r\n     <g id=\"line2d_11\">\r\n      <g>\r\n       <use style=\"stroke:#000000;stroke-width:0.8;\" x=\"46.965625\" xlink:href=\"#m36eb9171c5\" y=\"188.372092\"/>\r\n      </g>\r\n     </g>\r\n     <g id=\"text_12\">\r\n      <!-- 200 -->\r\n      <g transform=\"translate(20.878125 192.17131)scale(0.1 -0.1)\">\r\n       <use xlink:href=\"#DejaVuSans-32\"/>\r\n       <use x=\"63.623047\" xlink:href=\"#DejaVuSans-30\"/>\r\n       <use x=\"127.246094\" xlink:href=\"#DejaVuSans-30\"/>\r\n      </g>\r\n     </g>\r\n    </g>\r\n    <g id=\"ytick_4\">\r\n     <g id=\"line2d_12\">\r\n      <g>\r\n       <use style=\"stroke:#000000;stroke-width:0.8;\" x=\"46.965625\" xlink:href=\"#m36eb9171c5\" y=\"162.679075\"/>\r\n      </g>\r\n     </g>\r\n     <g id=\"text_13\">\r\n      <!-- 300 -->\r\n      <g transform=\"translate(20.878125 166.478294)scale(0.1 -0.1)\">\r\n       <use xlink:href=\"#DejaVuSans-33\"/>\r\n       <use x=\"63.623047\" xlink:href=\"#DejaVuSans-30\"/>\r\n       <use x=\"127.246094\" xlink:href=\"#DejaVuSans-30\"/>\r\n      </g>\r\n     </g>\r\n    </g>\r\n    <g id=\"ytick_5\">\r\n     <g id=\"line2d_13\">\r\n      <g>\r\n       <use style=\"stroke:#000000;stroke-width:0.8;\" x=\"46.965625\" xlink:href=\"#m36eb9171c5\" y=\"136.986058\"/>\r\n      </g>\r\n     </g>\r\n     <g id=\"text_14\">\r\n      <!-- 400 -->\r\n      <g transform=\"translate(20.878125 140.785277)scale(0.1 -0.1)\">\r\n       <use xlink:href=\"#DejaVuSans-34\"/>\r\n       <use x=\"63.623047\" xlink:href=\"#DejaVuSans-30\"/>\r\n       <use x=\"127.246094\" xlink:href=\"#DejaVuSans-30\"/>\r\n      </g>\r\n     </g>\r\n    </g>\r\n    <g id=\"ytick_6\">\r\n     <g id=\"line2d_14\">\r\n      <g>\r\n       <use style=\"stroke:#000000;stroke-width:0.8;\" x=\"46.965625\" xlink:href=\"#m36eb9171c5\" y=\"111.293042\"/>\r\n      </g>\r\n     </g>\r\n     <g id=\"text_15\">\r\n      <!-- 500 -->\r\n      <g transform=\"translate(20.878125 115.09226)scale(0.1 -0.1)\">\r\n       <use xlink:href=\"#DejaVuSans-35\"/>\r\n       <use x=\"63.623047\" xlink:href=\"#DejaVuSans-30\"/>\r\n       <use x=\"127.246094\" xlink:href=\"#DejaVuSans-30\"/>\r\n      </g>\r\n     </g>\r\n    </g>\r\n    <g id=\"ytick_7\">\r\n     <g id=\"line2d_15\">\r\n      <g>\r\n       <use style=\"stroke:#000000;stroke-width:0.8;\" x=\"46.965625\" xlink:href=\"#m36eb9171c5\" y=\"85.600025\"/>\r\n      </g>\r\n     </g>\r\n     <g id=\"text_16\">\r\n      <!-- 600 -->\r\n      <g transform=\"translate(20.878125 89.399244)scale(0.1 -0.1)\">\r\n       <use xlink:href=\"#DejaVuSans-36\"/>\r\n       <use x=\"63.623047\" xlink:href=\"#DejaVuSans-30\"/>\r\n       <use x=\"127.246094\" xlink:href=\"#DejaVuSans-30\"/>\r\n      </g>\r\n     </g>\r\n    </g>\r\n    <g id=\"ytick_8\">\r\n     <g id=\"line2d_16\">\r\n      <g>\r\n       <use style=\"stroke:#000000;stroke-width:0.8;\" x=\"46.965625\" xlink:href=\"#m36eb9171c5\" y=\"59.907008\"/>\r\n      </g>\r\n     </g>\r\n     <g id=\"text_17\">\r\n      <!-- 700 -->\r\n      <g transform=\"translate(20.878125 63.706227)scale(0.1 -0.1)\">\r\n       <use xlink:href=\"#DejaVuSans-37\"/>\r\n       <use x=\"63.623047\" xlink:href=\"#DejaVuSans-30\"/>\r\n       <use x=\"127.246094\" xlink:href=\"#DejaVuSans-30\"/>\r\n      </g>\r\n     </g>\r\n    </g>\r\n    <g id=\"ytick_9\">\r\n     <g id=\"line2d_17\">\r\n      <g>\r\n       <use style=\"stroke:#000000;stroke-width:0.8;\" x=\"46.965625\" xlink:href=\"#m36eb9171c5\" y=\"34.213992\"/>\r\n      </g>\r\n     </g>\r\n     <g id=\"text_18\">\r\n      <!-- 800 -->\r\n      <g transform=\"translate(20.878125 38.01321)scale(0.1 -0.1)\">\r\n       <defs>\r\n        <path d=\"M 2034 2216 \r\nQ 1584 2216 1326 1975 \r\nQ 1069 1734 1069 1313 \r\nQ 1069 891 1326 650 \r\nQ 1584 409 2034 409 \r\nQ 2484 409 2743 651 \r\nQ 3003 894 3003 1313 \r\nQ 3003 1734 2745 1975 \r\nQ 2488 2216 2034 2216 \r\nz\r\nM 1403 2484 \r\nQ 997 2584 770 2862 \r\nQ 544 3141 544 3541 \r\nQ 544 4100 942 4425 \r\nQ 1341 4750 2034 4750 \r\nQ 2731 4750 3128 4425 \r\nQ 3525 4100 3525 3541 \r\nQ 3525 3141 3298 2862 \r\nQ 3072 2584 2669 2484 \r\nQ 3125 2378 3379 2068 \r\nQ 3634 1759 3634 1313 \r\nQ 3634 634 3220 271 \r\nQ 2806 -91 2034 -91 \r\nQ 1263 -91 848 271 \r\nQ 434 634 434 1313 \r\nQ 434 1759 690 2068 \r\nQ 947 2378 1403 2484 \r\nz\r\nM 1172 3481 \r\nQ 1172 3119 1398 2916 \r\nQ 1625 2713 2034 2713 \r\nQ 2441 2713 2670 2916 \r\nQ 2900 3119 2900 3481 \r\nQ 2900 3844 2670 4047 \r\nQ 2441 4250 2034 4250 \r\nQ 1625 4250 1398 4047 \r\nQ 1172 3844 1172 3481 \r\nz\r\n\" id=\"DejaVuSans-38\" transform=\"scale(0.015625)\"/>\r\n       </defs>\r\n       <use xlink:href=\"#DejaVuSans-38\"/>\r\n       <use x=\"63.623047\" xlink:href=\"#DejaVuSans-30\"/>\r\n       <use x=\"127.246094\" xlink:href=\"#DejaVuSans-30\"/>\r\n      </g>\r\n     </g>\r\n    </g>\r\n    <g id=\"text_19\">\r\n     <!-- Count -->\r\n     <g transform=\"translate(14.798438 145.886562)rotate(-90)scale(0.1 -0.1)\">\r\n      <defs>\r\n       <path d=\"M 4122 4306 \r\nL 4122 3641 \r\nQ 3803 3938 3442 4084 \r\nQ 3081 4231 2675 4231 \r\nQ 1875 4231 1450 3742 \r\nQ 1025 3253 1025 2328 \r\nQ 1025 1406 1450 917 \r\nQ 1875 428 2675 428 \r\nQ 3081 428 3442 575 \r\nQ 3803 722 4122 1019 \r\nL 4122 359 \r\nQ 3791 134 3420 21 \r\nQ 3050 -91 2638 -91 \r\nQ 1578 -91 968 557 \r\nQ 359 1206 359 2328 \r\nQ 359 3453 968 4101 \r\nQ 1578 4750 2638 4750 \r\nQ 3056 4750 3426 4639 \r\nQ 3797 4528 4122 4306 \r\nz\r\n\" id=\"DejaVuSans-43\" transform=\"scale(0.015625)\"/>\r\n       <path d=\"M 1959 3097 \r\nQ 1497 3097 1228 2736 \r\nQ 959 2375 959 1747 \r\nQ 959 1119 1226 758 \r\nQ 1494 397 1959 397 \r\nQ 2419 397 2687 759 \r\nQ 2956 1122 2956 1747 \r\nQ 2956 2369 2687 2733 \r\nQ 2419 3097 1959 3097 \r\nz\r\nM 1959 3584 \r\nQ 2709 3584 3137 3096 \r\nQ 3566 2609 3566 1747 \r\nQ 3566 888 3137 398 \r\nQ 2709 -91 1959 -91 \r\nQ 1206 -91 779 398 \r\nQ 353 888 353 1747 \r\nQ 353 2609 779 3096 \r\nQ 1206 3584 1959 3584 \r\nz\r\n\" id=\"DejaVuSans-6f\" transform=\"scale(0.015625)\"/>\r\n      </defs>\r\n      <use xlink:href=\"#DejaVuSans-43\"/>\r\n      <use x=\"69.824219\" xlink:href=\"#DejaVuSans-6f\"/>\r\n      <use x=\"131.005859\" xlink:href=\"#DejaVuSans-75\"/>\r\n      <use x=\"194.384766\" xlink:href=\"#DejaVuSans-6e\"/>\r\n      <use x=\"257.763672\" xlink:href=\"#DejaVuSans-74\"/>\r\n     </g>\r\n    </g>\r\n   </g>\r\n   <g id=\"patch_33\">\r\n    <path d=\"M 46.965625 239.758125 \r\nL 46.965625 22.318125 \r\n\" style=\"fill:none;stroke:#000000;stroke-linecap:square;stroke-linejoin:miter;stroke-width:0.8;\"/>\r\n   </g>\r\n   <g id=\"patch_34\">\r\n    <path d=\"M 381.765625 239.758125 \r\nL 381.765625 22.318125 \r\n\" style=\"fill:none;stroke:#000000;stroke-linecap:square;stroke-linejoin:miter;stroke-width:0.8;\"/>\r\n   </g>\r\n   <g id=\"patch_35\">\r\n    <path d=\"M 46.965625 239.758125 \r\nL 381.765625 239.758125 \r\n\" style=\"fill:none;stroke:#000000;stroke-linecap:square;stroke-linejoin:miter;stroke-width:0.8;\"/>\r\n   </g>\r\n   <g id=\"patch_36\">\r\n    <path d=\"M 46.965625 22.318125 \r\nL 381.765625 22.318125 \r\n\" style=\"fill:none;stroke:#000000;stroke-linecap:square;stroke-linejoin:miter;stroke-width:0.8;\"/>\r\n   </g>\r\n   <g id=\"text_20\">\r\n    <!-- customer tenure vs churn prediction -->\r\n    <g transform=\"translate(104.966875 16.318125)scale(0.12 -0.12)\">\r\n     <defs>\r\n      <path d=\"M 3122 3366 \r\nL 3122 2828 \r\nQ 2878 2963 2633 3030 \r\nQ 2388 3097 2138 3097 \r\nQ 1578 3097 1268 2742 \r\nQ 959 2388 959 1747 \r\nQ 959 1106 1268 751 \r\nQ 1578 397 2138 397 \r\nQ 2388 397 2633 464 \r\nQ 2878 531 3122 666 \r\nL 3122 134 \r\nQ 2881 22 2623 -34 \r\nQ 2366 -91 2075 -91 \r\nQ 1284 -91 818 406 \r\nQ 353 903 353 1747 \r\nQ 353 2603 823 3093 \r\nQ 1294 3584 2113 3584 \r\nQ 2378 3584 2631 3529 \r\nQ 2884 3475 3122 3366 \r\nz\r\n\" id=\"DejaVuSans-63\" transform=\"scale(0.015625)\"/>\r\n      <path d=\"M 2834 3397 \r\nL 2834 2853 \r\nQ 2591 2978 2328 3040 \r\nQ 2066 3103 1784 3103 \r\nQ 1356 3103 1142 2972 \r\nQ 928 2841 928 2578 \r\nQ 928 2378 1081 2264 \r\nQ 1234 2150 1697 2047 \r\nL 1894 2003 \r\nQ 2506 1872 2764 1633 \r\nQ 3022 1394 3022 966 \r\nQ 3022 478 2636 193 \r\nQ 2250 -91 1575 -91 \r\nQ 1294 -91 989 -36 \r\nQ 684 19 347 128 \r\nL 347 722 \r\nQ 666 556 975 473 \r\nQ 1284 391 1588 391 \r\nQ 1994 391 2212 530 \r\nQ 2431 669 2431 922 \r\nQ 2431 1156 2273 1281 \r\nQ 2116 1406 1581 1522 \r\nL 1381 1569 \r\nQ 847 1681 609 1914 \r\nQ 372 2147 372 2553 \r\nQ 372 3047 722 3315 \r\nQ 1072 3584 1716 3584 \r\nQ 2034 3584 2315 3537 \r\nQ 2597 3491 2834 3397 \r\nz\r\n\" id=\"DejaVuSans-73\" transform=\"scale(0.015625)\"/>\r\n      <path d=\"M 3328 2828 \r\nQ 3544 3216 3844 3400 \r\nQ 4144 3584 4550 3584 \r\nQ 5097 3584 5394 3201 \r\nQ 5691 2819 5691 2113 \r\nL 5691 0 \r\nL 5113 0 \r\nL 5113 2094 \r\nQ 5113 2597 4934 2840 \r\nQ 4756 3084 4391 3084 \r\nQ 3944 3084 3684 2787 \r\nQ 3425 2491 3425 1978 \r\nL 3425 0 \r\nL 2847 0 \r\nL 2847 2094 \r\nQ 2847 2600 2669 2842 \r\nQ 2491 3084 2119 3084 \r\nQ 1678 3084 1418 2786 \r\nQ 1159 2488 1159 1978 \r\nL 1159 0 \r\nL 581 0 \r\nL 581 3500 \r\nL 1159 3500 \r\nL 1159 2956 \r\nQ 1356 3278 1631 3431 \r\nQ 1906 3584 2284 3584 \r\nQ 2666 3584 2933 3390 \r\nQ 3200 3197 3328 2828 \r\nz\r\n\" id=\"DejaVuSans-6d\" transform=\"scale(0.015625)\"/>\r\n      <path id=\"DejaVuSans-20\" transform=\"scale(0.015625)\"/>\r\n      <path d=\"M 191 3500 \r\nL 800 3500 \r\nL 1894 563 \r\nL 2988 3500 \r\nL 3597 3500 \r\nL 2284 0 \r\nL 1503 0 \r\nL 191 3500 \r\nz\r\n\" id=\"DejaVuSans-76\" transform=\"scale(0.015625)\"/>\r\n      <path d=\"M 3513 2113 \r\nL 3513 0 \r\nL 2938 0 \r\nL 2938 2094 \r\nQ 2938 2591 2744 2837 \r\nQ 2550 3084 2163 3084 \r\nQ 1697 3084 1428 2787 \r\nQ 1159 2491 1159 1978 \r\nL 1159 0 \r\nL 581 0 \r\nL 581 4863 \r\nL 1159 4863 \r\nL 1159 2956 \r\nQ 1366 3272 1645 3428 \r\nQ 1925 3584 2291 3584 \r\nQ 2894 3584 3203 3211 \r\nQ 3513 2838 3513 2113 \r\nz\r\n\" id=\"DejaVuSans-68\" transform=\"scale(0.015625)\"/>\r\n      <path d=\"M 1159 525 \r\nL 1159 -1331 \r\nL 581 -1331 \r\nL 581 3500 \r\nL 1159 3500 \r\nL 1159 2969 \r\nQ 1341 3281 1617 3432 \r\nQ 1894 3584 2278 3584 \r\nQ 2916 3584 3314 3078 \r\nQ 3713 2572 3713 1747 \r\nQ 3713 922 3314 415 \r\nQ 2916 -91 2278 -91 \r\nQ 1894 -91 1617 61 \r\nQ 1341 213 1159 525 \r\nz\r\nM 3116 1747 \r\nQ 3116 2381 2855 2742 \r\nQ 2594 3103 2138 3103 \r\nQ 1681 3103 1420 2742 \r\nQ 1159 2381 1159 1747 \r\nQ 1159 1113 1420 752 \r\nQ 1681 391 2138 391 \r\nQ 2594 391 2855 752 \r\nQ 3116 1113 3116 1747 \r\nz\r\n\" id=\"DejaVuSans-70\" transform=\"scale(0.015625)\"/>\r\n      <path d=\"M 2906 2969 \r\nL 2906 4863 \r\nL 3481 4863 \r\nL 3481 0 \r\nL 2906 0 \r\nL 2906 525 \r\nQ 2725 213 2448 61 \r\nQ 2172 -91 1784 -91 \r\nQ 1150 -91 751 415 \r\nQ 353 922 353 1747 \r\nQ 353 2572 751 3078 \r\nQ 1150 3584 1784 3584 \r\nQ 2172 3584 2448 3432 \r\nQ 2725 3281 2906 2969 \r\nz\r\nM 947 1747 \r\nQ 947 1113 1208 752 \r\nQ 1469 391 1925 391 \r\nQ 2381 391 2643 752 \r\nQ 2906 1113 2906 1747 \r\nQ 2906 2381 2643 2742 \r\nQ 2381 3103 1925 3103 \r\nQ 1469 3103 1208 2742 \r\nQ 947 2381 947 1747 \r\nz\r\n\" id=\"DejaVuSans-64\" transform=\"scale(0.015625)\"/>\r\n      <path d=\"M 603 3500 \r\nL 1178 3500 \r\nL 1178 0 \r\nL 603 0 \r\nL 603 3500 \r\nz\r\nM 603 4863 \r\nL 1178 4863 \r\nL 1178 4134 \r\nL 603 4134 \r\nL 603 4863 \r\nz\r\n\" id=\"DejaVuSans-69\" transform=\"scale(0.015625)\"/>\r\n     </defs>\r\n     <use xlink:href=\"#DejaVuSans-63\"/>\r\n     <use x=\"54.980469\" xlink:href=\"#DejaVuSans-75\"/>\r\n     <use x=\"118.359375\" xlink:href=\"#DejaVuSans-73\"/>\r\n     <use x=\"170.458984\" xlink:href=\"#DejaVuSans-74\"/>\r\n     <use x=\"209.667969\" xlink:href=\"#DejaVuSans-6f\"/>\r\n     <use x=\"270.849609\" xlink:href=\"#DejaVuSans-6d\"/>\r\n     <use x=\"368.261719\" xlink:href=\"#DejaVuSans-65\"/>\r\n     <use x=\"429.785156\" xlink:href=\"#DejaVuSans-72\"/>\r\n     <use x=\"470.898438\" xlink:href=\"#DejaVuSans-20\"/>\r\n     <use x=\"502.685547\" xlink:href=\"#DejaVuSans-74\"/>\r\n     <use x=\"541.894531\" xlink:href=\"#DejaVuSans-65\"/>\r\n     <use x=\"603.417969\" xlink:href=\"#DejaVuSans-6e\"/>\r\n     <use x=\"666.796875\" xlink:href=\"#DejaVuSans-75\"/>\r\n     <use x=\"730.175781\" xlink:href=\"#DejaVuSans-72\"/>\r\n     <use x=\"769.039062\" xlink:href=\"#DejaVuSans-65\"/>\r\n     <use x=\"830.5625\" xlink:href=\"#DejaVuSans-20\"/>\r\n     <use x=\"862.349609\" xlink:href=\"#DejaVuSans-76\"/>\r\n     <use x=\"921.529297\" xlink:href=\"#DejaVuSans-73\"/>\r\n     <use x=\"973.628906\" xlink:href=\"#DejaVuSans-20\"/>\r\n     <use x=\"1005.416016\" xlink:href=\"#DejaVuSans-63\"/>\r\n     <use x=\"1060.396484\" xlink:href=\"#DejaVuSans-68\"/>\r\n     <use x=\"1123.775391\" xlink:href=\"#DejaVuSans-75\"/>\r\n     <use x=\"1187.154297\" xlink:href=\"#DejaVuSans-72\"/>\r\n     <use x=\"1226.517578\" xlink:href=\"#DejaVuSans-6e\"/>\r\n     <use x=\"1289.896484\" xlink:href=\"#DejaVuSans-20\"/>\r\n     <use x=\"1321.683594\" xlink:href=\"#DejaVuSans-70\"/>\r\n     <use x=\"1385.160156\" xlink:href=\"#DejaVuSans-72\"/>\r\n     <use x=\"1424.023438\" xlink:href=\"#DejaVuSans-65\"/>\r\n     <use x=\"1485.546875\" xlink:href=\"#DejaVuSans-64\"/>\r\n     <use x=\"1549.023438\" xlink:href=\"#DejaVuSans-69\"/>\r\n     <use x=\"1576.806641\" xlink:href=\"#DejaVuSans-63\"/>\r\n     <use x=\"1631.787109\" xlink:href=\"#DejaVuSans-74\"/>\r\n     <use x=\"1670.996094\" xlink:href=\"#DejaVuSans-69\"/>\r\n     <use x=\"1698.779297\" xlink:href=\"#DejaVuSans-6f\"/>\r\n     <use x=\"1759.960938\" xlink:href=\"#DejaVuSans-6e\"/>\r\n    </g>\r\n   </g>\r\n   <g id=\"legend_1\">\r\n    <g id=\"patch_37\">\r\n     <path d=\"M 190.292969 74.3525 \r\nL 238.438281 74.3525 \r\nQ 240.438281 74.3525 240.438281 72.3525 \r\nL 240.438281 29.318125 \r\nQ 240.438281 27.318125 238.438281 27.318125 \r\nL 190.292969 27.318125 \r\nQ 188.292969 27.318125 188.292969 29.318125 \r\nL 188.292969 72.3525 \r\nQ 188.292969 74.3525 190.292969 74.3525 \r\nz\r\n\" style=\"fill:#ffffff;opacity:0.8;stroke:#cccccc;stroke-linejoin:miter;\"/>\r\n    </g>\r\n    <g id=\"text_21\">\r\n     <!-- Churn -->\r\n     <g transform=\"translate(199.4 38.916562)scale(0.1 -0.1)\">\r\n      <use xlink:href=\"#DejaVuSans-43\"/>\r\n      <use x=\"69.824219\" xlink:href=\"#DejaVuSans-68\"/>\r\n      <use x=\"133.203125\" xlink:href=\"#DejaVuSans-75\"/>\r\n      <use x=\"196.582031\" xlink:href=\"#DejaVuSans-72\"/>\r\n      <use x=\"235.945312\" xlink:href=\"#DejaVuSans-6e\"/>\r\n     </g>\r\n    </g>\r\n    <g id=\"patch_38\">\r\n     <path d=\"M 192.292969 53.594687 \r\nL 212.292969 53.594687 \r\nL 212.292969 46.594687 \r\nL 192.292969 46.594687 \r\nz\r\n\" style=\"fill:#1f77b4;fill-opacity:0.75;stroke:#000000;stroke-linejoin:miter;\"/>\r\n    </g>\r\n    <g id=\"text_22\">\r\n     <!-- No -->\r\n     <g transform=\"translate(220.292969 53.594687)scale(0.1 -0.1)\">\r\n      <defs>\r\n       <path d=\"M 628 4666 \r\nL 1478 4666 \r\nL 3547 763 \r\nL 3547 4666 \r\nL 4159 4666 \r\nL 4159 0 \r\nL 3309 0 \r\nL 1241 3903 \r\nL 1241 0 \r\nL 628 0 \r\nL 628 4666 \r\nz\r\n\" id=\"DejaVuSans-4e\" transform=\"scale(0.015625)\"/>\r\n      </defs>\r\n      <use xlink:href=\"#DejaVuSans-4e\"/>\r\n      <use x=\"74.804688\" xlink:href=\"#DejaVuSans-6f\"/>\r\n     </g>\r\n    </g>\r\n    <g id=\"patch_39\">\r\n     <path d=\"M 192.292969 68.272812 \r\nL 212.292969 68.272812 \r\nL 212.292969 61.272812 \r\nL 192.292969 61.272812 \r\nz\r\n\" style=\"fill:#ff7f0e;fill-opacity:0.75;stroke:#000000;stroke-linejoin:miter;\"/>\r\n    </g>\r\n    <g id=\"text_23\">\r\n     <!-- Yes -->\r\n     <g transform=\"translate(220.292969 68.272812)scale(0.1 -0.1)\">\r\n      <defs>\r\n       <path d=\"M -13 4666 \r\nL 666 4666 \r\nL 1959 2747 \r\nL 3244 4666 \r\nL 3922 4666 \r\nL 2272 2222 \r\nL 2272 0 \r\nL 1638 0 \r\nL 1638 2222 \r\nL -13 4666 \r\nz\r\n\" id=\"DejaVuSans-59\" transform=\"scale(0.015625)\"/>\r\n      </defs>\r\n      <use xlink:href=\"#DejaVuSans-59\"/>\r\n      <use x=\"47.833984\" xlink:href=\"#DejaVuSans-65\"/>\r\n      <use x=\"109.357422\" xlink:href=\"#DejaVuSans-73\"/>\r\n     </g>\r\n    </g>\r\n   </g>\r\n  </g>\r\n </g>\r\n <defs>\r\n  <clipPath id=\"pe5a5aaf72f\">\r\n   <rect height=\"217.44\" width=\"334.8\" x=\"46.965625\" y=\"22.318125\"/>\r\n  </clipPath>\r\n </defs>\r\n</svg>\r\n",
      "image/png": "[encoded data removed]"
     },
     "metadata": {
      "needs_background": "light"
     }
    }
   ],
   "source": [
    "#checking relation between tenure and churn\n",
    "plt.title(\"customer tenure vs churn prediction\")\n",
    "sns.histplot(data=df,x=\"tenure\",hue=\"Churn\",multiple=\"dodge\")"
   ]
  },
  {
   "cell_type": "code",
   "execution_count": 7,
   "metadata": {},
   "outputs": [
    {
     "output_type": "execute_result",
     "data": {
      "text/plain": [
       "<AxesSubplot:title={'center':'customer tenure vs churn prediction'}, xlabel='MonthlyCharges', ylabel='Count'>"
      ]
     },
     "metadata": {},
     "execution_count": 7
    },
    {
     "output_type": "display_data",
     "data": {
      "text/plain": "<Figure size 432x288 with 1 Axes>",
      "image/svg+xml": "<?xml version=\"1.0\" encoding=\"utf-8\" standalone=\"no\"?>\r\n<!DOCTYPE svg PUBLIC \"-//W3C//DTD SVG 1.1//EN\"\r\n  \"http://www.w3.org/Graphics/SVG/1.1/DTD/svg11.dtd\">\r\n<svg height=\"277.314375pt\" version=\"1.1\" viewBox=\"0 0 395.328125 277.314375\" width=\"395.328125pt\" xmlns=\"http://www.w3.org/2000/svg\" xmlns:xlink=\"http://www.w3.org/1999/xlink\">\r\n <metadata>\r\n  <rdf:RDF xmlns:cc=\"http://creativecommons.org/ns#\" xmlns:dc=\"http://purl.org/dc/elements/1.1/\" xmlns:rdf=\"http://www.w3.org/1999/02/22-rdf-syntax-ns#\">\r\n   <cc:Work>\r\n    <dc:type rdf:resource=\"http://purl.org/dc/dcmitype/StillImage\"/>\r\n    <dc:date>2021-03-30T16:20:05.209140</dc:date>\r\n    <dc:format>image/svg+xml</dc:format>\r\n    <dc:creator>\r\n     <cc:Agent>\r\n      <dc:title>Matplotlib v3.4.0, https://matplotlib.org/</dc:title>\r\n     </cc:Agent>\r\n    </dc:creator>\r\n   </cc:Work>\r\n  </rdf:RDF>\r\n </metadata>\r\n <defs>\r\n  <style type=\"text/css\">*{stroke-linecap:butt;stroke-linejoin:round;}</style>\r\n </defs>\r\n <g id=\"figure_1\">\r\n  <g id=\"patch_1\">\r\n   <path d=\"M 0 277.314375 \r\nL 395.328125 277.314375 \r\nL 395.328125 0 \r\nL 0 0 \r\nz\r\n\" style=\"fill:none;\"/>\r\n  </g>\r\n  <g id=\"axes_1\">\r\n   <g id=\"patch_2\">\r\n    <path d=\"M 53.328125 239.758125 \r\nL 388.128125 239.758125 \r\nL 388.128125 22.318125 \r\nL 53.328125 22.318125 \r\nz\r\n\" style=\"fill:#ffffff;\"/>\r\n   </g>\r\n   <g id=\"patch_3\">\r\n    <path clip-path=\"url(#p0c633aed68)\" d=\"M 77.000852 239.758125 \r\nL 85.455398 239.758125 \r\nL 85.455398 219.827786 \r\nL 77.000852 219.827786 \r\nz\r\n\" style=\"fill:#ff7f0e;fill-opacity:0.75;stroke:#000000;stroke-linejoin:miter;stroke-width:0.845455;\"/>\r\n   </g>\r\n   <g id=\"patch_4\">\r\n    <path clip-path=\"url(#p0c633aed68)\" d=\"M 93.909943 239.758125 \r\nL 102.364489 239.758125 \r\nL 102.364489 230.836926 \r\nL 93.909943 230.836926 \r\nz\r\n\" style=\"fill:#ff7f0e;fill-opacity:0.75;stroke:#000000;stroke-linejoin:miter;stroke-width:0.845455;\"/>\r\n   </g>\r\n   <g id=\"patch_5\">\r\n    <path clip-path=\"url(#p0c633aed68)\" d=\"M 110.819034 239.758125 \r\nL 119.27358 239.758125 \r\nL 119.27358 232.924866 \r\nL 110.819034 232.924866 \r\nz\r\n\" style=\"fill:#ff7f0e;fill-opacity:0.75;stroke:#000000;stroke-linejoin:miter;stroke-width:0.845455;\"/>\r\n   </g>\r\n   <g id=\"patch_6\">\r\n    <path clip-path=\"url(#p0c633aed68)\" d=\"M 127.728125 239.758125 \r\nL 136.18267 239.758125 \r\nL 136.18267 233.304491 \r\nL 127.728125 233.304491 \r\nz\r\n\" style=\"fill:#ff7f0e;fill-opacity:0.75;stroke:#000000;stroke-linejoin:miter;stroke-width:0.845455;\"/>\r\n   </g>\r\n   <g id=\"patch_7\">\r\n    <path clip-path=\"url(#p0c633aed68)\" d=\"M 144.637216 239.758125 \r\nL 153.091761 239.758125 \r\nL 153.091761 222.105539 \r\nL 144.637216 222.105539 \r\nz\r\n\" style=\"fill:#ff7f0e;fill-opacity:0.75;stroke:#000000;stroke-linejoin:miter;stroke-width:0.845455;\"/>\r\n   </g>\r\n   <g id=\"patch_8\">\r\n    <path clip-path=\"url(#p0c633aed68)\" d=\"M 161.546307 239.758125 \r\nL 170.000852 239.758125 \r\nL 170.000852 223.244415 \r\nL 161.546307 223.244415 \r\nz\r\n\" style=\"fill:#ff7f0e;fill-opacity:0.75;stroke:#000000;stroke-linejoin:miter;stroke-width:0.845455;\"/>\r\n   </g>\r\n   <g id=\"patch_9\">\r\n    <path clip-path=\"url(#p0c633aed68)\" d=\"M 178.455398 239.758125 \r\nL 186.909943 239.758125 \r\nL 186.909943 226.091607 \r\nL 178.455398 226.091607 \r\nz\r\n\" style=\"fill:#ff7f0e;fill-opacity:0.75;stroke:#000000;stroke-linejoin:miter;stroke-width:0.845455;\"/>\r\n   </g>\r\n   <g id=\"patch_10\">\r\n    <path clip-path=\"url(#p0c633aed68)\" d=\"M 195.364489 239.758125 \r\nL 203.819034 239.758125 \r\nL 203.819034 233.304491 \r\nL 195.364489 233.304491 \r\nz\r\n\" style=\"fill:#ff7f0e;fill-opacity:0.75;stroke:#000000;stroke-linejoin:miter;stroke-width:0.845455;\"/>\r\n   </g>\r\n   <g id=\"patch_11\">\r\n    <path clip-path=\"url(#p0c633aed68)\" d=\"M 212.27358 239.758125 \r\nL 220.728125 239.758125 \r\nL 220.728125 235.772057 \r\nL 212.27358 235.772057 \r\nz\r\n\" style=\"fill:#ff7f0e;fill-opacity:0.75;stroke:#000000;stroke-linejoin:miter;stroke-width:0.845455;\"/>\r\n   </g>\r\n   <g id=\"patch_12\">\r\n    <path clip-path=\"url(#p0c633aed68)\" d=\"M 229.18267 239.758125 \r\nL 237.637216 239.758125 \r\nL 237.637216 205.022391 \r\nL 229.18267 205.022391 \r\nz\r\n\" style=\"fill:#ff7f0e;fill-opacity:0.75;stroke:#000000;stroke-linejoin:miter;stroke-width:0.845455;\"/>\r\n   </g>\r\n   <g id=\"patch_13\">\r\n    <path clip-path=\"url(#p0c633aed68)\" d=\"M 246.091761 239.758125 \r\nL 254.546307 239.758125 \r\nL 254.546307 196.67063 \r\nL 246.091761 196.67063 \r\nz\r\n\" style=\"fill:#ff7f0e;fill-opacity:0.75;stroke:#000000;stroke-linejoin:miter;stroke-width:0.845455;\"/>\r\n   </g>\r\n   <g id=\"patch_14\">\r\n    <path clip-path=\"url(#p0c633aed68)\" d=\"M 263.000852 239.758125 \r\nL 271.455398 239.758125 \r\nL 271.455398 201.415949 \r\nL 263.000852 201.415949 \r\nz\r\n\" style=\"fill:#ff7f0e;fill-opacity:0.75;stroke:#000000;stroke-linejoin:miter;stroke-width:0.845455;\"/>\r\n   </g>\r\n   <g id=\"patch_15\">\r\n    <path clip-path=\"url(#p0c633aed68)\" d=\"M 279.909943 239.758125 \r\nL 288.364489 239.758125 \r\nL 288.364489 203.883515 \r\nL 279.909943 203.883515 \r\nz\r\n\" style=\"fill:#ff7f0e;fill-opacity:0.75;stroke:#000000;stroke-linejoin:miter;stroke-width:0.845455;\"/>\r\n   </g>\r\n   <g id=\"patch_16\">\r\n    <path clip-path=\"url(#p0c633aed68)\" d=\"M 296.819034 239.758125 \r\nL 305.27358 239.758125 \r\nL 305.27358 205.212204 \r\nL 296.819034 205.212204 \r\nz\r\n\" style=\"fill:#ff7f0e;fill-opacity:0.75;stroke:#000000;stroke-linejoin:miter;stroke-width:0.845455;\"/>\r\n   </g>\r\n   <g id=\"patch_17\">\r\n    <path clip-path=\"url(#p0c633aed68)\" d=\"M 313.728125 239.758125 \r\nL 322.18267 239.758125 \r\nL 322.18267 206.730706 \r\nL 313.728125 206.730706 \r\nz\r\n\" style=\"fill:#ff7f0e;fill-opacity:0.75;stroke:#000000;stroke-linejoin:miter;stroke-width:0.845455;\"/>\r\n   </g>\r\n   <g id=\"patch_18\">\r\n    <path clip-path=\"url(#p0c633aed68)\" d=\"M 330.637216 239.758125 \r\nL 339.091761 239.758125 \r\nL 339.091761 214.892654 \r\nL 330.637216 214.892654 \r\nz\r\n\" style=\"fill:#ff7f0e;fill-opacity:0.75;stroke:#000000;stroke-linejoin:miter;stroke-width:0.845455;\"/>\r\n   </g>\r\n   <g id=\"patch_19\">\r\n    <path clip-path=\"url(#p0c633aed68)\" d=\"M 347.546307 239.758125 \r\nL 356.000852 239.758125 \r\nL 356.000852 231.785989 \r\nL 347.546307 231.785989 \r\nz\r\n\" style=\"fill:#ff7f0e;fill-opacity:0.75;stroke:#000000;stroke-linejoin:miter;stroke-width:0.845455;\"/>\r\n   </g>\r\n   <g id=\"patch_20\">\r\n    <path clip-path=\"url(#p0c633aed68)\" d=\"M 364.455398 239.758125 \r\nL 372.909943 239.758125 \r\nL 372.909943 237.859997 \r\nL 364.455398 237.859997 \r\nz\r\n\" style=\"fill:#ff7f0e;fill-opacity:0.75;stroke:#000000;stroke-linejoin:miter;stroke-width:0.845455;\"/>\r\n   </g>\r\n   <g id=\"patch_21\">\r\n    <path clip-path=\"url(#p0c633aed68)\" d=\"M 68.546307 239.758125 \r\nL 77.000852 239.758125 \r\nL 77.000852 32.672411 \r\nL 68.546307 32.672411 \r\nz\r\n\" style=\"fill:#1f77b4;fill-opacity:0.75;stroke:#000000;stroke-linejoin:miter;stroke-width:0.845455;\"/>\r\n   </g>\r\n   <g id=\"patch_22\">\r\n    <path clip-path=\"url(#p0c633aed68)\" d=\"M 85.455398 239.758125 \r\nL 93.909943 239.758125 \r\nL 93.909943 168.768155 \r\nL 85.455398 168.768155 \r\nz\r\n\" style=\"fill:#1f77b4;fill-opacity:0.75;stroke:#000000;stroke-linejoin:miter;stroke-width:0.845455;\"/>\r\n   </g>\r\n   <g id=\"patch_23\">\r\n    <path clip-path=\"url(#p0c633aed68)\" d=\"M 102.364489 239.758125 \r\nL 110.819034 239.758125 \r\nL 110.819034 226.091607 \r\nL 102.364489 226.091607 \r\nz\r\n\" style=\"fill:#1f77b4;fill-opacity:0.75;stroke:#000000;stroke-linejoin:miter;stroke-width:0.845455;\"/>\r\n   </g>\r\n   <g id=\"patch_24\">\r\n    <path clip-path=\"url(#p0c633aed68)\" d=\"M 119.27358 239.758125 \r\nL 127.728125 239.758125 \r\nL 127.728125 220.397224 \r\nL 119.27358 220.397224 \r\nz\r\n\" style=\"fill:#1f77b4;fill-opacity:0.75;stroke:#000000;stroke-linejoin:miter;stroke-width:0.845455;\"/>\r\n   </g>\r\n   <g id=\"patch_25\">\r\n    <path clip-path=\"url(#p0c633aed68)\" d=\"M 136.18267 239.758125 \r\nL 144.637216 239.758125 \r\nL 144.637216 207.300144 \r\nL 136.18267 207.300144 \r\nz\r\n\" style=\"fill:#1f77b4;fill-opacity:0.75;stroke:#000000;stroke-linejoin:miter;stroke-width:0.845455;\"/>\r\n   </g>\r\n   <g id=\"patch_26\">\r\n    <path clip-path=\"url(#p0c633aed68)\" d=\"M 153.091761 239.758125 \r\nL 161.546307 239.758125 \r\nL 161.546307 195.721566 \r\nL 153.091761 195.721566 \r\nz\r\n\" style=\"fill:#1f77b4;fill-opacity:0.75;stroke:#000000;stroke-linejoin:miter;stroke-width:0.845455;\"/>\r\n   </g>\r\n   <g id=\"patch_27\">\r\n    <path clip-path=\"url(#p0c633aed68)\" d=\"M 170.000852 239.758125 \r\nL 178.455398 239.758125 \r\nL 178.455398 191.355873 \r\nL 170.000852 191.355873 \r\nz\r\n\" style=\"fill:#1f77b4;fill-opacity:0.75;stroke:#000000;stroke-linejoin:miter;stroke-width:0.845455;\"/>\r\n   </g>\r\n   <g id=\"patch_28\">\r\n    <path clip-path=\"url(#p0c633aed68)\" d=\"M 186.909943 239.758125 \r\nL 195.364489 239.758125 \r\nL 195.364489 196.291004 \r\nL 186.909943 196.291004 \r\nz\r\n\" style=\"fill:#1f77b4;fill-opacity:0.75;stroke:#000000;stroke-linejoin:miter;stroke-width:0.845455;\"/>\r\n   </g>\r\n   <g id=\"patch_29\">\r\n    <path clip-path=\"url(#p0c633aed68)\" d=\"M 203.819034 239.758125 \r\nL 212.27358 239.758125 \r\nL 212.27358 199.897447 \r\nL 203.819034 199.897447 \r\nz\r\n\" style=\"fill:#1f77b4;fill-opacity:0.75;stroke:#000000;stroke-linejoin:miter;stroke-width:0.845455;\"/>\r\n   </g>\r\n   <g id=\"patch_30\">\r\n    <path clip-path=\"url(#p0c633aed68)\" d=\"M 220.728125 239.758125 \r\nL 229.18267 239.758125 \r\nL 229.18267 182.244861 \r\nL 220.728125 182.244861 \r\nz\r\n\" style=\"fill:#1f77b4;fill-opacity:0.75;stroke:#000000;stroke-linejoin:miter;stroke-width:0.845455;\"/>\r\n   </g>\r\n   <g id=\"patch_31\">\r\n    <path clip-path=\"url(#p0c633aed68)\" d=\"M 237.637216 239.758125 \r\nL 246.091761 239.758125 \r\nL 246.091761 177.119916 \r\nL 237.637216 177.119916 \r\nz\r\n\" style=\"fill:#1f77b4;fill-opacity:0.75;stroke:#000000;stroke-linejoin:miter;stroke-width:0.845455;\"/>\r\n   </g>\r\n   <g id=\"patch_32\">\r\n    <path clip-path=\"url(#p0c633aed68)\" d=\"M 254.546307 239.758125 \r\nL 263.000852 239.758125 \r\nL 263.000852 171.235721 \r\nL 254.546307 171.235721 \r\nz\r\n\" style=\"fill:#1f77b4;fill-opacity:0.75;stroke:#000000;stroke-linejoin:miter;stroke-width:0.845455;\"/>\r\n   </g>\r\n   <g id=\"patch_33\">\r\n    <path clip-path=\"url(#p0c633aed68)\" d=\"M 271.455398 239.758125 \r\nL 279.909943 239.758125 \r\nL 279.909943 173.893099 \r\nL 271.455398 173.893099 \r\nz\r\n\" style=\"fill:#1f77b4;fill-opacity:0.75;stroke:#000000;stroke-linejoin:miter;stroke-width:0.845455;\"/>\r\n   </g>\r\n   <g id=\"patch_34\">\r\n    <path clip-path=\"url(#p0c633aed68)\" d=\"M 288.364489 239.758125 \r\nL 296.819034 239.758125 \r\nL 296.819034 185.851303 \r\nL 288.364489 185.851303 \r\nz\r\n\" style=\"fill:#1f77b4;fill-opacity:0.75;stroke:#000000;stroke-linejoin:miter;stroke-width:0.845455;\"/>\r\n   </g>\r\n   <g id=\"patch_35\">\r\n    <path clip-path=\"url(#p0c633aed68)\" d=\"M 305.27358 239.758125 \r\nL 313.728125 239.758125 \r\nL 313.728125 190.786435 \r\nL 305.27358 190.786435 \r\nz\r\n\" style=\"fill:#1f77b4;fill-opacity:0.75;stroke:#000000;stroke-linejoin:miter;stroke-width:0.845455;\"/>\r\n   </g>\r\n   <g id=\"patch_36\">\r\n    <path clip-path=\"url(#p0c633aed68)\" d=\"M 322.18267 239.758125 \r\nL 330.637216 239.758125 \r\nL 330.637216 191.545686 \r\nL 322.18267 191.545686 \r\nz\r\n\" style=\"fill:#1f77b4;fill-opacity:0.75;stroke:#000000;stroke-linejoin:miter;stroke-width:0.845455;\"/>\r\n   </g>\r\n   <g id=\"patch_37\">\r\n    <path clip-path=\"url(#p0c633aed68)\" d=\"M 339.091761 239.758125 \r\nL 347.546307 239.758125 \r\nL 347.546307 203.693702 \r\nL 339.091761 203.693702 \r\nz\r\n\" style=\"fill:#1f77b4;fill-opacity:0.75;stroke:#000000;stroke-linejoin:miter;stroke-width:0.845455;\"/>\r\n   </g>\r\n   <g id=\"patch_38\">\r\n    <path clip-path=\"url(#p0c633aed68)\" d=\"M 356.000852 239.758125 \r\nL 364.455398 239.758125 \r\nL 364.455398 220.77685 \r\nL 356.000852 220.77685 \r\nz\r\n\" style=\"fill:#1f77b4;fill-opacity:0.75;stroke:#000000;stroke-linejoin:miter;stroke-width:0.845455;\"/>\r\n   </g>\r\n   <g id=\"matplotlib.axis_1\">\r\n    <g id=\"xtick_1\">\r\n     <g id=\"line2d_1\">\r\n      <defs>\r\n       <path d=\"M 0 0 \r\nL 0 3.5 \r\n\" id=\"m38ca97001d\" style=\"stroke:#000000;stroke-width:0.8;\"/>\r\n      </defs>\r\n      <g>\r\n       <use style=\"stroke:#000000;stroke-width:0.8;\" x=\"73.846171\" xlink:href=\"#m38ca97001d\" y=\"239.758125\"/>\r\n      </g>\r\n     </g>\r\n     <g id=\"text_1\">\r\n      <!-- 20 -->\r\n      <g transform=\"translate(67.483671 254.356562)scale(0.1 -0.1)\">\r\n       <defs>\r\n        <path d=\"M 1228 531 \r\nL 3431 531 \r\nL 3431 0 \r\nL 469 0 \r\nL 469 531 \r\nQ 828 903 1448 1529 \r\nQ 2069 2156 2228 2338 \r\nQ 2531 2678 2651 2914 \r\nQ 2772 3150 2772 3378 \r\nQ 2772 3750 2511 3984 \r\nQ 2250 4219 1831 4219 \r\nQ 1534 4219 1204 4116 \r\nQ 875 4013 500 3803 \r\nL 500 4441 \r\nQ 881 4594 1212 4672 \r\nQ 1544 4750 1819 4750 \r\nQ 2544 4750 2975 4387 \r\nQ 3406 4025 3406 3419 \r\nQ 3406 3131 3298 2873 \r\nQ 3191 2616 2906 2266 \r\nQ 2828 2175 2409 1742 \r\nQ 1991 1309 1228 531 \r\nz\r\n\" id=\"DejaVuSans-32\" transform=\"scale(0.015625)\"/>\r\n        <path d=\"M 2034 4250 \r\nQ 1547 4250 1301 3770 \r\nQ 1056 3291 1056 2328 \r\nQ 1056 1369 1301 889 \r\nQ 1547 409 2034 409 \r\nQ 2525 409 2770 889 \r\nQ 3016 1369 3016 2328 \r\nQ 3016 3291 2770 3770 \r\nQ 2525 4250 2034 4250 \r\nz\r\nM 2034 4750 \r\nQ 2819 4750 3233 4129 \r\nQ 3647 3509 3647 2328 \r\nQ 3647 1150 3233 529 \r\nQ 2819 -91 2034 -91 \r\nQ 1250 -91 836 529 \r\nQ 422 1150 422 2328 \r\nQ 422 3509 836 4129 \r\nQ 1250 4750 2034 4750 \r\nz\r\n\" id=\"DejaVuSans-30\" transform=\"scale(0.015625)\"/>\r\n       </defs>\r\n       <use xlink:href=\"#DejaVuSans-32\"/>\r\n       <use x=\"63.623047\" xlink:href=\"#DejaVuSans-30\"/>\r\n      </g>\r\n     </g>\r\n    </g>\r\n    <g id=\"xtick_2\">\r\n     <g id=\"line2d_2\">\r\n      <g>\r\n       <use style=\"stroke:#000000;stroke-width:0.8;\" x=\"134.416049\" xlink:href=\"#m38ca97001d\" y=\"239.758125\"/>\r\n      </g>\r\n     </g>\r\n     <g id=\"text_2\">\r\n      <!-- 40 -->\r\n      <g transform=\"translate(128.053549 254.356562)scale(0.1 -0.1)\">\r\n       <defs>\r\n        <path d=\"M 2419 4116 \r\nL 825 1625 \r\nL 2419 1625 \r\nL 2419 4116 \r\nz\r\nM 2253 4666 \r\nL 3047 4666 \r\nL 3047 1625 \r\nL 3713 1625 \r\nL 3713 1100 \r\nL 3047 1100 \r\nL 3047 0 \r\nL 2419 0 \r\nL 2419 1100 \r\nL 313 1100 \r\nL 313 1709 \r\nL 2253 4666 \r\nz\r\n\" id=\"DejaVuSans-34\" transform=\"scale(0.015625)\"/>\r\n       </defs>\r\n       <use xlink:href=\"#DejaVuSans-34\"/>\r\n       <use x=\"63.623047\" xlink:href=\"#DejaVuSans-30\"/>\r\n      </g>\r\n     </g>\r\n    </g>\r\n    <g id=\"xtick_3\">\r\n     <g id=\"line2d_3\">\r\n      <g>\r\n       <use style=\"stroke:#000000;stroke-width:0.8;\" x=\"194.985927\" xlink:href=\"#m38ca97001d\" y=\"239.758125\"/>\r\n      </g>\r\n     </g>\r\n     <g id=\"text_3\">\r\n      <!-- 60 -->\r\n      <g transform=\"translate(188.623427 254.356562)scale(0.1 -0.1)\">\r\n       <defs>\r\n        <path d=\"M 2113 2584 \r\nQ 1688 2584 1439 2293 \r\nQ 1191 2003 1191 1497 \r\nQ 1191 994 1439 701 \r\nQ 1688 409 2113 409 \r\nQ 2538 409 2786 701 \r\nQ 3034 994 3034 1497 \r\nQ 3034 2003 2786 2293 \r\nQ 2538 2584 2113 2584 \r\nz\r\nM 3366 4563 \r\nL 3366 3988 \r\nQ 3128 4100 2886 4159 \r\nQ 2644 4219 2406 4219 \r\nQ 1781 4219 1451 3797 \r\nQ 1122 3375 1075 2522 \r\nQ 1259 2794 1537 2939 \r\nQ 1816 3084 2150 3084 \r\nQ 2853 3084 3261 2657 \r\nQ 3669 2231 3669 1497 \r\nQ 3669 778 3244 343 \r\nQ 2819 -91 2113 -91 \r\nQ 1303 -91 875 529 \r\nQ 447 1150 447 2328 \r\nQ 447 3434 972 4092 \r\nQ 1497 4750 2381 4750 \r\nQ 2619 4750 2861 4703 \r\nQ 3103 4656 3366 4563 \r\nz\r\n\" id=\"DejaVuSans-36\" transform=\"scale(0.015625)\"/>\r\n       </defs>\r\n       <use xlink:href=\"#DejaVuSans-36\"/>\r\n       <use x=\"63.623047\" xlink:href=\"#DejaVuSans-30\"/>\r\n      </g>\r\n     </g>\r\n    </g>\r\n    <g id=\"xtick_4\">\r\n     <g id=\"line2d_4\">\r\n      <g>\r\n       <use style=\"stroke:#000000;stroke-width:0.8;\" x=\"255.555805\" xlink:href=\"#m38ca97001d\" y=\"239.758125\"/>\r\n      </g>\r\n     </g>\r\n     <g id=\"text_4\">\r\n      <!-- 80 -->\r\n      <g transform=\"translate(249.193305 254.356562)scale(0.1 -0.1)\">\r\n       <defs>\r\n        <path d=\"M 2034 2216 \r\nQ 1584 2216 1326 1975 \r\nQ 1069 1734 1069 1313 \r\nQ 1069 891 1326 650 \r\nQ 1584 409 2034 409 \r\nQ 2484 409 2743 651 \r\nQ 3003 894 3003 1313 \r\nQ 3003 1734 2745 1975 \r\nQ 2488 2216 2034 2216 \r\nz\r\nM 1403 2484 \r\nQ 997 2584 770 2862 \r\nQ 544 3141 544 3541 \r\nQ 544 4100 942 4425 \r\nQ 1341 4750 2034 4750 \r\nQ 2731 4750 3128 4425 \r\nQ 3525 4100 3525 3541 \r\nQ 3525 3141 3298 2862 \r\nQ 3072 2584 2669 2484 \r\nQ 3125 2378 3379 2068 \r\nQ 3634 1759 3634 1313 \r\nQ 3634 634 3220 271 \r\nQ 2806 -91 2034 -91 \r\nQ 1263 -91 848 271 \r\nQ 434 634 434 1313 \r\nQ 434 1759 690 2068 \r\nQ 947 2378 1403 2484 \r\nz\r\nM 1172 3481 \r\nQ 1172 3119 1398 2916 \r\nQ 1625 2713 2034 2713 \r\nQ 2441 2713 2670 2916 \r\nQ 2900 3119 2900 3481 \r\nQ 2900 3844 2670 4047 \r\nQ 2441 4250 2034 4250 \r\nQ 1625 4250 1398 4047 \r\nQ 1172 3844 1172 3481 \r\nz\r\n\" id=\"DejaVuSans-38\" transform=\"scale(0.015625)\"/>\r\n       </defs>\r\n       <use xlink:href=\"#DejaVuSans-38\"/>\r\n       <use x=\"63.623047\" xlink:href=\"#DejaVuSans-30\"/>\r\n      </g>\r\n     </g>\r\n    </g>\r\n    <g id=\"xtick_5\">\r\n     <g id=\"line2d_5\">\r\n      <g>\r\n       <use style=\"stroke:#000000;stroke-width:0.8;\" x=\"316.125683\" xlink:href=\"#m38ca97001d\" y=\"239.758125\"/>\r\n      </g>\r\n     </g>\r\n     <g id=\"text_5\">\r\n      <!-- 100 -->\r\n      <g transform=\"translate(306.581933 254.356562)scale(0.1 -0.1)\">\r\n       <defs>\r\n        <path d=\"M 794 531 \r\nL 1825 531 \r\nL 1825 4091 \r\nL 703 3866 \r\nL 703 4441 \r\nL 1819 4666 \r\nL 2450 4666 \r\nL 2450 531 \r\nL 3481 531 \r\nL 3481 0 \r\nL 794 0 \r\nL 794 531 \r\nz\r\n\" id=\"DejaVuSans-31\" transform=\"scale(0.015625)\"/>\r\n       </defs>\r\n       <use xlink:href=\"#DejaVuSans-31\"/>\r\n       <use x=\"63.623047\" xlink:href=\"#DejaVuSans-30\"/>\r\n       <use x=\"127.246094\" xlink:href=\"#DejaVuSans-30\"/>\r\n      </g>\r\n     </g>\r\n    </g>\r\n    <g id=\"xtick_6\">\r\n     <g id=\"line2d_6\">\r\n      <g>\r\n       <use style=\"stroke:#000000;stroke-width:0.8;\" x=\"376.695561\" xlink:href=\"#m38ca97001d\" y=\"239.758125\"/>\r\n      </g>\r\n     </g>\r\n     <g id=\"text_6\">\r\n      <!-- 120 -->\r\n      <g transform=\"translate(367.151811 254.356562)scale(0.1 -0.1)\">\r\n       <use xlink:href=\"#DejaVuSans-31\"/>\r\n       <use x=\"63.623047\" xlink:href=\"#DejaVuSans-32\"/>\r\n       <use x=\"127.246094\" xlink:href=\"#DejaVuSans-30\"/>\r\n      </g>\r\n     </g>\r\n    </g>\r\n    <g id=\"text_7\">\r\n     <!-- MonthlyCharges -->\r\n     <g transform=\"translate(180.160937 268.034687)scale(0.1 -0.1)\">\r\n      <defs>\r\n       <path d=\"M 628 4666 \r\nL 1569 4666 \r\nL 2759 1491 \r\nL 3956 4666 \r\nL 4897 4666 \r\nL 4897 0 \r\nL 4281 0 \r\nL 4281 4097 \r\nL 3078 897 \r\nL 2444 897 \r\nL 1241 4097 \r\nL 1241 0 \r\nL 628 0 \r\nL 628 4666 \r\nz\r\n\" id=\"DejaVuSans-4d\" transform=\"scale(0.015625)\"/>\r\n       <path d=\"M 1959 3097 \r\nQ 1497 3097 1228 2736 \r\nQ 959 2375 959 1747 \r\nQ 959 1119 1226 758 \r\nQ 1494 397 1959 397 \r\nQ 2419 397 2687 759 \r\nQ 2956 1122 2956 1747 \r\nQ 2956 2369 2687 2733 \r\nQ 2419 3097 1959 3097 \r\nz\r\nM 1959 3584 \r\nQ 2709 3584 3137 3096 \r\nQ 3566 2609 3566 1747 \r\nQ 3566 888 3137 398 \r\nQ 2709 -91 1959 -91 \r\nQ 1206 -91 779 398 \r\nQ 353 888 353 1747 \r\nQ 353 2609 779 3096 \r\nQ 1206 3584 1959 3584 \r\nz\r\n\" id=\"DejaVuSans-6f\" transform=\"scale(0.015625)\"/>\r\n       <path d=\"M 3513 2113 \r\nL 3513 0 \r\nL 2938 0 \r\nL 2938 2094 \r\nQ 2938 2591 2744 2837 \r\nQ 2550 3084 2163 3084 \r\nQ 1697 3084 1428 2787 \r\nQ 1159 2491 1159 1978 \r\nL 1159 0 \r\nL 581 0 \r\nL 581 3500 \r\nL 1159 3500 \r\nL 1159 2956 \r\nQ 1366 3272 1645 3428 \r\nQ 1925 3584 2291 3584 \r\nQ 2894 3584 3203 3211 \r\nQ 3513 2838 3513 2113 \r\nz\r\n\" id=\"DejaVuSans-6e\" transform=\"scale(0.015625)\"/>\r\n       <path d=\"M 1172 4494 \r\nL 1172 3500 \r\nL 2356 3500 \r\nL 2356 3053 \r\nL 1172 3053 \r\nL 1172 1153 \r\nQ 1172 725 1289 603 \r\nQ 1406 481 1766 481 \r\nL 2356 481 \r\nL 2356 0 \r\nL 1766 0 \r\nQ 1100 0 847 248 \r\nQ 594 497 594 1153 \r\nL 594 3053 \r\nL 172 3053 \r\nL 172 3500 \r\nL 594 3500 \r\nL 594 4494 \r\nL 1172 4494 \r\nz\r\n\" id=\"DejaVuSans-74\" transform=\"scale(0.015625)\"/>\r\n       <path d=\"M 3513 2113 \r\nL 3513 0 \r\nL 2938 0 \r\nL 2938 2094 \r\nQ 2938 2591 2744 2837 \r\nQ 2550 3084 2163 3084 \r\nQ 1697 3084 1428 2787 \r\nQ 1159 2491 1159 1978 \r\nL 1159 0 \r\nL 581 0 \r\nL 581 4863 \r\nL 1159 4863 \r\nL 1159 2956 \r\nQ 1366 3272 1645 3428 \r\nQ 1925 3584 2291 3584 \r\nQ 2894 3584 3203 3211 \r\nQ 3513 2838 3513 2113 \r\nz\r\n\" id=\"DejaVuSans-68\" transform=\"scale(0.015625)\"/>\r\n       <path d=\"M 603 4863 \r\nL 1178 4863 \r\nL 1178 0 \r\nL 603 0 \r\nL 603 4863 \r\nz\r\n\" id=\"DejaVuSans-6c\" transform=\"scale(0.015625)\"/>\r\n       <path d=\"M 2059 -325 \r\nQ 1816 -950 1584 -1140 \r\nQ 1353 -1331 966 -1331 \r\nL 506 -1331 \r\nL 506 -850 \r\nL 844 -850 \r\nQ 1081 -850 1212 -737 \r\nQ 1344 -625 1503 -206 \r\nL 1606 56 \r\nL 191 3500 \r\nL 800 3500 \r\nL 1894 763 \r\nL 2988 3500 \r\nL 3597 3500 \r\nL 2059 -325 \r\nz\r\n\" id=\"DejaVuSans-79\" transform=\"scale(0.015625)\"/>\r\n       <path d=\"M 4122 4306 \r\nL 4122 3641 \r\nQ 3803 3938 3442 4084 \r\nQ 3081 4231 2675 4231 \r\nQ 1875 4231 1450 3742 \r\nQ 1025 3253 1025 2328 \r\nQ 1025 1406 1450 917 \r\nQ 1875 428 2675 428 \r\nQ 3081 428 3442 575 \r\nQ 3803 722 4122 1019 \r\nL 4122 359 \r\nQ 3791 134 3420 21 \r\nQ 3050 -91 2638 -91 \r\nQ 1578 -91 968 557 \r\nQ 359 1206 359 2328 \r\nQ 359 3453 968 4101 \r\nQ 1578 4750 2638 4750 \r\nQ 3056 4750 3426 4639 \r\nQ 3797 4528 4122 4306 \r\nz\r\n\" id=\"DejaVuSans-43\" transform=\"scale(0.015625)\"/>\r\n       <path d=\"M 2194 1759 \r\nQ 1497 1759 1228 1600 \r\nQ 959 1441 959 1056 \r\nQ 959 750 1161 570 \r\nQ 1363 391 1709 391 \r\nQ 2188 391 2477 730 \r\nQ 2766 1069 2766 1631 \r\nL 2766 1759 \r\nL 2194 1759 \r\nz\r\nM 3341 1997 \r\nL 3341 0 \r\nL 2766 0 \r\nL 2766 531 \r\nQ 2569 213 2275 61 \r\nQ 1981 -91 1556 -91 \r\nQ 1019 -91 701 211 \r\nQ 384 513 384 1019 \r\nQ 384 1609 779 1909 \r\nQ 1175 2209 1959 2209 \r\nL 2766 2209 \r\nL 2766 2266 \r\nQ 2766 2663 2505 2880 \r\nQ 2244 3097 1772 3097 \r\nQ 1472 3097 1187 3025 \r\nQ 903 2953 641 2809 \r\nL 641 3341 \r\nQ 956 3463 1253 3523 \r\nQ 1550 3584 1831 3584 \r\nQ 2591 3584 2966 3190 \r\nQ 3341 2797 3341 1997 \r\nz\r\n\" id=\"DejaVuSans-61\" transform=\"scale(0.015625)\"/>\r\n       <path d=\"M 2631 2963 \r\nQ 2534 3019 2420 3045 \r\nQ 2306 3072 2169 3072 \r\nQ 1681 3072 1420 2755 \r\nQ 1159 2438 1159 1844 \r\nL 1159 0 \r\nL 581 0 \r\nL 581 3500 \r\nL 1159 3500 \r\nL 1159 2956 \r\nQ 1341 3275 1631 3429 \r\nQ 1922 3584 2338 3584 \r\nQ 2397 3584 2469 3576 \r\nQ 2541 3569 2628 3553 \r\nL 2631 2963 \r\nz\r\n\" id=\"DejaVuSans-72\" transform=\"scale(0.015625)\"/>\r\n       <path d=\"M 2906 1791 \r\nQ 2906 2416 2648 2759 \r\nQ 2391 3103 1925 3103 \r\nQ 1463 3103 1205 2759 \r\nQ 947 2416 947 1791 \r\nQ 947 1169 1205 825 \r\nQ 1463 481 1925 481 \r\nQ 2391 481 2648 825 \r\nQ 2906 1169 2906 1791 \r\nz\r\nM 3481 434 \r\nQ 3481 -459 3084 -895 \r\nQ 2688 -1331 1869 -1331 \r\nQ 1566 -1331 1297 -1286 \r\nQ 1028 -1241 775 -1147 \r\nL 775 -588 \r\nQ 1028 -725 1275 -790 \r\nQ 1522 -856 1778 -856 \r\nQ 2344 -856 2625 -561 \r\nQ 2906 -266 2906 331 \r\nL 2906 616 \r\nQ 2728 306 2450 153 \r\nQ 2172 0 1784 0 \r\nQ 1141 0 747 490 \r\nQ 353 981 353 1791 \r\nQ 353 2603 747 3093 \r\nQ 1141 3584 1784 3584 \r\nQ 2172 3584 2450 3431 \r\nQ 2728 3278 2906 2969 \r\nL 2906 3500 \r\nL 3481 3500 \r\nL 3481 434 \r\nz\r\n\" id=\"DejaVuSans-67\" transform=\"scale(0.015625)\"/>\r\n       <path d=\"M 3597 1894 \r\nL 3597 1613 \r\nL 953 1613 \r\nQ 991 1019 1311 708 \r\nQ 1631 397 2203 397 \r\nQ 2534 397 2845 478 \r\nQ 3156 559 3463 722 \r\nL 3463 178 \r\nQ 3153 47 2828 -22 \r\nQ 2503 -91 2169 -91 \r\nQ 1331 -91 842 396 \r\nQ 353 884 353 1716 \r\nQ 353 2575 817 3079 \r\nQ 1281 3584 2069 3584 \r\nQ 2775 3584 3186 3129 \r\nQ 3597 2675 3597 1894 \r\nz\r\nM 3022 2063 \r\nQ 3016 2534 2758 2815 \r\nQ 2500 3097 2075 3097 \r\nQ 1594 3097 1305 2825 \r\nQ 1016 2553 972 2059 \r\nL 3022 2063 \r\nz\r\n\" id=\"DejaVuSans-65\" transform=\"scale(0.015625)\"/>\r\n       <path d=\"M 2834 3397 \r\nL 2834 2853 \r\nQ 2591 2978 2328 3040 \r\nQ 2066 3103 1784 3103 \r\nQ 1356 3103 1142 2972 \r\nQ 928 2841 928 2578 \r\nQ 928 2378 1081 2264 \r\nQ 1234 2150 1697 2047 \r\nL 1894 2003 \r\nQ 2506 1872 2764 1633 \r\nQ 3022 1394 3022 966 \r\nQ 3022 478 2636 193 \r\nQ 2250 -91 1575 -91 \r\nQ 1294 -91 989 -36 \r\nQ 684 19 347 128 \r\nL 347 722 \r\nQ 666 556 975 473 \r\nQ 1284 391 1588 391 \r\nQ 1994 391 2212 530 \r\nQ 2431 669 2431 922 \r\nQ 2431 1156 2273 1281 \r\nQ 2116 1406 1581 1522 \r\nL 1381 1569 \r\nQ 847 1681 609 1914 \r\nQ 372 2147 372 2553 \r\nQ 372 3047 722 3315 \r\nQ 1072 3584 1716 3584 \r\nQ 2034 3584 2315 3537 \r\nQ 2597 3491 2834 3397 \r\nz\r\n\" id=\"DejaVuSans-73\" transform=\"scale(0.015625)\"/>\r\n      </defs>\r\n      <use xlink:href=\"#DejaVuSans-4d\"/>\r\n      <use x=\"86.279297\" xlink:href=\"#DejaVuSans-6f\"/>\r\n      <use x=\"147.460938\" xlink:href=\"#DejaVuSans-6e\"/>\r\n      <use x=\"210.839844\" xlink:href=\"#DejaVuSans-74\"/>\r\n      <use x=\"250.048828\" xlink:href=\"#DejaVuSans-68\"/>\r\n      <use x=\"313.427734\" xlink:href=\"#DejaVuSans-6c\"/>\r\n      <use x=\"341.210938\" xlink:href=\"#DejaVuSans-79\"/>\r\n      <use x=\"400.390625\" xlink:href=\"#DejaVuSans-43\"/>\r\n      <use x=\"470.214844\" xlink:href=\"#DejaVuSans-68\"/>\r\n      <use x=\"533.59375\" xlink:href=\"#DejaVuSans-61\"/>\r\n      <use x=\"594.873047\" xlink:href=\"#DejaVuSans-72\"/>\r\n      <use x=\"634.236328\" xlink:href=\"#DejaVuSans-67\"/>\r\n      <use x=\"697.712891\" xlink:href=\"#DejaVuSans-65\"/>\r\n      <use x=\"759.236328\" xlink:href=\"#DejaVuSans-73\"/>\r\n     </g>\r\n    </g>\r\n   </g>\r\n   <g id=\"matplotlib.axis_2\">\r\n    <g id=\"ytick_1\">\r\n     <g id=\"line2d_7\">\r\n      <defs>\r\n       <path d=\"M 0 0 \r\nL -3.5 0 \r\n\" id=\"me540b3c8b0\" style=\"stroke:#000000;stroke-width:0.8;\"/>\r\n      </defs>\r\n      <g>\r\n       <use style=\"stroke:#000000;stroke-width:0.8;\" x=\"53.328125\" xlink:href=\"#me540b3c8b0\" y=\"239.758125\"/>\r\n      </g>\r\n     </g>\r\n     <g id=\"text_8\">\r\n      <!-- 0 -->\r\n      <g transform=\"translate(39.965625 243.557344)scale(0.1 -0.1)\">\r\n       <use xlink:href=\"#DejaVuSans-30\"/>\r\n      </g>\r\n     </g>\r\n    </g>\r\n    <g id=\"ytick_2\">\r\n     <g id=\"line2d_8\">\r\n      <g>\r\n       <use style=\"stroke:#000000;stroke-width:0.8;\" x=\"53.328125\" xlink:href=\"#me540b3c8b0\" y=\"201.795574\"/>\r\n      </g>\r\n     </g>\r\n     <g id=\"text_9\">\r\n      <!-- 200 -->\r\n      <g transform=\"translate(27.240625 205.594793)scale(0.1 -0.1)\">\r\n       <use xlink:href=\"#DejaVuSans-32\"/>\r\n       <use x=\"63.623047\" xlink:href=\"#DejaVuSans-30\"/>\r\n       <use x=\"127.246094\" xlink:href=\"#DejaVuSans-30\"/>\r\n      </g>\r\n     </g>\r\n    </g>\r\n    <g id=\"ytick_3\">\r\n     <g id=\"line2d_9\">\r\n      <g>\r\n       <use style=\"stroke:#000000;stroke-width:0.8;\" x=\"53.328125\" xlink:href=\"#me540b3c8b0\" y=\"163.833024\"/>\r\n      </g>\r\n     </g>\r\n     <g id=\"text_10\">\r\n      <!-- 400 -->\r\n      <g transform=\"translate(27.240625 167.632242)scale(0.1 -0.1)\">\r\n       <use xlink:href=\"#DejaVuSans-34\"/>\r\n       <use x=\"63.623047\" xlink:href=\"#DejaVuSans-30\"/>\r\n       <use x=\"127.246094\" xlink:href=\"#DejaVuSans-30\"/>\r\n      </g>\r\n     </g>\r\n    </g>\r\n    <g id=\"ytick_4\">\r\n     <g id=\"line2d_10\">\r\n      <g>\r\n       <use style=\"stroke:#000000;stroke-width:0.8;\" x=\"53.328125\" xlink:href=\"#me540b3c8b0\" y=\"125.870473\"/>\r\n      </g>\r\n     </g>\r\n     <g id=\"text_11\">\r\n      <!-- 600 -->\r\n      <g transform=\"translate(27.240625 129.669692)scale(0.1 -0.1)\">\r\n       <use xlink:href=\"#DejaVuSans-36\"/>\r\n       <use x=\"63.623047\" xlink:href=\"#DejaVuSans-30\"/>\r\n       <use x=\"127.246094\" xlink:href=\"#DejaVuSans-30\"/>\r\n      </g>\r\n     </g>\r\n    </g>\r\n    <g id=\"ytick_5\">\r\n     <g id=\"line2d_11\">\r\n      <g>\r\n       <use style=\"stroke:#000000;stroke-width:0.8;\" x=\"53.328125\" xlink:href=\"#me540b3c8b0\" y=\"87.907922\"/>\r\n      </g>\r\n     </g>\r\n     <g id=\"text_12\">\r\n      <!-- 800 -->\r\n      <g transform=\"translate(27.240625 91.707141)scale(0.1 -0.1)\">\r\n       <use xlink:href=\"#DejaVuSans-38\"/>\r\n       <use x=\"63.623047\" xlink:href=\"#DejaVuSans-30\"/>\r\n       <use x=\"127.246094\" xlink:href=\"#DejaVuSans-30\"/>\r\n      </g>\r\n     </g>\r\n    </g>\r\n    <g id=\"ytick_6\">\r\n     <g id=\"line2d_12\">\r\n      <g>\r\n       <use style=\"stroke:#000000;stroke-width:0.8;\" x=\"53.328125\" xlink:href=\"#me540b3c8b0\" y=\"49.945371\"/>\r\n      </g>\r\n     </g>\r\n     <g id=\"text_13\">\r\n      <!-- 1000 -->\r\n      <g transform=\"translate(20.878125 53.74459)scale(0.1 -0.1)\">\r\n       <use xlink:href=\"#DejaVuSans-31\"/>\r\n       <use x=\"63.623047\" xlink:href=\"#DejaVuSans-30\"/>\r\n       <use x=\"127.246094\" xlink:href=\"#DejaVuSans-30\"/>\r\n       <use x=\"190.869141\" xlink:href=\"#DejaVuSans-30\"/>\r\n      </g>\r\n     </g>\r\n    </g>\r\n    <g id=\"text_14\">\r\n     <!-- Count -->\r\n     <g transform=\"translate(14.798438 145.886562)rotate(-90)scale(0.1 -0.1)\">\r\n      <defs>\r\n       <path d=\"M 544 1381 \r\nL 544 3500 \r\nL 1119 3500 \r\nL 1119 1403 \r\nQ 1119 906 1312 657 \r\nQ 1506 409 1894 409 \r\nQ 2359 409 2629 706 \r\nQ 2900 1003 2900 1516 \r\nL 2900 3500 \r\nL 3475 3500 \r\nL 3475 0 \r\nL 2900 0 \r\nL 2900 538 \r\nQ 2691 219 2414 64 \r\nQ 2138 -91 1772 -91 \r\nQ 1169 -91 856 284 \r\nQ 544 659 544 1381 \r\nz\r\nM 1991 3584 \r\nL 1991 3584 \r\nz\r\n\" id=\"DejaVuSans-75\" transform=\"scale(0.015625)\"/>\r\n      </defs>\r\n      <use xlink:href=\"#DejaVuSans-43\"/>\r\n      <use x=\"69.824219\" xlink:href=\"#DejaVuSans-6f\"/>\r\n      <use x=\"131.005859\" xlink:href=\"#DejaVuSans-75\"/>\r\n      <use x=\"194.384766\" xlink:href=\"#DejaVuSans-6e\"/>\r\n      <use x=\"257.763672\" xlink:href=\"#DejaVuSans-74\"/>\r\n     </g>\r\n    </g>\r\n   </g>\r\n   <g id=\"patch_39\">\r\n    <path d=\"M 53.328125 239.758125 \r\nL 53.328125 22.318125 \r\n\" style=\"fill:none;stroke:#000000;stroke-linecap:square;stroke-linejoin:miter;stroke-width:0.8;\"/>\r\n   </g>\r\n   <g id=\"patch_40\">\r\n    <path d=\"M 388.128125 239.758125 \r\nL 388.128125 22.318125 \r\n\" style=\"fill:none;stroke:#000000;stroke-linecap:square;stroke-linejoin:miter;stroke-width:0.8;\"/>\r\n   </g>\r\n   <g id=\"patch_41\">\r\n    <path d=\"M 53.328125 239.758125 \r\nL 388.128125 239.758125 \r\n\" style=\"fill:none;stroke:#000000;stroke-linecap:square;stroke-linejoin:miter;stroke-width:0.8;\"/>\r\n   </g>\r\n   <g id=\"patch_42\">\r\n    <path d=\"M 53.328125 22.318125 \r\nL 388.128125 22.318125 \r\n\" style=\"fill:none;stroke:#000000;stroke-linecap:square;stroke-linejoin:miter;stroke-width:0.8;\"/>\r\n   </g>\r\n   <g id=\"text_15\">\r\n    <!-- customer tenure vs churn prediction -->\r\n    <g transform=\"translate(111.329375 16.318125)scale(0.12 -0.12)\">\r\n     <defs>\r\n      <path d=\"M 3122 3366 \r\nL 3122 2828 \r\nQ 2878 2963 2633 3030 \r\nQ 2388 3097 2138 3097 \r\nQ 1578 3097 1268 2742 \r\nQ 959 2388 959 1747 \r\nQ 959 1106 1268 751 \r\nQ 1578 397 2138 397 \r\nQ 2388 397 2633 464 \r\nQ 2878 531 3122 666 \r\nL 3122 134 \r\nQ 2881 22 2623 -34 \r\nQ 2366 -91 2075 -91 \r\nQ 1284 -91 818 406 \r\nQ 353 903 353 1747 \r\nQ 353 2603 823 3093 \r\nQ 1294 3584 2113 3584 \r\nQ 2378 3584 2631 3529 \r\nQ 2884 3475 3122 3366 \r\nz\r\n\" id=\"DejaVuSans-63\" transform=\"scale(0.015625)\"/>\r\n      <path d=\"M 3328 2828 \r\nQ 3544 3216 3844 3400 \r\nQ 4144 3584 4550 3584 \r\nQ 5097 3584 5394 3201 \r\nQ 5691 2819 5691 2113 \r\nL 5691 0 \r\nL 5113 0 \r\nL 5113 2094 \r\nQ 5113 2597 4934 2840 \r\nQ 4756 3084 4391 3084 \r\nQ 3944 3084 3684 2787 \r\nQ 3425 2491 3425 1978 \r\nL 3425 0 \r\nL 2847 0 \r\nL 2847 2094 \r\nQ 2847 2600 2669 2842 \r\nQ 2491 3084 2119 3084 \r\nQ 1678 3084 1418 2786 \r\nQ 1159 2488 1159 1978 \r\nL 1159 0 \r\nL 581 0 \r\nL 581 3500 \r\nL 1159 3500 \r\nL 1159 2956 \r\nQ 1356 3278 1631 3431 \r\nQ 1906 3584 2284 3584 \r\nQ 2666 3584 2933 3390 \r\nQ 3200 3197 3328 2828 \r\nz\r\n\" id=\"DejaVuSans-6d\" transform=\"scale(0.015625)\"/>\r\n      <path id=\"DejaVuSans-20\" transform=\"scale(0.015625)\"/>\r\n      <path d=\"M 191 3500 \r\nL 800 3500 \r\nL 1894 563 \r\nL 2988 3500 \r\nL 3597 3500 \r\nL 2284 0 \r\nL 1503 0 \r\nL 191 3500 \r\nz\r\n\" id=\"DejaVuSans-76\" transform=\"scale(0.015625)\"/>\r\n      <path d=\"M 1159 525 \r\nL 1159 -1331 \r\nL 581 -1331 \r\nL 581 3500 \r\nL 1159 3500 \r\nL 1159 2969 \r\nQ 1341 3281 1617 3432 \r\nQ 1894 3584 2278 3584 \r\nQ 2916 3584 3314 3078 \r\nQ 3713 2572 3713 1747 \r\nQ 3713 922 3314 415 \r\nQ 2916 -91 2278 -91 \r\nQ 1894 -91 1617 61 \r\nQ 1341 213 1159 525 \r\nz\r\nM 3116 1747 \r\nQ 3116 2381 2855 2742 \r\nQ 2594 3103 2138 3103 \r\nQ 1681 3103 1420 2742 \r\nQ 1159 2381 1159 1747 \r\nQ 1159 1113 1420 752 \r\nQ 1681 391 2138 391 \r\nQ 2594 391 2855 752 \r\nQ 3116 1113 3116 1747 \r\nz\r\n\" id=\"DejaVuSans-70\" transform=\"scale(0.015625)\"/>\r\n      <path d=\"M 2906 2969 \r\nL 2906 4863 \r\nL 3481 4863 \r\nL 3481 0 \r\nL 2906 0 \r\nL 2906 525 \r\nQ 2725 213 2448 61 \r\nQ 2172 -91 1784 -91 \r\nQ 1150 -91 751 415 \r\nQ 353 922 353 1747 \r\nQ 353 2572 751 3078 \r\nQ 1150 3584 1784 3584 \r\nQ 2172 3584 2448 3432 \r\nQ 2725 3281 2906 2969 \r\nz\r\nM 947 1747 \r\nQ 947 1113 1208 752 \r\nQ 1469 391 1925 391 \r\nQ 2381 391 2643 752 \r\nQ 2906 1113 2906 1747 \r\nQ 2906 2381 2643 2742 \r\nQ 2381 3103 1925 3103 \r\nQ 1469 3103 1208 2742 \r\nQ 947 2381 947 1747 \r\nz\r\n\" id=\"DejaVuSans-64\" transform=\"scale(0.015625)\"/>\r\n      <path d=\"M 603 3500 \r\nL 1178 3500 \r\nL 1178 0 \r\nL 603 0 \r\nL 603 3500 \r\nz\r\nM 603 4863 \r\nL 1178 4863 \r\nL 1178 4134 \r\nL 603 4134 \r\nL 603 4863 \r\nz\r\n\" id=\"DejaVuSans-69\" transform=\"scale(0.015625)\"/>\r\n     </defs>\r\n     <use xlink:href=\"#DejaVuSans-63\"/>\r\n     <use x=\"54.980469\" xlink:href=\"#DejaVuSans-75\"/>\r\n     <use x=\"118.359375\" xlink:href=\"#DejaVuSans-73\"/>\r\n     <use x=\"170.458984\" xlink:href=\"#DejaVuSans-74\"/>\r\n     <use x=\"209.667969\" xlink:href=\"#DejaVuSans-6f\"/>\r\n     <use x=\"270.849609\" xlink:href=\"#DejaVuSans-6d\"/>\r\n     <use x=\"368.261719\" xlink:href=\"#DejaVuSans-65\"/>\r\n     <use x=\"429.785156\" xlink:href=\"#DejaVuSans-72\"/>\r\n     <use x=\"470.898438\" xlink:href=\"#DejaVuSans-20\"/>\r\n     <use x=\"502.685547\" xlink:href=\"#DejaVuSans-74\"/>\r\n     <use x=\"541.894531\" xlink:href=\"#DejaVuSans-65\"/>\r\n     <use x=\"603.417969\" xlink:href=\"#DejaVuSans-6e\"/>\r\n     <use x=\"666.796875\" xlink:href=\"#DejaVuSans-75\"/>\r\n     <use x=\"730.175781\" xlink:href=\"#DejaVuSans-72\"/>\r\n     <use x=\"769.039062\" xlink:href=\"#DejaVuSans-65\"/>\r\n     <use x=\"830.5625\" xlink:href=\"#DejaVuSans-20\"/>\r\n     <use x=\"862.349609\" xlink:href=\"#DejaVuSans-76\"/>\r\n     <use x=\"921.529297\" xlink:href=\"#DejaVuSans-73\"/>\r\n     <use x=\"973.628906\" xlink:href=\"#DejaVuSans-20\"/>\r\n     <use x=\"1005.416016\" xlink:href=\"#DejaVuSans-63\"/>\r\n     <use x=\"1060.396484\" xlink:href=\"#DejaVuSans-68\"/>\r\n     <use x=\"1123.775391\" xlink:href=\"#DejaVuSans-75\"/>\r\n     <use x=\"1187.154297\" xlink:href=\"#DejaVuSans-72\"/>\r\n     <use x=\"1226.517578\" xlink:href=\"#DejaVuSans-6e\"/>\r\n     <use x=\"1289.896484\" xlink:href=\"#DejaVuSans-20\"/>\r\n     <use x=\"1321.683594\" xlink:href=\"#DejaVuSans-70\"/>\r\n     <use x=\"1385.160156\" xlink:href=\"#DejaVuSans-72\"/>\r\n     <use x=\"1424.023438\" xlink:href=\"#DejaVuSans-65\"/>\r\n     <use x=\"1485.546875\" xlink:href=\"#DejaVuSans-64\"/>\r\n     <use x=\"1549.023438\" xlink:href=\"#DejaVuSans-69\"/>\r\n     <use x=\"1576.806641\" xlink:href=\"#DejaVuSans-63\"/>\r\n     <use x=\"1631.787109\" xlink:href=\"#DejaVuSans-74\"/>\r\n     <use x=\"1670.996094\" xlink:href=\"#DejaVuSans-69\"/>\r\n     <use x=\"1698.779297\" xlink:href=\"#DejaVuSans-6f\"/>\r\n     <use x=\"1759.960938\" xlink:href=\"#DejaVuSans-6e\"/>\r\n    </g>\r\n   </g>\r\n   <g id=\"legend_1\">\r\n    <g id=\"patch_43\">\r\n     <path d=\"M 332.982813 74.3525 \r\nL 381.128125 74.3525 \r\nQ 383.128125 74.3525 383.128125 72.3525 \r\nL 383.128125 29.318125 \r\nQ 383.128125 27.318125 381.128125 27.318125 \r\nL 332.982813 27.318125 \r\nQ 330.982813 27.318125 330.982813 29.318125 \r\nL 330.982813 72.3525 \r\nQ 330.982813 74.3525 332.982813 74.3525 \r\nz\r\n\" style=\"fill:#ffffff;opacity:0.8;stroke:#cccccc;stroke-linejoin:miter;\"/>\r\n    </g>\r\n    <g id=\"text_16\">\r\n     <!-- Churn -->\r\n     <g transform=\"translate(342.089844 38.916562)scale(0.1 -0.1)\">\r\n      <use xlink:href=\"#DejaVuSans-43\"/>\r\n      <use x=\"69.824219\" xlink:href=\"#DejaVuSans-68\"/>\r\n      <use x=\"133.203125\" xlink:href=\"#DejaVuSans-75\"/>\r\n      <use x=\"196.582031\" xlink:href=\"#DejaVuSans-72\"/>\r\n      <use x=\"235.945312\" xlink:href=\"#DejaVuSans-6e\"/>\r\n     </g>\r\n    </g>\r\n    <g id=\"patch_44\">\r\n     <path d=\"M 334.982813 53.594687 \r\nL 354.982813 53.594687 \r\nL 354.982813 46.594687 \r\nL 334.982813 46.594687 \r\nz\r\n\" style=\"fill:#1f77b4;fill-opacity:0.75;stroke:#000000;stroke-linejoin:miter;\"/>\r\n    </g>\r\n    <g id=\"text_17\">\r\n     <!-- No -->\r\n     <g transform=\"translate(362.982813 53.594687)scale(0.1 -0.1)\">\r\n      <defs>\r\n       <path d=\"M 628 4666 \r\nL 1478 4666 \r\nL 3547 763 \r\nL 3547 4666 \r\nL 4159 4666 \r\nL 4159 0 \r\nL 3309 0 \r\nL 1241 3903 \r\nL 1241 0 \r\nL 628 0 \r\nL 628 4666 \r\nz\r\n\" id=\"DejaVuSans-4e\" transform=\"scale(0.015625)\"/>\r\n      </defs>\r\n      <use xlink:href=\"#DejaVuSans-4e\"/>\r\n      <use x=\"74.804688\" xlink:href=\"#DejaVuSans-6f\"/>\r\n     </g>\r\n    </g>\r\n    <g id=\"patch_45\">\r\n     <path d=\"M 334.982813 68.272812 \r\nL 354.982813 68.272812 \r\nL 354.982813 61.272812 \r\nL 334.982813 61.272812 \r\nz\r\n\" style=\"fill:#ff7f0e;fill-opacity:0.75;stroke:#000000;stroke-linejoin:miter;\"/>\r\n    </g>\r\n    <g id=\"text_18\">\r\n     <!-- Yes -->\r\n     <g transform=\"translate(362.982813 68.272812)scale(0.1 -0.1)\">\r\n      <defs>\r\n       <path d=\"M -13 4666 \r\nL 666 4666 \r\nL 1959 2747 \r\nL 3244 4666 \r\nL 3922 4666 \r\nL 2272 2222 \r\nL 2272 0 \r\nL 1638 0 \r\nL 1638 2222 \r\nL -13 4666 \r\nz\r\n\" id=\"DejaVuSans-59\" transform=\"scale(0.015625)\"/>\r\n      </defs>\r\n      <use xlink:href=\"#DejaVuSans-59\"/>\r\n      <use x=\"47.833984\" xlink:href=\"#DejaVuSans-65\"/>\r\n      <use x=\"109.357422\" xlink:href=\"#DejaVuSans-73\"/>\r\n     </g>\r\n    </g>\r\n   </g>\r\n  </g>\r\n </g>\r\n <defs>\r\n  <clipPath id=\"p0c633aed68\">\r\n   <rect height=\"217.44\" width=\"334.8\" x=\"53.328125\" y=\"22.318125\"/>\r\n  </clipPath>\r\n </defs>\r\n</svg>\r\n",
      "image/png": "[encoded data removed]"
     },
     "metadata": {
      "needs_background": "light"
     }
    }
   ],
   "source": [
    "#checking relation between tenure and churn\n",
    "plt.title(\"customer tenure vs churn prediction\")\n",
    "sns.histplot(data=df,x=\"MonthlyCharges\",hue=\"Churn\",multiple=\"dodge\")"
   ]
  },
  {
   "cell_type": "code",
   "execution_count": 8,
   "metadata": {},
   "outputs": [
    {
     "output_type": "stream",
     "name": "stdout",
     "text": [
      "['Female' 'Male']\n[0 1]\n['Yes' 'No']\n['No' 'Yes']\n[ 1 34  2 45  8 22 10 28 62 13 16 58 49 25 69 52 71 21 12 30 47 72 17 27\n  5 46 11 70 63 43 15 60 18 66  9  3 31 50 64 56  7 42 35 48 29 65 38 68\n 32 55 37 36 41  6  4 33 67 23 57 61 14 20 53 40 59 24 44 19 54 51 26 39]\n['No' 'Yes']\n['No phone service' 'No' 'Yes']\n['DSL' 'Fiber optic' 'No']\n['No' 'Yes' 'No internet service']\n['Yes' 'No' 'No internet service']\n['No' 'Yes' 'No internet service']\n['No' 'Yes' 'No internet service']\n['No' 'Yes' 'No internet service']\n['No' 'Yes' 'No internet service']\n['Month-to-month' 'One year' 'Two year']\n['Yes' 'No']\n['Electronic check' 'Mailed check' 'Bank transfer (automatic)'\n 'Credit card (automatic)']\n[29.85 56.95 53.85 ... 63.1  44.2  78.7 ]\n[  29.85 1889.5   108.15 ...  346.45  306.6  6844.5 ]\n['No' 'Yes']\n"
     ]
    }
   ],
   "source": [
    "for i in df.columns:\n",
    "    print(df[i].unique())"
   ]
  },
  {
   "cell_type": "code",
   "execution_count": 9,
   "metadata": {},
   "outputs": [
    {
     "output_type": "execute_result",
     "data": {
      "text/plain": [
       "Empty DataFrame\n",
       "Columns: [gender, SeniorCitizen, Partner, Dependents, tenure, PhoneService, MultipleLines, InternetService, OnlineSecurity, OnlineBackup, DeviceProtection, TechSupport, StreamingTV, StreamingMovies, Contract, PaperlessBilling, PaymentMethod, MonthlyCharges, TotalCharges, Churn]\n",
       "Index: []"
      ],
      "text/html": "<div>\n<style scoped>\n    .dataframe tbody tr th:only-of-type {\n        vertical-align: middle;\n    }\n\n    .dataframe tbody tr th {\n        vertical-align: top;\n    }\n\n    .dataframe thead th {\n        text-align: right;\n    }\n</style>\n<table border=\"1\" class=\"dataframe\">\n  <thead>\n    <tr style=\"text-align: right;\">\n      <th></th>\n      <th>gender</th>\n      <th>SeniorCitizen</th>\n      <th>Partner</th>\n      <th>Dependents</th>\n      <th>tenure</th>\n      <th>PhoneService</th>\n      <th>MultipleLines</th>\n      <th>InternetService</th>\n      <th>OnlineSecurity</th>\n      <th>OnlineBackup</th>\n      <th>DeviceProtection</th>\n      <th>TechSupport</th>\n      <th>StreamingTV</th>\n      <th>StreamingMovies</th>\n      <th>Contract</th>\n      <th>PaperlessBilling</th>\n      <th>PaymentMethod</th>\n      <th>MonthlyCharges</th>\n      <th>TotalCharges</th>\n      <th>Churn</th>\n    </tr>\n  </thead>\n  <tbody>\n  </tbody>\n</table>\n</div>"
     },
     "metadata": {},
     "execution_count": 9
    }
   ],
   "source": [
    "df.replace(\"No internet service\",\"No\",inplace=True)\n",
    "df.replace(\"No phone service\",\"No\",inplace=True)\n",
    "df[df[\"OnlineSecurity\"]=='No internet service']"
   ]
  },
  {
   "cell_type": "code",
   "execution_count": 10,
   "metadata": {},
   "outputs": [],
   "source": [
    "yes_no_columns = ['Partner','Dependents','PhoneService','MultipleLines','OnlineSecurity','OnlineBackup',\n",
    "                  'DeviceProtection','TechSupport','StreamingTV','StreamingMovies','PaperlessBilling','Churn']\n",
    "for col in yes_no_columns:\n",
    "    df[col].replace({'Yes': 1,'No': 0},inplace=True)"
   ]
  },
  {
   "cell_type": "code",
   "execution_count": 11,
   "metadata": {},
   "outputs": [],
   "source": [
    "df['gender'].replace({'Female':1,'Male':0},inplace=True)"
   ]
  },
  {
   "cell_type": "code",
   "execution_count": 12,
   "metadata": {},
   "outputs": [
    {
     "output_type": "execute_result",
     "data": {
      "text/plain": [
       "Index(['gender', 'SeniorCitizen', 'Partner', 'Dependents', 'tenure',\n",
       "       'PhoneService', 'MultipleLines', 'OnlineSecurity', 'OnlineBackup',\n",
       "       'DeviceProtection', 'TechSupport', 'StreamingTV', 'StreamingMovies',\n",
       "       'PaperlessBilling', 'MonthlyCharges', 'TotalCharges', 'Churn',\n",
       "       'InternetService_DSL', 'InternetService_Fiber optic',\n",
       "       'InternetService_No', 'Contract_Month-to-month', 'Contract_One year',\n",
       "       'Contract_Two year', 'PaymentMethod_Bank transfer (automatic)',\n",
       "       'PaymentMethod_Credit card (automatic)',\n",
       "       'PaymentMethod_Electronic check', 'PaymentMethod_Mailed check'],\n",
       "      dtype='object')"
      ]
     },
     "metadata": {},
     "execution_count": 12
    }
   ],
   "source": [
    "df1 = pd.get_dummies(data=df, columns=['InternetService','Contract','PaymentMethod'])\n",
    "df1.columns"
   ]
  },
  {
   "cell_type": "code",
   "execution_count": 13,
   "metadata": {},
   "outputs": [],
   "source": [
    "cols_to_scale = ['tenure','MonthlyCharges','TotalCharges']\n",
    "\n",
    "from sklearn.preprocessing import MinMaxScaler\n",
    "scaler = MinMaxScaler()\n",
    "df1[cols_to_scale] = scaler.fit_transform(df1[cols_to_scale])"
   ]
  },
  {
   "cell_type": "code",
   "execution_count": 14,
   "metadata": {},
   "outputs": [],
   "source": [
    "X = df1.drop(\"Churn\",axis=1)\n",
    "y = df1[\"Churn\"]\n",
    "\n",
    "from sklearn.model_selection import train_test_split\n",
    "X_train, X_test, y_train, y_test = train_test_split(X, y, test_size=0.2, random_state=5)"
   ]
  },
  {
   "cell_type": "code",
   "execution_count": 15,
   "metadata": {},
   "outputs": [
    {
     "output_type": "execute_result",
     "data": {
      "text/plain": [
       "(5625, 26)"
      ]
     },
     "metadata": {},
     "execution_count": 15
    }
   ],
   "source": [
    "X_train.shape"
   ]
  },
  {
   "cell_type": "code",
   "execution_count": 16,
   "metadata": {},
   "outputs": [
    {
     "output_type": "stream",
     "name": "stdout",
     "text": [
      "Epoch 1/100\n",
      "176/176 [==============================] - 6s 7ms/step - loss: 0.5792 - accuracy: 0.7056\n",
      "Epoch 2/100\n",
      "176/176 [==============================] - 1s 5ms/step - loss: 0.4466 - accuracy: 0.7846\n",
      "Epoch 3/100\n",
      "176/176 [==============================] - 1s 5ms/step - loss: 0.4220 - accuracy: 0.8004\n",
      "Epoch 4/100\n",
      "176/176 [==============================] - 1s 5ms/step - loss: 0.4091 - accuracy: 0.8054\n",
      "Epoch 5/100\n",
      "176/176 [==============================] - 1s 6ms/step - loss: 0.4121 - accuracy: 0.8085\n",
      "Epoch 6/100\n",
      "176/176 [==============================] - 1s 5ms/step - loss: 0.4167 - accuracy: 0.8041\n",
      "Epoch 7/100\n",
      "176/176 [==============================] - 1s 6ms/step - loss: 0.4112 - accuracy: 0.8068\n",
      "Epoch 8/100\n",
      "176/176 [==============================] - 1s 5ms/step - loss: 0.4059 - accuracy: 0.8103\n",
      "Epoch 9/100\n",
      "176/176 [==============================] - 1s 5ms/step - loss: 0.3964 - accuracy: 0.8139\n",
      "Epoch 10/100\n",
      "176/176 [==============================] - 1s 5ms/step - loss: 0.4046 - accuracy: 0.8069\n",
      "Epoch 11/100\n",
      "176/176 [==============================] - 1s 5ms/step - loss: 0.4103 - accuracy: 0.8101\n",
      "Epoch 12/100\n",
      "176/176 [==============================] - 1s 4ms/step - loss: 0.3982 - accuracy: 0.8110\n",
      "Epoch 13/100\n",
      "176/176 [==============================] - 1s 4ms/step - loss: 0.4056 - accuracy: 0.8148\n",
      "Epoch 14/100\n",
      "176/176 [==============================] - 1s 5ms/step - loss: 0.3941 - accuracy: 0.8198\n",
      "Epoch 15/100\n",
      "176/176 [==============================] - 1s 5ms/step - loss: 0.3984 - accuracy: 0.8228\n",
      "Epoch 16/100\n",
      "176/176 [==============================] - 1s 4ms/step - loss: 0.4009 - accuracy: 0.8156\n",
      "Epoch 17/100\n",
      "176/176 [==============================] - 1s 5ms/step - loss: 0.3972 - accuracy: 0.8127\n",
      "Epoch 18/100\n",
      "176/176 [==============================] - 1s 5ms/step - loss: 0.4016 - accuracy: 0.8148\n",
      "Epoch 19/100\n",
      "176/176 [==============================] - 1s 5ms/step - loss: 0.4064 - accuracy: 0.8082\n",
      "Epoch 20/100\n",
      "176/176 [==============================] - 1s 4ms/step - loss: 0.3947 - accuracy: 0.8182\n",
      "Epoch 21/100\n",
      "176/176 [==============================] - 1s 5ms/step - loss: 0.3956 - accuracy: 0.8145\n",
      "Epoch 22/100\n",
      "176/176 [==============================] - 1s 4ms/step - loss: 0.3925 - accuracy: 0.8105\n",
      "Epoch 23/100\n",
      "176/176 [==============================] - 1s 5ms/step - loss: 0.4036 - accuracy: 0.8136\n",
      "Epoch 24/100\n",
      "176/176 [==============================] - 1s 4ms/step - loss: 0.4004 - accuracy: 0.8151\n",
      "Epoch 25/100\n",
      "176/176 [==============================] - 1s 5ms/step - loss: 0.4012 - accuracy: 0.8098\n",
      "Epoch 26/100\n",
      "176/176 [==============================] - 1s 5ms/step - loss: 0.3865 - accuracy: 0.8226\n",
      "Epoch 27/100\n",
      "176/176 [==============================] - 1s 5ms/step - loss: 0.3949 - accuracy: 0.8167\n",
      "Epoch 28/100\n",
      "176/176 [==============================] - 1s 5ms/step - loss: 0.3897 - accuracy: 0.8222\n",
      "Epoch 29/100\n",
      "176/176 [==============================] - 1s 4ms/step - loss: 0.3861 - accuracy: 0.8271\n",
      "Epoch 30/100\n",
      "176/176 [==============================] - 1s 5ms/step - loss: 0.3855 - accuracy: 0.8249\n",
      "Epoch 31/100\n",
      "176/176 [==============================] - 1s 5ms/step - loss: 0.4022 - accuracy: 0.8167\n",
      "Epoch 32/100\n",
      "176/176 [==============================] - 1s 4ms/step - loss: 0.3945 - accuracy: 0.8156\n",
      "Epoch 33/100\n",
      "176/176 [==============================] - 1s 4ms/step - loss: 0.3927 - accuracy: 0.8150\n",
      "Epoch 34/100\n",
      "176/176 [==============================] - 1s 5ms/step - loss: 0.3980 - accuracy: 0.8180\n",
      "Epoch 35/100\n",
      "176/176 [==============================] - 1s 4ms/step - loss: 0.3946 - accuracy: 0.8191\n",
      "Epoch 36/100\n",
      "176/176 [==============================] - 1s 5ms/step - loss: 0.3881 - accuracy: 0.8256\n",
      "Epoch 37/100\n",
      "176/176 [==============================] - 1s 5ms/step - loss: 0.4000 - accuracy: 0.8100\n",
      "Epoch 38/100\n",
      "176/176 [==============================] - 1s 5ms/step - loss: 0.3992 - accuracy: 0.8118\n",
      "Epoch 39/100\n",
      "176/176 [==============================] - 1s 5ms/step - loss: 0.3919 - accuracy: 0.8189\n",
      "Epoch 40/100\n",
      "176/176 [==============================] - 1s 5ms/step - loss: 0.3874 - accuracy: 0.8188\n",
      "Epoch 41/100\n",
      "176/176 [==============================] - 1s 6ms/step - loss: 0.3926 - accuracy: 0.8162\n",
      "Epoch 42/100\n",
      "176/176 [==============================] - 1s 6ms/step - loss: 0.3843 - accuracy: 0.8182\n",
      "Epoch 43/100\n",
      "176/176 [==============================] - 1s 8ms/step - loss: 0.3831 - accuracy: 0.8265\n",
      "Epoch 44/100\n",
      "176/176 [==============================] - 1s 8ms/step - loss: 0.3861 - accuracy: 0.8206\n",
      "Epoch 45/100\n",
      "176/176 [==============================] - 1s 7ms/step - loss: 0.3916 - accuracy: 0.8096\n",
      "Epoch 46/100\n",
      "176/176 [==============================] - 1s 5ms/step - loss: 0.3882 - accuracy: 0.8175\n",
      "Epoch 47/100\n",
      "176/176 [==============================] - 1s 5ms/step - loss: 0.3979 - accuracy: 0.8100\n",
      "Epoch 48/100\n",
      "176/176 [==============================] - 1s 5ms/step - loss: 0.4025 - accuracy: 0.8090\n",
      "Epoch 49/100\n",
      "176/176 [==============================] - 1s 5ms/step - loss: 0.3835 - accuracy: 0.8205\n",
      "Epoch 50/100\n",
      "176/176 [==============================] - 1s 5ms/step - loss: 0.3906 - accuracy: 0.8175\n",
      "Epoch 51/100\n",
      "176/176 [==============================] - 1s 5ms/step - loss: 0.3770 - accuracy: 0.8274\n",
      "Epoch 52/100\n",
      "176/176 [==============================] - 1s 5ms/step - loss: 0.3832 - accuracy: 0.8195\n",
      "Epoch 53/100\n",
      "176/176 [==============================] - 1s 5ms/step - loss: 0.3900 - accuracy: 0.8172\n",
      "Epoch 54/100\n",
      "176/176 [==============================] - 1s 5ms/step - loss: 0.3902 - accuracy: 0.8210\n",
      "Epoch 55/100\n",
      "176/176 [==============================] - 1s 5ms/step - loss: 0.3840 - accuracy: 0.8242\n",
      "Epoch 56/100\n",
      "176/176 [==============================] - 1s 5ms/step - loss: 0.3801 - accuracy: 0.8210\n",
      "Epoch 57/100\n",
      "176/176 [==============================] - 1s 7ms/step - loss: 0.3869 - accuracy: 0.8215\n",
      "Epoch 58/100\n",
      "176/176 [==============================] - 1s 8ms/step - loss: 0.3831 - accuracy: 0.8286\n",
      "Epoch 59/100\n",
      "176/176 [==============================] - 1s 5ms/step - loss: 0.3984 - accuracy: 0.8131\n",
      "Epoch 60/100\n",
      "176/176 [==============================] - 1s 5ms/step - loss: 0.3981 - accuracy: 0.8127\n",
      "Epoch 61/100\n",
      "176/176 [==============================] - 1s 5ms/step - loss: 0.3758 - accuracy: 0.8230\n",
      "Epoch 62/100\n",
      "176/176 [==============================] - 1s 5ms/step - loss: 0.3846 - accuracy: 0.8200\n",
      "Epoch 63/100\n",
      "176/176 [==============================] - 1s 5ms/step - loss: 0.3724 - accuracy: 0.8256\n",
      "Epoch 64/100\n",
      "176/176 [==============================] - 1s 5ms/step - loss: 0.3790 - accuracy: 0.8212\n",
      "Epoch 65/100\n",
      "176/176 [==============================] - 1s 5ms/step - loss: 0.3789 - accuracy: 0.8281\n",
      "Epoch 66/100\n",
      "176/176 [==============================] - 1s 5ms/step - loss: 0.3893 - accuracy: 0.8191\n",
      "Epoch 67/100\n",
      "176/176 [==============================] - 1s 5ms/step - loss: 0.3809 - accuracy: 0.8223\n",
      "Epoch 68/100\n",
      "176/176 [==============================] - 1s 5ms/step - loss: 0.3866 - accuracy: 0.8167\n",
      "Epoch 69/100\n",
      "176/176 [==============================] - 1s 5ms/step - loss: 0.3764 - accuracy: 0.8244\n",
      "Epoch 70/100\n",
      "176/176 [==============================] - 1s 5ms/step - loss: 0.4009 - accuracy: 0.8121\n",
      "Epoch 71/100\n",
      "176/176 [==============================] - 1s 5ms/step - loss: 0.3773 - accuracy: 0.8261\n",
      "Epoch 72/100\n",
      "176/176 [==============================] - 1s 5ms/step - loss: 0.3860 - accuracy: 0.8244\n",
      "Epoch 73/100\n",
      "176/176 [==============================] - 1s 5ms/step - loss: 0.3691 - accuracy: 0.8278\n",
      "Epoch 74/100\n",
      "176/176 [==============================] - 1s 5ms/step - loss: 0.3930 - accuracy: 0.8127\n",
      "Epoch 75/100\n",
      "176/176 [==============================] - 1s 5ms/step - loss: 0.3713 - accuracy: 0.8300\n",
      "Epoch 76/100\n",
      "176/176 [==============================] - 1s 6ms/step - loss: 0.3807 - accuracy: 0.8249\n",
      "Epoch 77/100\n",
      "176/176 [==============================] - 1s 5ms/step - loss: 0.3858 - accuracy: 0.8180\n",
      "Epoch 78/100\n",
      "176/176 [==============================] - 1s 5ms/step - loss: 0.3704 - accuracy: 0.8317\n",
      "Epoch 79/100\n",
      "176/176 [==============================] - 1s 5ms/step - loss: 0.3795 - accuracy: 0.8229\n",
      "Epoch 80/100\n",
      "176/176 [==============================] - 1s 5ms/step - loss: 0.3808 - accuracy: 0.8218\n",
      "Epoch 81/100\n",
      "176/176 [==============================] - 1s 5ms/step - loss: 0.3700 - accuracy: 0.8285\n",
      "Epoch 82/100\n",
      "176/176 [==============================] - 1s 5ms/step - loss: 0.3807 - accuracy: 0.8231\n",
      "Epoch 83/100\n",
      "176/176 [==============================] - 1s 5ms/step - loss: 0.3853 - accuracy: 0.8154\n",
      "Epoch 84/100\n",
      "176/176 [==============================] - 1s 5ms/step - loss: 0.3832 - accuracy: 0.8160\n",
      "Epoch 85/100\n",
      "176/176 [==============================] - 1s 5ms/step - loss: 0.3861 - accuracy: 0.8209\n",
      "Epoch 86/100\n",
      "176/176 [==============================] - 1s 5ms/step - loss: 0.3824 - accuracy: 0.8181\n",
      "Epoch 87/100\n",
      "176/176 [==============================] - 1s 5ms/step - loss: 0.3761 - accuracy: 0.8238\n",
      "Epoch 88/100\n",
      "176/176 [==============================] - 1s 6ms/step - loss: 0.3716 - accuracy: 0.8245\n",
      "Epoch 89/100\n",
      "176/176 [==============================] - 1s 5ms/step - loss: 0.3847 - accuracy: 0.8205\n",
      "Epoch 90/100\n",
      "176/176 [==============================] - 1s 6ms/step - loss: 0.3778 - accuracy: 0.8178\n",
      "Epoch 91/100\n",
      "176/176 [==============================] - 1s 6ms/step - loss: 0.3813 - accuracy: 0.8216\n",
      "Epoch 92/100\n",
      "176/176 [==============================] - 1s 5ms/step - loss: 0.3706 - accuracy: 0.8303\n",
      "Epoch 93/100\n",
      "176/176 [==============================] - 1s 6ms/step - loss: 0.3723 - accuracy: 0.8263\n",
      "Epoch 94/100\n",
      "176/176 [==============================] - 1s 5ms/step - loss: 0.3730 - accuracy: 0.8255\n",
      "Epoch 95/100\n",
      "176/176 [==============================] - 1s 5ms/step - loss: 0.3700 - accuracy: 0.8312\n",
      "Epoch 96/100\n",
      "176/176 [==============================] - 1s 6ms/step - loss: 0.3764 - accuracy: 0.8246\n",
      "Epoch 97/100\n",
      "176/176 [==============================] - 1s 6ms/step - loss: 0.3678 - accuracy: 0.8348\n",
      "Epoch 98/100\n",
      "176/176 [==============================] - 1s 5ms/step - loss: 0.3703 - accuracy: 0.8312\n",
      "Epoch 99/100\n",
      "176/176 [==============================] - 1s 5ms/step - loss: 0.3777 - accuracy: 0.8237\n",
      "Epoch 100/100\n",
      "176/176 [==============================] - 1s 5ms/step - loss: 0.3770 - accuracy: 0.8213\n"
     ]
    },
    {
     "output_type": "execute_result",
     "data": {
      "text/plain": [
       "<tensorflow.python.keras.callbacks.History at 0x19eaf5f9940>"
      ]
     },
     "metadata": {},
     "execution_count": 16
    }
   ],
   "source": [
    "model = keras.Sequential([\n",
    "    keras.layers.Dense(20,input_shape=(26,),activation=\"relu\"),\n",
    "    keras.layers.Dense(1,activation=\"sigmoid\")\n",
    "])\n",
    "\n",
    "model.compile(\n",
    "    loss=\"binary_crossentropy\",\n",
    "    optimizer=\"adam\",\n",
    "    metrics=[\"accuracy\"]\n",
    ")\n",
    "\n",
    "model.fit(X_train,y_train,epochs=100)"
   ]
  },
  {
   "cell_type": "code",
   "execution_count": 17,
   "metadata": {},
   "outputs": [
    {
     "output_type": "stream",
     "name": "stdout",
     "text": [
      "44/44 [==============================] - 0s 3ms/step - loss: 0.4527 - accuracy: 0.7811\n"
     ]
    },
    {
     "output_type": "execute_result",
     "data": {
      "text/plain": [
       "[0.45271700620651245, 0.7810945510864258]"
      ]
     },
     "metadata": {},
     "execution_count": 17
    }
   ],
   "source": [
    "model.evaluate(X_test,y_test)"
   ]
  },
  {
   "cell_type": "code",
   "execution_count": 18,
   "metadata": {},
   "outputs": [],
   "source": [
    "yp=model.predict(X_test)"
   ]
  },
  {
   "cell_type": "code",
   "execution_count": 19,
   "metadata": {},
   "outputs": [
    {
     "output_type": "execute_result",
     "data": {
      "text/plain": [
       "array([0.20381247, 0.38334155, 0.02517631, ..., 0.7518504 , 0.682598  ,\n",
       "       0.5909445 ], dtype=float32)"
      ]
     },
     "metadata": {},
     "execution_count": 19
    }
   ],
   "source": [
    "yp = yp.reshape(-1)\n",
    "yp"
   ]
  },
  {
   "cell_type": "code",
   "execution_count": 27,
   "metadata": {},
   "outputs": [
    {
     "output_type": "execute_result",
     "data": {
      "text/plain": [
       "array([0., 0., 0., ..., 1., 1., 0.], dtype=float32)"
      ]
     },
     "metadata": {},
     "execution_count": 27
    }
   ],
   "source": []
  },
  {
   "cell_type": "code",
   "execution_count": 20,
   "metadata": {},
   "outputs": [
    {
     "output_type": "execute_result",
     "data": {
      "text/plain": [
       "array([[879, 188],\n",
       "       [120, 220]], dtype=int64)"
      ]
     },
     "metadata": {},
     "execution_count": 20
    }
   ],
   "source": [
    "from sklearn.metrics import confusion_matrix,classification_report\n",
    "\n",
    "confusion_matrix(yp.round(),y_test)\n"
   ]
  },
  {
   "cell_type": "code",
   "execution_count": 21,
   "metadata": {},
   "outputs": [
    {
     "output_type": "stream",
     "name": "stdout",
     "text": [
      "              precision    recall  f1-score   support\n\n         0.0       0.88      0.82      0.85      1067\n         1.0       0.54      0.65      0.59       340\n\n    accuracy                           0.78      1407\n   macro avg       0.71      0.74      0.72      1407\nweighted avg       0.80      0.78      0.79      1407\n\n"
     ]
    }
   ],
   "source": [
    "print(classification_report(yp.round(),y_test))"
   ]
  },
  {
   "cell_type": "code",
   "execution_count": 25,
   "metadata": {},
   "outputs": [
    {
     "output_type": "execute_result",
     "data": {
      "text/plain": [
       "True"
      ]
     },
     "metadata": {},
     "execution_count": 25
    }
   ],
   "source": []
  },
  {
   "cell_type": "code",
   "execution_count": 62,
   "metadata": {},
   "outputs": [],
   "source": [
    "X_class_0 = df1[df1[\"Churn\"]==0]\n",
    "X_class_1 = df1[df1[\"Churn\"]==1]\n",
    "X_class_0_count, X_class_1_count = df1[\"Churn\"].value_counts()"
   ]
  },
  {
   "cell_type": "code",
   "execution_count": 35,
   "metadata": {},
   "outputs": [
    {
     "output_type": "stream",
     "name": "stdout",
     "text": [
      "(1869, 27)\n"
     ]
    }
   ],
   "source": [
    "X_class_0 = X_class_0.sample(n=X_class_1_count,random_state=1)\n",
    "print(X_class_0.shape)"
   ]
  },
  {
   "cell_type": "code",
   "execution_count": 38,
   "metadata": {},
   "outputs": [
    {
     "output_type": "stream",
     "name": "stdout",
     "text": [
      "(3738, 27)\n"
     ]
    }
   ],
   "source": [
    "df2 = pd.concat([X_class_0,X_class_1],axis=0)\n",
    "df2.head()\n",
    "print(df2.shape)"
   ]
  },
  {
   "cell_type": "code",
   "execution_count": 40,
   "metadata": {},
   "outputs": [],
   "source": [
    "X_sample = df2.drop(\"Churn\",axis=1)\n",
    "Y_sample = df2[\"Churn\"]\n",
    "X_train, X_test, y_train, y_test = train_test_split(X_sample, Y_sample, test_size=0.33, random_state=42,stratify=Y_sample)"
   ]
  },
  {
   "cell_type": "code",
   "execution_count": 42,
   "metadata": {},
   "outputs": [
    {
     "output_type": "stream",
     "name": "stdout",
     "text": [
      "Epoch 1/100\n",
      "79/79 [==============================] - 1s 10ms/step - loss: 0.4778 - accuracy: 0.7696\n",
      "Epoch 2/100\n",
      "79/79 [==============================] - 1s 7ms/step - loss: 0.4653 - accuracy: 0.7696\n",
      "Epoch 3/100\n",
      "79/79 [==============================] - 1s 6ms/step - loss: 0.4628 - accuracy: 0.7772\n",
      "Epoch 4/100\n",
      "79/79 [==============================] - 1s 7ms/step - loss: 0.4610 - accuracy: 0.7804\n",
      "Epoch 5/100\n",
      "79/79 [==============================] - 0s 6ms/step - loss: 0.4593 - accuracy: 0.7823\n",
      "Epoch 6/100\n",
      "79/79 [==============================] - 0s 6ms/step - loss: 0.4587 - accuracy: 0.7823\n",
      "Epoch 7/100\n",
      "79/79 [==============================] - 0s 5ms/step - loss: 0.4576 - accuracy: 0.7827\n",
      "Epoch 8/100\n",
      "79/79 [==============================] - 0s 5ms/step - loss: 0.4560 - accuracy: 0.7835\n",
      "Epoch 9/100\n",
      "79/79 [==============================] - 0s 5ms/step - loss: 0.4554 - accuracy: 0.7827\n",
      "Epoch 10/100\n",
      "79/79 [==============================] - 0s 5ms/step - loss: 0.4543 - accuracy: 0.7823\n",
      "Epoch 11/100\n",
      "79/79 [==============================] - 0s 5ms/step - loss: 0.4538 - accuracy: 0.7843\n",
      "Epoch 12/100\n",
      "79/79 [==============================] - 0s 6ms/step - loss: 0.4531 - accuracy: 0.7891\n",
      "Epoch 13/100\n",
      "79/79 [==============================] - 0s 5ms/step - loss: 0.4523 - accuracy: 0.7883\n",
      "Epoch 14/100\n",
      "79/79 [==============================] - 0s 5ms/step - loss: 0.4524 - accuracy: 0.7883\n",
      "Epoch 15/100\n",
      "79/79 [==============================] - 0s 5ms/step - loss: 0.4513 - accuracy: 0.7875\n",
      "Epoch 16/100\n",
      "79/79 [==============================] - 0s 5ms/step - loss: 0.4513 - accuracy: 0.7883\n",
      "Epoch 17/100\n",
      "79/79 [==============================] - 0s 6ms/step - loss: 0.4505 - accuracy: 0.7859\n",
      "Epoch 18/100\n",
      "79/79 [==============================] - 0s 5ms/step - loss: 0.4492 - accuracy: 0.7915\n",
      "Epoch 19/100\n",
      "79/79 [==============================] - 0s 6ms/step - loss: 0.4499 - accuracy: 0.7895\n",
      "Epoch 20/100\n",
      "79/79 [==============================] - 0s 5ms/step - loss: 0.4488 - accuracy: 0.7887\n",
      "Epoch 21/100\n",
      "79/79 [==============================] - 0s 6ms/step - loss: 0.4488 - accuracy: 0.7867\n",
      "Epoch 22/100\n",
      "79/79 [==============================] - 0s 5ms/step - loss: 0.4475 - accuracy: 0.7891\n",
      "Epoch 23/100\n",
      "79/79 [==============================] - 0s 5ms/step - loss: 0.4473 - accuracy: 0.7911\n",
      "Epoch 24/100\n",
      "79/79 [==============================] - 0s 5ms/step - loss: 0.4469 - accuracy: 0.7847\n",
      "Epoch 25/100\n",
      "79/79 [==============================] - 0s 5ms/step - loss: 0.4465 - accuracy: 0.7903\n",
      "Epoch 26/100\n",
      "79/79 [==============================] - 0s 5ms/step - loss: 0.4463 - accuracy: 0.7895\n",
      "Epoch 27/100\n",
      "79/79 [==============================] - 0s 5ms/step - loss: 0.4453 - accuracy: 0.7883\n",
      "Epoch 28/100\n",
      "79/79 [==============================] - 0s 5ms/step - loss: 0.4452 - accuracy: 0.7915\n",
      "Epoch 29/100\n",
      "79/79 [==============================] - 0s 4ms/step - loss: 0.4444 - accuracy: 0.7907\n",
      "Epoch 30/100\n",
      "79/79 [==============================] - 0s 4ms/step - loss: 0.4449 - accuracy: 0.7899\n",
      "Epoch 31/100\n",
      "79/79 [==============================] - 0s 5ms/step - loss: 0.4434 - accuracy: 0.7923\n",
      "Epoch 32/100\n",
      "79/79 [==============================] - 0s 5ms/step - loss: 0.4432 - accuracy: 0.7931\n",
      "Epoch 33/100\n",
      "79/79 [==============================] - 0s 5ms/step - loss: 0.4424 - accuracy: 0.7935\n",
      "Epoch 34/100\n",
      "79/79 [==============================] - 0s 5ms/step - loss: 0.4425 - accuracy: 0.7947\n",
      "Epoch 35/100\n",
      "79/79 [==============================] - 0s 5ms/step - loss: 0.4431 - accuracy: 0.7951\n",
      "Epoch 36/100\n",
      "79/79 [==============================] - 0s 5ms/step - loss: 0.4431 - accuracy: 0.7907\n",
      "Epoch 37/100\n",
      "79/79 [==============================] - 0s 5ms/step - loss: 0.4413 - accuracy: 0.7979\n",
      "Epoch 38/100\n",
      "79/79 [==============================] - 0s 5ms/step - loss: 0.4420 - accuracy: 0.7951\n",
      "Epoch 39/100\n",
      "79/79 [==============================] - 0s 5ms/step - loss: 0.4412 - accuracy: 0.7975\n",
      "Epoch 40/100\n",
      "79/79 [==============================] - 0s 5ms/step - loss: 0.4404 - accuracy: 0.7975\n",
      "Epoch 41/100\n",
      "79/79 [==============================] - 0s 5ms/step - loss: 0.4403 - accuracy: 0.7963\n",
      "Epoch 42/100\n",
      "79/79 [==============================] - 0s 5ms/step - loss: 0.4393 - accuracy: 0.7983\n",
      "Epoch 43/100\n",
      "79/79 [==============================] - 0s 5ms/step - loss: 0.4397 - accuracy: 0.7951\n",
      "Epoch 44/100\n",
      "79/79 [==============================] - 0s 5ms/step - loss: 0.4390 - accuracy: 0.7971\n",
      "Epoch 45/100\n",
      "79/79 [==============================] - 0s 5ms/step - loss: 0.4400 - accuracy: 0.7943\n",
      "Epoch 46/100\n",
      "79/79 [==============================] - 0s 5ms/step - loss: 0.4382 - accuracy: 0.7971\n",
      "Epoch 47/100\n",
      "79/79 [==============================] - 0s 5ms/step - loss: 0.4393 - accuracy: 0.7939\n",
      "Epoch 48/100\n",
      "79/79 [==============================] - 0s 5ms/step - loss: 0.4386 - accuracy: 0.8003\n",
      "Epoch 49/100\n",
      "79/79 [==============================] - 0s 4ms/step - loss: 0.4377 - accuracy: 0.7979\n",
      "Epoch 50/100\n",
      "79/79 [==============================] - 0s 5ms/step - loss: 0.4369 - accuracy: 0.7979\n",
      "Epoch 51/100\n",
      "79/79 [==============================] - 0s 5ms/step - loss: 0.4365 - accuracy: 0.7999\n",
      "Epoch 52/100\n",
      "79/79 [==============================] - 0s 5ms/step - loss: 0.4376 - accuracy: 0.7955\n",
      "Epoch 53/100\n",
      "79/79 [==============================] - 0s 6ms/step - loss: 0.4367 - accuracy: 0.7975\n",
      "Epoch 54/100\n",
      "79/79 [==============================] - 0s 5ms/step - loss: 0.4363 - accuracy: 0.8023\n",
      "Epoch 55/100\n",
      "79/79 [==============================] - 0s 6ms/step - loss: 0.4357 - accuracy: 0.8015\n",
      "Epoch 56/100\n",
      "79/79 [==============================] - 0s 5ms/step - loss: 0.4358 - accuracy: 0.7987\n",
      "Epoch 57/100\n",
      "79/79 [==============================] - 1s 7ms/step - loss: 0.4353 - accuracy: 0.7979\n",
      "Epoch 58/100\n",
      "79/79 [==============================] - 1s 10ms/step - loss: 0.4351 - accuracy: 0.7971\n",
      "Epoch 59/100\n",
      "79/79 [==============================] - 1s 8ms/step - loss: 0.4344 - accuracy: 0.8015\n",
      "Epoch 60/100\n",
      "79/79 [==============================] - 0s 6ms/step - loss: 0.4344 - accuracy: 0.7995\n",
      "Epoch 61/100\n",
      "79/79 [==============================] - 1s 6ms/step - loss: 0.4330 - accuracy: 0.8007\n",
      "Epoch 62/100\n",
      "79/79 [==============================] - 0s 6ms/step - loss: 0.4343 - accuracy: 0.7983\n",
      "Epoch 63/100\n",
      "79/79 [==============================] - 1s 7ms/step - loss: 0.4337 - accuracy: 0.7971\n",
      "Epoch 64/100\n",
      "79/79 [==============================] - 0s 5ms/step - loss: 0.4334 - accuracy: 0.8023\n",
      "Epoch 65/100\n",
      "79/79 [==============================] - 0s 5ms/step - loss: 0.4338 - accuracy: 0.7991\n",
      "Epoch 66/100\n",
      "79/79 [==============================] - 0s 5ms/step - loss: 0.4339 - accuracy: 0.7999\n",
      "Epoch 67/100\n",
      "79/79 [==============================] - 0s 5ms/step - loss: 0.4328 - accuracy: 0.7991\n",
      "Epoch 68/100\n",
      "79/79 [==============================] - 0s 6ms/step - loss: 0.4332 - accuracy: 0.7963\n",
      "Epoch 69/100\n",
      "79/79 [==============================] - 0s 5ms/step - loss: 0.4324 - accuracy: 0.7995\n",
      "Epoch 70/100\n",
      "79/79 [==============================] - 0s 5ms/step - loss: 0.4323 - accuracy: 0.7987\n",
      "Epoch 71/100\n",
      "79/79 [==============================] - 0s 5ms/step - loss: 0.4330 - accuracy: 0.7967\n",
      "Epoch 72/100\n",
      "79/79 [==============================] - 0s 5ms/step - loss: 0.4312 - accuracy: 0.7967\n",
      "Epoch 73/100\n",
      "79/79 [==============================] - 0s 5ms/step - loss: 0.4326 - accuracy: 0.7995\n",
      "Epoch 74/100\n",
      "79/79 [==============================] - 0s 5ms/step - loss: 0.4307 - accuracy: 0.7995\n",
      "Epoch 75/100\n",
      "79/79 [==============================] - 0s 5ms/step - loss: 0.4309 - accuracy: 0.8019\n",
      "Epoch 76/100\n",
      "79/79 [==============================] - 0s 5ms/step - loss: 0.4310 - accuracy: 0.7963\n",
      "Epoch 77/100\n",
      "79/79 [==============================] - 0s 5ms/step - loss: 0.4307 - accuracy: 0.7991\n",
      "Epoch 78/100\n",
      "79/79 [==============================] - 0s 5ms/step - loss: 0.4300 - accuracy: 0.8023\n",
      "Epoch 79/100\n",
      "79/79 [==============================] - 0s 5ms/step - loss: 0.4300 - accuracy: 0.7975\n",
      "Epoch 80/100\n",
      "79/79 [==============================] - 0s 5ms/step - loss: 0.4292 - accuracy: 0.8007\n",
      "Epoch 81/100\n",
      "79/79 [==============================] - 0s 5ms/step - loss: 0.4294 - accuracy: 0.8003\n",
      "Epoch 82/100\n",
      "79/79 [==============================] - 0s 5ms/step - loss: 0.4290 - accuracy: 0.8047\n",
      "Epoch 83/100\n",
      "79/79 [==============================] - 0s 5ms/step - loss: 0.4286 - accuracy: 0.8007\n",
      "Epoch 84/100\n",
      "79/79 [==============================] - 0s 5ms/step - loss: 0.4298 - accuracy: 0.7979\n",
      "Epoch 85/100\n",
      "79/79 [==============================] - 0s 5ms/step - loss: 0.4285 - accuracy: 0.7999\n",
      "Epoch 86/100\n",
      "79/79 [==============================] - 0s 6ms/step - loss: 0.4286 - accuracy: 0.8011\n",
      "Epoch 87/100\n",
      "79/79 [==============================] - 0s 6ms/step - loss: 0.4274 - accuracy: 0.8027\n",
      "Epoch 88/100\n",
      "79/79 [==============================] - 1s 8ms/step - loss: 0.4278 - accuracy: 0.8003\n",
      "Epoch 89/100\n",
      "79/79 [==============================] - 0s 6ms/step - loss: 0.4267 - accuracy: 0.8043\n",
      "Epoch 90/100\n",
      "79/79 [==============================] - 0s 5ms/step - loss: 0.4264 - accuracy: 0.8055\n",
      "Epoch 91/100\n",
      "79/79 [==============================] - 0s 5ms/step - loss: 0.4268 - accuracy: 0.7995\n",
      "Epoch 92/100\n",
      "79/79 [==============================] - 0s 5ms/step - loss: 0.4259 - accuracy: 0.8051\n",
      "Epoch 93/100\n",
      "79/79 [==============================] - 0s 5ms/step - loss: 0.4260 - accuracy: 0.8023\n",
      "Epoch 94/100\n",
      "79/79 [==============================] - 0s 5ms/step - loss: 0.4261 - accuracy: 0.8055\n",
      "Epoch 95/100\n",
      "79/79 [==============================] - 0s 5ms/step - loss: 0.4261 - accuracy: 0.8007\n",
      "Epoch 96/100\n",
      "79/79 [==============================] - 1s 7ms/step - loss: 0.4247 - accuracy: 0.8027\n",
      "Epoch 97/100\n",
      "79/79 [==============================] - 1s 7ms/step - loss: 0.4260 - accuracy: 0.8023\n",
      "Epoch 98/100\n",
      "79/79 [==============================] - 1s 9ms/step - loss: 0.4245 - accuracy: 0.8027\n",
      "Epoch 99/100\n",
      "79/79 [==============================] - 1s 8ms/step - loss: 0.4245 - accuracy: 0.8079\n",
      "Epoch 100/100\n",
      "79/79 [==============================] - 0s 6ms/step - loss: 0.4242 - accuracy: 0.8027\n"
     ]
    },
    {
     "output_type": "execute_result",
     "data": {
      "text/plain": [
       "<tensorflow.python.keras.callbacks.History at 0x19fbb60f8e0>"
      ]
     },
     "metadata": {},
     "execution_count": 42
    }
   ],
   "source": [
    "model.fit(X_train,y_train,epochs=100)"
   ]
  },
  {
   "cell_type": "code",
   "execution_count": 43,
   "metadata": {},
   "outputs": [
    {
     "output_type": "stream",
     "name": "stdout",
     "text": [
      "39/39 [==============================] - 0s 4ms/step - loss: 0.4792 - accuracy: 0.7731\n"
     ]
    },
    {
     "output_type": "execute_result",
     "data": {
      "text/plain": [
       "[0.4792119264602661, 0.7730956077575684]"
      ]
     },
     "metadata": {},
     "execution_count": 43
    }
   ],
   "source": [
    "model.evaluate(X_test,y_test)"
   ]
  },
  {
   "cell_type": "code",
   "execution_count": 47,
   "metadata": {},
   "outputs": [],
   "source": [
    "yp = model.predict(X_test)\n",
    "yp = yp.reshape(-1)"
   ]
  },
  {
   "cell_type": "code",
   "execution_count": 48,
   "metadata": {},
   "outputs": [
    {
     "output_type": "stream",
     "name": "stdout",
     "text": [
      "              precision    recall  f1-score   support\n\n         0.0       0.78      0.77      0.78       629\n         1.0       0.76      0.78      0.77       605\n\n    accuracy                           0.77      1234\n   macro avg       0.77      0.77      0.77      1234\nweighted avg       0.77      0.77      0.77      1234\n\n"
     ]
    }
   ],
   "source": [
    "print(classification_report(yp.round(),y_test))"
   ]
  },
  {
   "cell_type": "code",
   "execution_count": 67,
   "metadata": {},
   "outputs": [
    {
     "output_type": "stream",
     "name": "stdout",
     "text": [
      "(5163, 27)\n(5163, 27)\n"
     ]
    }
   ],
   "source": [
    "# using oversampling\n",
    "X_class_1 = X_class_1.sample(X_class_0_count,replace=True)\n",
    "print(X_class_1.shape)\n",
    "print(X_class_0.shape)\n",
    "df2 = pd.concat([X_class_0,X_class_1],axis=0)"
   ]
  },
  {
   "cell_type": "code",
   "execution_count": 59,
   "metadata": {},
   "outputs": [
    {
     "output_type": "execute_result",
     "data": {
      "text/plain": [
       "      gender  SeniorCitizen  Partner  Dependents  tenure  PhoneService  \\\n",
       "5380       0              0        0           0       2             1   \n",
       "1198       1              0        0           0      42             1   \n",
       "7012       1              0        1           0      62             1   \n",
       "3306       1              0        1           1       3             1   \n",
       "2993       0              0        1           1       1             1   \n",
       "\n",
       "      MultipleLines InternetService  OnlineSecurity  OnlineBackup  \\\n",
       "5380              0     Fiber optic               0             0   \n",
       "1198              0              No               0             0   \n",
       "7012              1             DSL               1             1   \n",
       "3306              0     Fiber optic               0             1   \n",
       "2993              0              No               0             0   \n",
       "\n",
       "      DeviceProtection  TechSupport  StreamingTV  StreamingMovies  \\\n",
       "5380                 0            0            1                0   \n",
       "1198                 0            0            0                0   \n",
       "7012                 0            1            1                1   \n",
       "3306                 0            1            0                0   \n",
       "2993                 0            0            0                0   \n",
       "\n",
       "            Contract  PaperlessBilling              PaymentMethod  \\\n",
       "5380  Month-to-month                 1           Electronic check   \n",
       "1198        Two year                 1  Bank transfer (automatic)   \n",
       "7012        Two year                 1           Electronic check   \n",
       "3306  Month-to-month                 1           Electronic check   \n",
       "2993        One year                 0               Mailed check   \n",
       "\n",
       "      MonthlyCharges  TotalCharges  Churn  \n",
       "5380           80.25        144.55      1  \n",
       "1198           20.75        844.45      0  \n",
       "7012           84.95       5150.55      0  \n",
       "3306           80.00        241.30      0  \n",
       "2993           20.40         20.40      0  "
      ],
      "text/html": "<div>\n<style scoped>\n    .dataframe tbody tr th:only-of-type {\n        vertical-align: middle;\n    }\n\n    .dataframe tbody tr th {\n        vertical-align: top;\n    }\n\n    .dataframe thead th {\n        text-align: right;\n    }\n</style>\n<table border=\"1\" class=\"dataframe\">\n  <thead>\n    <tr style=\"text-align: right;\">\n      <th></th>\n      <th>gender</th>\n      <th>SeniorCitizen</th>\n      <th>Partner</th>\n      <th>Dependents</th>\n      <th>tenure</th>\n      <th>PhoneService</th>\n      <th>MultipleLines</th>\n      <th>InternetService</th>\n      <th>OnlineSecurity</th>\n      <th>OnlineBackup</th>\n      <th>DeviceProtection</th>\n      <th>TechSupport</th>\n      <th>StreamingTV</th>\n      <th>StreamingMovies</th>\n      <th>Contract</th>\n      <th>PaperlessBilling</th>\n      <th>PaymentMethod</th>\n      <th>MonthlyCharges</th>\n      <th>TotalCharges</th>\n      <th>Churn</th>\n    </tr>\n  </thead>\n  <tbody>\n    <tr>\n      <th>5380</th>\n      <td>0</td>\n      <td>0</td>\n      <td>0</td>\n      <td>0</td>\n      <td>2</td>\n      <td>1</td>\n      <td>0</td>\n      <td>Fiber optic</td>\n      <td>0</td>\n      <td>0</td>\n      <td>0</td>\n      <td>0</td>\n      <td>1</td>\n      <td>0</td>\n      <td>Month-to-month</td>\n      <td>1</td>\n      <td>Electronic check</td>\n      <td>80.25</td>\n      <td>144.55</td>\n      <td>1</td>\n    </tr>\n    <tr>\n      <th>1198</th>\n      <td>1</td>\n      <td>0</td>\n      <td>0</td>\n      <td>0</td>\n      <td>42</td>\n      <td>1</td>\n      <td>0</td>\n      <td>No</td>\n      <td>0</td>\n      <td>0</td>\n      <td>0</td>\n      <td>0</td>\n      <td>0</td>\n      <td>0</td>\n      <td>Two year</td>\n      <td>1</td>\n      <td>Bank transfer (automatic)</td>\n      <td>20.75</td>\n      <td>844.45</td>\n      <td>0</td>\n    </tr>\n    <tr>\n      <th>7012</th>\n      <td>1</td>\n      <td>0</td>\n      <td>1</td>\n      <td>0</td>\n      <td>62</td>\n      <td>1</td>\n      <td>1</td>\n      <td>DSL</td>\n      <td>1</td>\n      <td>1</td>\n      <td>0</td>\n      <td>1</td>\n      <td>1</td>\n      <td>1</td>\n      <td>Two year</td>\n      <td>1</td>\n      <td>Electronic check</td>\n      <td>84.95</td>\n      <td>5150.55</td>\n      <td>0</td>\n    </tr>\n    <tr>\n      <th>3306</th>\n      <td>1</td>\n      <td>0</td>\n      <td>1</td>\n      <td>1</td>\n      <td>3</td>\n      <td>1</td>\n      <td>0</td>\n      <td>Fiber optic</td>\n      <td>0</td>\n      <td>1</td>\n      <td>0</td>\n      <td>1</td>\n      <td>0</td>\n      <td>0</td>\n      <td>Month-to-month</td>\n      <td>1</td>\n      <td>Electronic check</td>\n      <td>80.00</td>\n      <td>241.30</td>\n      <td>0</td>\n    </tr>\n    <tr>\n      <th>2993</th>\n      <td>0</td>\n      <td>0</td>\n      <td>1</td>\n      <td>1</td>\n      <td>1</td>\n      <td>1</td>\n      <td>0</td>\n      <td>No</td>\n      <td>0</td>\n      <td>0</td>\n      <td>0</td>\n      <td>0</td>\n      <td>0</td>\n      <td>0</td>\n      <td>One year</td>\n      <td>0</td>\n      <td>Mailed check</td>\n      <td>20.40</td>\n      <td>20.40</td>\n      <td>0</td>\n    </tr>\n  </tbody>\n</table>\n</div>"
     },
     "metadata": {},
     "execution_count": 59
    }
   ],
   "source": [
    "X_class_1.head()"
   ]
  },
  {
   "cell_type": "code",
   "execution_count": 68,
   "metadata": {},
   "outputs": [],
   "source": [
    "X_sample = df2.drop(\"Churn\",axis=1)\n",
    "Y_sample = df2[\"Churn\"]\n",
    "X_train, X_test, y_train, y_test = train_test_split(X_sample, Y_sample, test_size=0.33, random_state=42,stratify=Y_sample)\n",
    "\n"
   ]
  },
  {
   "cell_type": "code",
   "execution_count": 69,
   "metadata": {},
   "outputs": [
    {
     "output_type": "stream",
     "name": "stdout",
     "text": [
      "Epoch 1/100\n",
      "217/217 [==============================] - 1s 6ms/step - loss: 0.4413 - accuracy: 0.7885\n",
      "Epoch 2/100\n",
      "217/217 [==============================] - 1s 7ms/step - loss: 0.4366 - accuracy: 0.7898\n",
      "Epoch 3/100\n",
      "217/217 [==============================] - 1s 6ms/step - loss: 0.4338 - accuracy: 0.7918\n",
      "Epoch 4/100\n",
      "217/217 [==============================] - 1s 6ms/step - loss: 0.4319 - accuracy: 0.7929\n",
      "Epoch 5/100\n",
      "217/217 [==============================] - 1s 5ms/step - loss: 0.4305 - accuracy: 0.7963\n",
      "Epoch 6/100\n",
      "217/217 [==============================] - 1s 5ms/step - loss: 0.4285 - accuracy: 0.7960\n",
      "Epoch 7/100\n",
      "217/217 [==============================] - 1s 5ms/step - loss: 0.4281 - accuracy: 0.7931\n",
      "Epoch 8/100\n",
      "217/217 [==============================] - 1s 5ms/step - loss: 0.4272 - accuracy: 0.7989\n",
      "Epoch 9/100\n",
      "217/217 [==============================] - 1s 5ms/step - loss: 0.4257 - accuracy: 0.7976\n",
      "Epoch 10/100\n",
      "217/217 [==============================] - 1s 5ms/step - loss: 0.4246 - accuracy: 0.7995\n",
      "Epoch 11/100\n",
      "217/217 [==============================] - 1s 5ms/step - loss: 0.4239 - accuracy: 0.7992\n",
      "Epoch 12/100\n",
      "217/217 [==============================] - 1s 5ms/step - loss: 0.4230 - accuracy: 0.8015\n",
      "Epoch 13/100\n",
      "217/217 [==============================] - 1s 5ms/step - loss: 0.4228 - accuracy: 0.8010\n",
      "Epoch 14/100\n",
      "217/217 [==============================] - 1s 5ms/step - loss: 0.4221 - accuracy: 0.8031\n",
      "Epoch 15/100\n",
      "217/217 [==============================] - 2s 7ms/step - loss: 0.4220 - accuracy: 0.8034\n",
      "Epoch 16/100\n",
      "217/217 [==============================] - 1s 6ms/step - loss: 0.4209 - accuracy: 0.8024\n",
      "Epoch 17/100\n",
      "217/217 [==============================] - 1s 6ms/step - loss: 0.4203 - accuracy: 0.8041\n",
      "Epoch 18/100\n",
      "217/217 [==============================] - 1s 5ms/step - loss: 0.4203 - accuracy: 0.8025\n",
      "Epoch 19/100\n",
      "217/217 [==============================] - 1s 5ms/step - loss: 0.4192 - accuracy: 0.8073\n",
      "Epoch 20/100\n",
      "217/217 [==============================] - 1s 5ms/step - loss: 0.4189 - accuracy: 0.8033\n",
      "Epoch 21/100\n",
      "217/217 [==============================] - 1s 5ms/step - loss: 0.4179 - accuracy: 0.8049\n",
      "Epoch 22/100\n",
      "217/217 [==============================] - 1s 5ms/step - loss: 0.4189 - accuracy: 0.8036\n",
      "Epoch 23/100\n",
      "217/217 [==============================] - 1s 5ms/step - loss: 0.4176 - accuracy: 0.8049\n",
      "Epoch 24/100\n",
      "217/217 [==============================] - 1s 5ms/step - loss: 0.4174 - accuracy: 0.8041\n",
      "Epoch 25/100\n",
      "217/217 [==============================] - 1s 5ms/step - loss: 0.4165 - accuracy: 0.8056\n",
      "Epoch 26/100\n",
      "217/217 [==============================] - 1s 5ms/step - loss: 0.4171 - accuracy: 0.8038\n",
      "Epoch 27/100\n",
      "217/217 [==============================] - 1s 5ms/step - loss: 0.4162 - accuracy: 0.8059\n",
      "Epoch 28/100\n",
      "217/217 [==============================] - 1s 6ms/step - loss: 0.4151 - accuracy: 0.8076\n",
      "Epoch 29/100\n",
      "217/217 [==============================] - 1s 5ms/step - loss: 0.4161 - accuracy: 0.8028\n",
      "Epoch 30/100\n",
      "217/217 [==============================] - 1s 5ms/step - loss: 0.4148 - accuracy: 0.8072\n",
      "Epoch 31/100\n",
      "217/217 [==============================] - 1s 5ms/step - loss: 0.4149 - accuracy: 0.8057\n",
      "Epoch 32/100\n",
      "217/217 [==============================] - 1s 5ms/step - loss: 0.4146 - accuracy: 0.8062\n",
      "Epoch 33/100\n",
      "217/217 [==============================] - 1s 5ms/step - loss: 0.4140 - accuracy: 0.8114\n",
      "Epoch 34/100\n",
      "217/217 [==============================] - 1s 5ms/step - loss: 0.4137 - accuracy: 0.8089\n",
      "Epoch 35/100\n",
      "217/217 [==============================] - 1s 5ms/step - loss: 0.4128 - accuracy: 0.8086\n",
      "Epoch 36/100\n",
      "217/217 [==============================] - 1s 6ms/step - loss: 0.4128 - accuracy: 0.8090\n",
      "Epoch 37/100\n",
      "217/217 [==============================] - 1s 7ms/step - loss: 0.4126 - accuracy: 0.8092\n",
      "Epoch 38/100\n",
      "217/217 [==============================] - 1s 6ms/step - loss: 0.4125 - accuracy: 0.8063\n",
      "Epoch 39/100\n",
      "217/217 [==============================] - 1s 5ms/step - loss: 0.4122 - accuracy: 0.8079\n",
      "Epoch 40/100\n",
      "217/217 [==============================] - 1s 5ms/step - loss: 0.4120 - accuracy: 0.8080\n",
      "Epoch 41/100\n",
      "217/217 [==============================] - 1s 5ms/step - loss: 0.4118 - accuracy: 0.8090\n",
      "Epoch 42/100\n",
      "217/217 [==============================] - 1s 5ms/step - loss: 0.4121 - accuracy: 0.8086\n",
      "Epoch 43/100\n",
      "217/217 [==============================] - 1s 5ms/step - loss: 0.4107 - accuracy: 0.8096\n",
      "Epoch 44/100\n",
      "217/217 [==============================] - 1s 5ms/step - loss: 0.4109 - accuracy: 0.8109\n",
      "Epoch 45/100\n",
      "217/217 [==============================] - 1s 5ms/step - loss: 0.4103 - accuracy: 0.8089\n",
      "Epoch 46/100\n",
      "217/217 [==============================] - 1s 5ms/step - loss: 0.4100 - accuracy: 0.8079\n",
      "Epoch 47/100\n",
      "217/217 [==============================] - 1s 5ms/step - loss: 0.4101 - accuracy: 0.8118\n",
      "Epoch 48/100\n",
      "217/217 [==============================] - 1s 5ms/step - loss: 0.4095 - accuracy: 0.8114\n",
      "Epoch 49/100\n",
      "217/217 [==============================] - 1s 5ms/step - loss: 0.4095 - accuracy: 0.8118\n",
      "Epoch 50/100\n",
      "217/217 [==============================] - 1s 5ms/step - loss: 0.4094 - accuracy: 0.8109\n",
      "Epoch 51/100\n",
      "217/217 [==============================] - 1s 5ms/step - loss: 0.4090 - accuracy: 0.8138\n",
      "Epoch 52/100\n",
      "217/217 [==============================] - 1s 5ms/step - loss: 0.4086 - accuracy: 0.8121\n",
      "Epoch 53/100\n",
      "217/217 [==============================] - 1s 5ms/step - loss: 0.4086 - accuracy: 0.8140\n",
      "Epoch 54/100\n",
      "217/217 [==============================] - 1s 5ms/step - loss: 0.4085 - accuracy: 0.8132\n",
      "Epoch 55/100\n",
      "217/217 [==============================] - 1s 5ms/step - loss: 0.4088 - accuracy: 0.8124\n",
      "Epoch 56/100\n",
      "217/217 [==============================] - 1s 5ms/step - loss: 0.4084 - accuracy: 0.8137\n",
      "Epoch 57/100\n",
      "217/217 [==============================] - 1s 5ms/step - loss: 0.4075 - accuracy: 0.8125\n",
      "Epoch 58/100\n",
      "217/217 [==============================] - 1s 5ms/step - loss: 0.4080 - accuracy: 0.8145\n",
      "Epoch 59/100\n",
      "217/217 [==============================] - 1s 5ms/step - loss: 0.4076 - accuracy: 0.8127\n",
      "Epoch 60/100\n",
      "217/217 [==============================] - 1s 5ms/step - loss: 0.4071 - accuracy: 0.8122\n",
      "Epoch 61/100\n",
      "217/217 [==============================] - 1s 5ms/step - loss: 0.4077 - accuracy: 0.8144\n",
      "Epoch 62/100\n",
      "217/217 [==============================] - 1s 4ms/step - loss: 0.4064 - accuracy: 0.8143\n",
      "Epoch 63/100\n",
      "217/217 [==============================] - 1s 4ms/step - loss: 0.4072 - accuracy: 0.8105\n",
      "Epoch 64/100\n",
      "217/217 [==============================] - 1s 5ms/step - loss: 0.4069 - accuracy: 0.8114\n",
      "Epoch 65/100\n",
      "217/217 [==============================] - 1s 5ms/step - loss: 0.4068 - accuracy: 0.8098\n",
      "Epoch 66/100\n",
      "217/217 [==============================] - 1s 5ms/step - loss: 0.4063 - accuracy: 0.8148\n",
      "Epoch 67/100\n",
      "217/217 [==============================] - 1s 5ms/step - loss: 0.4060 - accuracy: 0.8151\n",
      "Epoch 68/100\n",
      "217/217 [==============================] - 1s 5ms/step - loss: 0.4054 - accuracy: 0.8145\n",
      "Epoch 69/100\n",
      "217/217 [==============================] - 1s 5ms/step - loss: 0.4057 - accuracy: 0.8130\n",
      "Epoch 70/100\n",
      "217/217 [==============================] - 1s 6ms/step - loss: 0.4060 - accuracy: 0.8118\n",
      "Epoch 71/100\n",
      "217/217 [==============================] - 1s 5ms/step - loss: 0.4048 - accuracy: 0.8135\n",
      "Epoch 72/100\n",
      "217/217 [==============================] - 1s 5ms/step - loss: 0.4054 - accuracy: 0.8122\n",
      "Epoch 73/100\n",
      "217/217 [==============================] - 1s 4ms/step - loss: 0.4047 - accuracy: 0.8135\n",
      "Epoch 74/100\n",
      "217/217 [==============================] - 1s 5ms/step - loss: 0.4047 - accuracy: 0.8150\n",
      "Epoch 75/100\n",
      "217/217 [==============================] - 1s 5ms/step - loss: 0.4054 - accuracy: 0.8121\n",
      "Epoch 76/100\n",
      "217/217 [==============================] - 1s 5ms/step - loss: 0.4050 - accuracy: 0.8111\n",
      "Epoch 77/100\n",
      "217/217 [==============================] - 1s 5ms/step - loss: 0.4043 - accuracy: 0.8119\n",
      "Epoch 78/100\n",
      "217/217 [==============================] - 1s 5ms/step - loss: 0.4042 - accuracy: 0.8121\n",
      "Epoch 79/100\n",
      "217/217 [==============================] - 1s 5ms/step - loss: 0.4043 - accuracy: 0.8121\n",
      "Epoch 80/100\n",
      "217/217 [==============================] - 1s 5ms/step - loss: 0.4041 - accuracy: 0.8117\n",
      "Epoch 81/100\n",
      "217/217 [==============================] - 1s 5ms/step - loss: 0.4034 - accuracy: 0.8137\n",
      "Epoch 82/100\n",
      "217/217 [==============================] - 1s 5ms/step - loss: 0.4040 - accuracy: 0.8143\n",
      "Epoch 83/100\n",
      "217/217 [==============================] - 1s 5ms/step - loss: 0.4037 - accuracy: 0.8119\n",
      "Epoch 84/100\n",
      "217/217 [==============================] - 1s 5ms/step - loss: 0.4041 - accuracy: 0.8143\n",
      "Epoch 85/100\n",
      "217/217 [==============================] - 1s 5ms/step - loss: 0.4030 - accuracy: 0.8118\n",
      "Epoch 86/100\n",
      "217/217 [==============================] - 1s 6ms/step - loss: 0.4023 - accuracy: 0.8154\n",
      "Epoch 87/100\n",
      "217/217 [==============================] - 1s 5ms/step - loss: 0.4030 - accuracy: 0.8118\n",
      "Epoch 88/100\n",
      "217/217 [==============================] - 1s 6ms/step - loss: 0.4020 - accuracy: 0.8117\n",
      "Epoch 89/100\n",
      "217/217 [==============================] - 1s 5ms/step - loss: 0.4023 - accuracy: 0.8154\n",
      "Epoch 90/100\n",
      "217/217 [==============================] - 1s 5ms/step - loss: 0.4023 - accuracy: 0.8157\n",
      "Epoch 91/100\n",
      "217/217 [==============================] - 1s 5ms/step - loss: 0.4022 - accuracy: 0.8177\n",
      "Epoch 92/100\n",
      "217/217 [==============================] - 1s 5ms/step - loss: 0.4020 - accuracy: 0.8151\n",
      "Epoch 93/100\n",
      "217/217 [==============================] - 1s 5ms/step - loss: 0.4019 - accuracy: 0.8186\n",
      "Epoch 94/100\n",
      "217/217 [==============================] - 1s 5ms/step - loss: 0.4015 - accuracy: 0.8144\n",
      "Epoch 95/100\n",
      "217/217 [==============================] - 1s 6ms/step - loss: 0.4016 - accuracy: 0.8137\n",
      "Epoch 96/100\n",
      "217/217 [==============================] - 1s 5ms/step - loss: 0.4019 - accuracy: 0.8166\n",
      "Epoch 97/100\n",
      "217/217 [==============================] - 1s 5ms/step - loss: 0.4007 - accuracy: 0.8170\n",
      "Epoch 98/100\n",
      "217/217 [==============================] - 1s 5ms/step - loss: 0.4015 - accuracy: 0.8145\n",
      "Epoch 99/100\n",
      "217/217 [==============================] - 1s 5ms/step - loss: 0.4010 - accuracy: 0.8137\n",
      "Epoch 100/100\n",
      "217/217 [==============================] - 1s 5ms/step - loss: 0.4007 - accuracy: 0.8143\n"
     ]
    },
    {
     "output_type": "execute_result",
     "data": {
      "text/plain": [
       "<tensorflow.python.keras.callbacks.History at 0x19fbd7570a0>"
      ]
     },
     "metadata": {},
     "execution_count": 69
    }
   ],
   "source": [
    "model.fit(X_train,y_train,epochs=100)"
   ]
  },
  {
   "cell_type": "code",
   "execution_count": 70,
   "metadata": {},
   "outputs": [
    {
     "output_type": "stream",
     "name": "stdout",
     "text": [
      "              precision    recall  f1-score   support\n\n         0.0       0.73      0.81      0.77      1520\n         1.0       0.83      0.75      0.79      1888\n\n    accuracy                           0.78      3408\n   macro avg       0.78      0.78      0.78      3408\nweighted avg       0.79      0.78      0.78      3408\n\n"
     ]
    }
   ],
   "source": [
    "yp = model.predict(X_test)\n",
    "yp = yp.reshape(-1)\n",
    "print(classification_report(yp.round(),y_test))"
   ]
  },
  {
   "cell_type": "code",
   "execution_count": 73,
   "metadata": {},
   "outputs": [],
   "source": [
    "X = df1.drop(\"Churn\",axis=1)\n",
    "y = df1[\"Churn\"]"
   ]
  },
  {
   "cell_type": "code",
   "execution_count": 74,
   "metadata": {},
   "outputs": [
    {
     "output_type": "execute_result",
     "data": {
      "text/plain": [
       "0    5163\n",
       "1    1869\n",
       "Name: Churn, dtype: int64"
      ]
     },
     "metadata": {},
     "execution_count": 74
    }
   ],
   "source": [
    "y.value_counts()"
   ]
  },
  {
   "cell_type": "code",
   "execution_count": 76,
   "metadata": {},
   "outputs": [
    {
     "output_type": "execute_result",
     "data": {
      "text/plain": [
       "0    5163\n",
       "1    5163\n",
       "Name: Churn, dtype: int64"
      ]
     },
     "metadata": {},
     "execution_count": 76
    }
   ],
   "source": [
    "from imblearn.over_sampling import SMOTE\n",
    "\n",
    "smote = SMOTE(sampling_strategy=\"minority\")\n",
    "X_sm , y_sm = smote.fit_resample(X,y)\n",
    "\n",
    "y_sm.value_counts()"
   ]
  },
  {
   "cell_type": "code",
   "execution_count": 77,
   "metadata": {},
   "outputs": [],
   "source": [
    "X_train, X_test, y_train, y_test = train_test_split( X_sm, y_sm, test_size=0.33, random_state=42)"
   ]
  },
  {
   "cell_type": "code",
   "execution_count": 78,
   "metadata": {},
   "outputs": [
    {
     "output_type": "stream",
     "name": "stdout",
     "text": [
      "Epoch 1/100\n",
      "217/217 [==============================] - 1s 3ms/step - loss: 0.4305 - accuracy: 0.7988\n",
      "Epoch 2/100\n",
      "217/217 [==============================] - 1s 4ms/step - loss: 0.4219 - accuracy: 0.8054\n",
      "Epoch 3/100\n",
      "217/217 [==============================] - 1s 3ms/step - loss: 0.4189 - accuracy: 0.8041\n",
      "Epoch 4/100\n",
      "217/217 [==============================] - 1s 3ms/step - loss: 0.4157 - accuracy: 0.8069\n",
      "Epoch 5/100\n",
      "217/217 [==============================] - 1s 3ms/step - loss: 0.4142 - accuracy: 0.8093\n",
      "Epoch 6/100\n",
      "217/217 [==============================] - 1s 4ms/step - loss: 0.4115 - accuracy: 0.8089\n",
      "Epoch 7/100\n",
      "217/217 [==============================] - 1s 3ms/step - loss: 0.4102 - accuracy: 0.8093\n",
      "Epoch 8/100\n",
      "217/217 [==============================] - 1s 3ms/step - loss: 0.4083 - accuracy: 0.8101\n",
      "Epoch 9/100\n",
      "217/217 [==============================] - 1s 3ms/step - loss: 0.4084 - accuracy: 0.8121\n",
      "Epoch 10/100\n",
      "217/217 [==============================] - 1s 3ms/step - loss: 0.4054 - accuracy: 0.8127\n",
      "Epoch 11/100\n",
      "217/217 [==============================] - 1s 4ms/step - loss: 0.4047 - accuracy: 0.8109\n",
      "Epoch 12/100\n",
      "217/217 [==============================] - 1s 4ms/step - loss: 0.4034 - accuracy: 0.8134\n",
      "Epoch 13/100\n",
      "217/217 [==============================] - 1s 3ms/step - loss: 0.4023 - accuracy: 0.8138\n",
      "Epoch 14/100\n",
      "217/217 [==============================] - 1s 3ms/step - loss: 0.4009 - accuracy: 0.8141\n",
      "Epoch 15/100\n",
      "217/217 [==============================] - 1s 3ms/step - loss: 0.4003 - accuracy: 0.8128\n",
      "Epoch 16/100\n",
      "217/217 [==============================] - 1s 3ms/step - loss: 0.3998 - accuracy: 0.8151\n",
      "Epoch 17/100\n",
      "217/217 [==============================] - 1s 3ms/step - loss: 0.3988 - accuracy: 0.8147\n",
      "Epoch 18/100\n",
      "217/217 [==============================] - 1s 3ms/step - loss: 0.3974 - accuracy: 0.8144\n",
      "Epoch 19/100\n",
      "217/217 [==============================] - 1s 3ms/step - loss: 0.3965 - accuracy: 0.8153\n",
      "Epoch 20/100\n",
      "217/217 [==============================] - 1s 3ms/step - loss: 0.3962 - accuracy: 0.8143\n",
      "Epoch 21/100\n",
      "217/217 [==============================] - 1s 3ms/step - loss: 0.3958 - accuracy: 0.8147\n",
      "Epoch 22/100\n",
      "217/217 [==============================] - 1s 3ms/step - loss: 0.3940 - accuracy: 0.8161\n",
      "Epoch 23/100\n",
      "217/217 [==============================] - 1s 3ms/step - loss: 0.3937 - accuracy: 0.8147\n",
      "Epoch 24/100\n",
      "217/217 [==============================] - 1s 4ms/step - loss: 0.3932 - accuracy: 0.8154\n",
      "Epoch 25/100\n",
      "217/217 [==============================] - 1s 4ms/step - loss: 0.3919 - accuracy: 0.8156\n",
      "Epoch 26/100\n",
      "217/217 [==============================] - 1s 3ms/step - loss: 0.3915 - accuracy: 0.8164\n",
      "Epoch 27/100\n",
      "217/217 [==============================] - 1s 3ms/step - loss: 0.3910 - accuracy: 0.8163\n",
      "Epoch 28/100\n",
      "217/217 [==============================] - 1s 3ms/step - loss: 0.3904 - accuracy: 0.8154\n",
      "Epoch 29/100\n",
      "217/217 [==============================] - 1s 3ms/step - loss: 0.3896 - accuracy: 0.8176\n",
      "Epoch 30/100\n",
      "217/217 [==============================] - 1s 3ms/step - loss: 0.3888 - accuracy: 0.8187\n",
      "Epoch 31/100\n",
      "217/217 [==============================] - 1s 3ms/step - loss: 0.3881 - accuracy: 0.8193\n",
      "Epoch 32/100\n",
      "217/217 [==============================] - 1s 3ms/step - loss: 0.3873 - accuracy: 0.8206\n",
      "Epoch 33/100\n",
      "217/217 [==============================] - 1s 3ms/step - loss: 0.3872 - accuracy: 0.8192\n",
      "Epoch 34/100\n",
      "217/217 [==============================] - 1s 4ms/step - loss: 0.3867 - accuracy: 0.8200\n",
      "Epoch 35/100\n",
      "217/217 [==============================] - 1s 4ms/step - loss: 0.3861 - accuracy: 0.8239\n",
      "Epoch 36/100\n",
      "217/217 [==============================] - 1s 3ms/step - loss: 0.3854 - accuracy: 0.8202\n",
      "Epoch 37/100\n",
      "217/217 [==============================] - 1s 3ms/step - loss: 0.3842 - accuracy: 0.8215\n",
      "Epoch 38/100\n",
      "217/217 [==============================] - 1s 4ms/step - loss: 0.3839 - accuracy: 0.8209\n",
      "Epoch 39/100\n",
      "217/217 [==============================] - 1s 3ms/step - loss: 0.3829 - accuracy: 0.8228\n",
      "Epoch 40/100\n",
      "217/217 [==============================] - 1s 4ms/step - loss: 0.3829 - accuracy: 0.8225\n",
      "Epoch 41/100\n",
      "217/217 [==============================] - 1s 3ms/step - loss: 0.3825 - accuracy: 0.8228\n",
      "Epoch 42/100\n",
      "217/217 [==============================] - 1s 3ms/step - loss: 0.3829 - accuracy: 0.8222\n",
      "Epoch 43/100\n",
      "217/217 [==============================] - 1s 4ms/step - loss: 0.3815 - accuracy: 0.8264\n",
      "Epoch 44/100\n",
      "217/217 [==============================] - 1s 3ms/step - loss: 0.3803 - accuracy: 0.8258\n",
      "Epoch 45/100\n",
      "217/217 [==============================] - 1s 4ms/step - loss: 0.3800 - accuracy: 0.8247\n",
      "Epoch 46/100\n",
      "217/217 [==============================] - 1s 3ms/step - loss: 0.3802 - accuracy: 0.8252\n",
      "Epoch 47/100\n",
      "217/217 [==============================] - 1s 3ms/step - loss: 0.3796 - accuracy: 0.8268\n",
      "Epoch 48/100\n",
      "217/217 [==============================] - 1s 4ms/step - loss: 0.3790 - accuracy: 0.8236\n",
      "Epoch 49/100\n",
      "217/217 [==============================] - 1s 3ms/step - loss: 0.3795 - accuracy: 0.8244\n",
      "Epoch 50/100\n",
      "217/217 [==============================] - 1s 4ms/step - loss: 0.3779 - accuracy: 0.8251\n",
      "Epoch 51/100\n",
      "217/217 [==============================] - 1s 4ms/step - loss: 0.3776 - accuracy: 0.8263\n",
      "Epoch 52/100\n",
      "217/217 [==============================] - 1s 4ms/step - loss: 0.3781 - accuracy: 0.8257\n",
      "Epoch 53/100\n",
      "217/217 [==============================] - 1s 3ms/step - loss: 0.3769 - accuracy: 0.8280\n",
      "Epoch 54/100\n",
      "217/217 [==============================] - 1s 3ms/step - loss: 0.3772 - accuracy: 0.8260\n",
      "Epoch 55/100\n",
      "217/217 [==============================] - 1s 4ms/step - loss: 0.3763 - accuracy: 0.8280\n",
      "Epoch 56/100\n",
      "217/217 [==============================] - 1s 3ms/step - loss: 0.3762 - accuracy: 0.8265\n",
      "Epoch 57/100\n",
      "217/217 [==============================] - 1s 3ms/step - loss: 0.3761 - accuracy: 0.8294\n",
      "Epoch 58/100\n",
      "217/217 [==============================] - 1s 4ms/step - loss: 0.3751 - accuracy: 0.8280\n",
      "Epoch 59/100\n",
      "217/217 [==============================] - 1s 3ms/step - loss: 0.3749 - accuracy: 0.8261\n",
      "Epoch 60/100\n",
      "217/217 [==============================] - 1s 4ms/step - loss: 0.3751 - accuracy: 0.8283\n",
      "Epoch 61/100\n",
      "217/217 [==============================] - 1s 3ms/step - loss: 0.3744 - accuracy: 0.8280\n",
      "Epoch 62/100\n",
      "217/217 [==============================] - 1s 3ms/step - loss: 0.3736 - accuracy: 0.8284\n",
      "Epoch 63/100\n",
      "217/217 [==============================] - 1s 3ms/step - loss: 0.3724 - accuracy: 0.8304\n",
      "Epoch 64/100\n",
      "217/217 [==============================] - 1s 3ms/step - loss: 0.3725 - accuracy: 0.8309\n",
      "Epoch 65/100\n",
      "217/217 [==============================] - 1s 3ms/step - loss: 0.3727 - accuracy: 0.8277\n",
      "Epoch 66/100\n",
      "217/217 [==============================] - 1s 3ms/step - loss: 0.3721 - accuracy: 0.8289\n",
      "Epoch 67/100\n",
      "217/217 [==============================] - 1s 3ms/step - loss: 0.3718 - accuracy: 0.8303\n",
      "Epoch 68/100\n",
      "217/217 [==============================] - 1s 3ms/step - loss: 0.3716 - accuracy: 0.8299\n",
      "Epoch 69/100\n",
      "217/217 [==============================] - 1s 4ms/step - loss: 0.3710 - accuracy: 0.8300\n",
      "Epoch 70/100\n",
      "217/217 [==============================] - 1s 4ms/step - loss: 0.3708 - accuracy: 0.8297\n",
      "Epoch 71/100\n",
      "217/217 [==============================] - 1s 4ms/step - loss: 0.3703 - accuracy: 0.8328\n",
      "Epoch 72/100\n",
      "217/217 [==============================] - 1s 3ms/step - loss: 0.3704 - accuracy: 0.8312\n",
      "Epoch 73/100\n",
      "217/217 [==============================] - 1s 3ms/step - loss: 0.3693 - accuracy: 0.8325\n",
      "Epoch 74/100\n",
      "217/217 [==============================] - 1s 3ms/step - loss: 0.3693 - accuracy: 0.8313\n",
      "Epoch 75/100\n",
      "217/217 [==============================] - 1s 3ms/step - loss: 0.3682 - accuracy: 0.8329\n",
      "Epoch 76/100\n",
      "217/217 [==============================] - 1s 4ms/step - loss: 0.3690 - accuracy: 0.8294\n",
      "Epoch 77/100\n",
      "217/217 [==============================] - 1s 4ms/step - loss: 0.3686 - accuracy: 0.8304\n",
      "Epoch 78/100\n",
      "217/217 [==============================] - 1s 3ms/step - loss: 0.3681 - accuracy: 0.8320\n",
      "Epoch 79/100\n",
      "217/217 [==============================] - 1s 3ms/step - loss: 0.3672 - accuracy: 0.8319\n",
      "Epoch 80/100\n",
      "217/217 [==============================] - 1s 4ms/step - loss: 0.3667 - accuracy: 0.8322\n",
      "Epoch 81/100\n",
      "217/217 [==============================] - 1s 4ms/step - loss: 0.3676 - accuracy: 0.8336\n",
      "Epoch 82/100\n",
      "217/217 [==============================] - 1s 4ms/step - loss: 0.3663 - accuracy: 0.8319\n",
      "Epoch 83/100\n",
      "217/217 [==============================] - 1s 3ms/step - loss: 0.3663 - accuracy: 0.8348\n",
      "Epoch 84/100\n",
      "217/217 [==============================] - 1s 4ms/step - loss: 0.3659 - accuracy: 0.8328\n",
      "Epoch 85/100\n",
      "217/217 [==============================] - 1s 4ms/step - loss: 0.3660 - accuracy: 0.8329\n",
      "Epoch 86/100\n",
      "217/217 [==============================] - 1s 4ms/step - loss: 0.3656 - accuracy: 0.8303\n",
      "Epoch 87/100\n",
      "217/217 [==============================] - 1s 3ms/step - loss: 0.3652 - accuracy: 0.8332\n",
      "Epoch 88/100\n",
      "217/217 [==============================] - 1s 4ms/step - loss: 0.3641 - accuracy: 0.8354\n",
      "Epoch 89/100\n",
      "217/217 [==============================] - 1s 4ms/step - loss: 0.3642 - accuracy: 0.8359\n",
      "Epoch 90/100\n",
      "217/217 [==============================] - 1s 3ms/step - loss: 0.3644 - accuracy: 0.8354\n",
      "Epoch 91/100\n",
      "217/217 [==============================] - 1s 4ms/step - loss: 0.3636 - accuracy: 0.8349\n",
      "Epoch 92/100\n",
      "217/217 [==============================] - 1s 3ms/step - loss: 0.3633 - accuracy: 0.8339\n",
      "Epoch 93/100\n",
      "217/217 [==============================] - 1s 3ms/step - loss: 0.3634 - accuracy: 0.8326\n",
      "Epoch 94/100\n",
      "217/217 [==============================] - 1s 3ms/step - loss: 0.3636 - accuracy: 0.8343\n",
      "Epoch 95/100\n",
      "217/217 [==============================] - 1s 3ms/step - loss: 0.3627 - accuracy: 0.8330\n",
      "Epoch 96/100\n",
      "217/217 [==============================] - 1s 3ms/step - loss: 0.3623 - accuracy: 0.8345\n",
      "Epoch 97/100\n",
      "217/217 [==============================] - 1s 3ms/step - loss: 0.3623 - accuracy: 0.8367\n",
      "Epoch 98/100\n",
      "217/217 [==============================] - 1s 4ms/step - loss: 0.3616 - accuracy: 0.8352\n",
      "Epoch 99/100\n",
      "217/217 [==============================] - 1s 4ms/step - loss: 0.3615 - accuracy: 0.8369\n",
      "Epoch 100/100\n",
      "217/217 [==============================] - 1s 4ms/step - loss: 0.3616 - accuracy: 0.8365\n"
     ]
    },
    {
     "output_type": "execute_result",
     "data": {
      "text/plain": [
       "<tensorflow.python.keras.callbacks.History at 0x19fc14b7b20>"
      ]
     },
     "metadata": {},
     "execution_count": 78
    }
   ],
   "source": [
    "model.fit(X_train,y_train,epochs=100,use_multiprocessing=True)"
   ]
  },
  {
   "cell_type": "code",
   "execution_count": 79,
   "metadata": {},
   "outputs": [
    {
     "output_type": "stream",
     "name": "stdout",
     "text": [
      "107/107 [==============================] - 0s 3ms/step - loss: 0.4313 - accuracy: 0.8066\n"
     ]
    }
   ],
   "source": [
    "model.evaluate(X_test,y_test);"
   ]
  },
  {
   "cell_type": "code",
   "execution_count": 82,
   "metadata": {},
   "outputs": [
    {
     "output_type": "stream",
     "name": "stdout",
     "text": [
      "              precision    recall  f1-score   support\n\n         0.0       0.77      0.83      0.80      1576\n         1.0       0.85      0.78      0.81      1832\n\n    accuracy                           0.81      3408\n   macro avg       0.81      0.81      0.81      3408\nweighted avg       0.81      0.81      0.81      3408\n\n"
     ]
    }
   ],
   "source": [
    "yp = model.predict(X_test).reshape(-1)\n",
    "print(classification_report(yp.round(),y_test))"
   ]
  },
  {
   "cell_type": "code",
   "execution_count": 83,
   "metadata": {},
   "outputs": [],
   "source": [
    "#using emsamble undersampling\n",
    "#not implemented here but the concept is quite easy... \n",
    "#focal loss is also an option\n",
    "X = df1.drop(\"Churn\",axis=\"columns\")\n",
    "y= df1[\"Churn\"]"
   ]
  },
  {
   "cell_type": "code",
   "execution_count": 92,
   "metadata": {},
   "outputs": [],
   "source": [
    "X_train, X_test, y_train, y_test = train_test_split(X, y, test_size=0.2, random_state=42)"
   ]
  },
  {
   "cell_type": "code",
   "execution_count": 93,
   "metadata": {},
   "outputs": [
    {
     "output_type": "execute_result",
     "data": {
      "text/plain": [
       "0    4130\n",
       "1    1495\n",
       "Name: Churn, dtype: int64"
      ]
     },
     "metadata": {},
     "execution_count": 93
    }
   ],
   "source": [
    "y_train.value_counts()"
   ]
  },
  {
   "cell_type": "code",
   "execution_count": 94,
   "metadata": {},
   "outputs": [],
   "source": [
    "df3 = X_train.copy()\n",
    "df3[\"Churn\"] = y_train"
   ]
  },
  {
   "cell_type": "code",
   "execution_count": 95,
   "metadata": {},
   "outputs": [],
   "source": [
    "df3_class0 = df3[df3[\"Churn\"]==0]\n",
    "df3_class1 = df3[df3[\"Churn\"]==1]"
   ]
  },
  {
   "cell_type": "code",
   "execution_count": 96,
   "metadata": {},
   "outputs": [
    {
     "output_type": "execute_result",
     "data": {
      "text/plain": [
       "((4130, 27), (1495, 27))"
      ]
     },
     "metadata": {},
     "execution_count": 96
    }
   ],
   "source": [
    "df3_class0.shape, df3_class1.shape"
   ]
  },
  {
   "cell_type": "code",
   "execution_count": 98,
   "metadata": {},
   "outputs": [
    {
     "output_type": "execute_result",
     "data": {
      "text/plain": [
       "(1495, 27)"
      ]
     },
     "metadata": {},
     "execution_count": 98
    }
   ],
   "source": [
    "df3_class0[:1495].shape"
   ]
  },
  {
   "cell_type": "code",
   "execution_count": null,
   "metadata": {},
   "outputs": [],
   "source": []
  }
 ]
}