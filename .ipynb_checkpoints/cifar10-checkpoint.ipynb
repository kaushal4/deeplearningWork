{
 "cells": [
  {
   "cell_type": "code",
   "execution_count": 1,
   "metadata": {},
   "outputs": [
    {
     "ename": "ModuleNotFoundError",
     "evalue": "No module named 'matplotlib'",
     "output_type": "error",
     "traceback": [
      "\u001b[1;31m---------------------------------------------------------------------------\u001b[0m",
      "\u001b[1;31mModuleNotFoundError\u001b[0m                       Traceback (most recent call last)",
      "\u001b[1;32m<ipython-input-1-ed612fe03ee3>\u001b[0m in \u001b[0;36m<module>\u001b[1;34m\u001b[0m\n\u001b[0;32m      1\u001b[0m \u001b[1;32mimport\u001b[0m \u001b[0mtensorflow\u001b[0m \u001b[1;32mas\u001b[0m \u001b[0mtf\u001b[0m\u001b[1;33m\u001b[0m\u001b[1;33m\u001b[0m\u001b[0m\n\u001b[0;32m      2\u001b[0m \u001b[1;32mfrom\u001b[0m \u001b[0mtensorflow\u001b[0m \u001b[1;32mimport\u001b[0m \u001b[0mkeras\u001b[0m\u001b[1;33m\u001b[0m\u001b[1;33m\u001b[0m\u001b[0m\n\u001b[1;32m----> 3\u001b[1;33m \u001b[1;32mimport\u001b[0m \u001b[0mmatplotlib\u001b[0m\u001b[1;33m.\u001b[0m\u001b[0mpyplot\u001b[0m \u001b[1;32mas\u001b[0m \u001b[0mplt\u001b[0m\u001b[1;33m\u001b[0m\u001b[1;33m\u001b[0m\u001b[0m\n\u001b[0m\u001b[0;32m      4\u001b[0m \u001b[1;32mimport\u001b[0m \u001b[0mnumpy\u001b[0m \u001b[1;32mas\u001b[0m \u001b[0mnp\u001b[0m\u001b[1;33m\u001b[0m\u001b[1;33m\u001b[0m\u001b[0m\n\u001b[0;32m      5\u001b[0m \u001b[0mget_ipython\u001b[0m\u001b[1;33m(\u001b[0m\u001b[1;33m)\u001b[0m\u001b[1;33m.\u001b[0m\u001b[0mrun_line_magic\u001b[0m\u001b[1;33m(\u001b[0m\u001b[1;34m'matplotlib'\u001b[0m\u001b[1;33m,\u001b[0m \u001b[1;34m'inline'\u001b[0m\u001b[1;33m)\u001b[0m\u001b[1;33m\u001b[0m\u001b[1;33m\u001b[0m\u001b[0m\n",
      "\u001b[1;31mModuleNotFoundError\u001b[0m: No module named 'matplotlib'"
     ]
    }
   ],
   "source": [
    "import tensorflow as tf\n",
    "from tensorflow import keras\n",
    "import matplotlib.pyplot as plt\n",
    "import numpy as np \n",
    "%matplotlib inline"
   ]
  },
  {
   "cell_type": "code",
   "execution_count": 2,
   "metadata": {},
   "outputs": [
    {
     "data": {
      "text/plain": [
       "[PhysicalDevice(name='/physical_device:CPU:0', device_type='CPU'),\n",
       " PhysicalDevice(name='/physical_device:GPU:0', device_type='GPU')]"
      ]
     },
     "execution_count": 2,
     "metadata": {},
     "output_type": "execute_result"
    }
   ],
   "source": [
    "tf.config.experimental.list_physical_devices()"
   ]
  },
  {
   "cell_type": "code",
   "execution_count": 3,
   "metadata": {},
   "outputs": [
    {
     "data": {
      "text/plain": [
       "True"
      ]
     },
     "execution_count": 3,
     "metadata": {},
     "output_type": "execute_result"
    }
   ],
   "source": [
    "tf.test.is_built_with_cuda()"
   ]
  },
  {
   "cell_type": "code",
   "execution_count": 4,
   "metadata": {},
   "outputs": [],
   "source": [
    "(X_train,y_train) , (X_test,y_test) = tf.keras.datasets.cifar10.load_data()"
   ]
  },
  {
   "cell_type": "code",
   "execution_count": 41,
   "metadata": {
    "tags": []
   },
   "outputs": [
    {
     "data": {
      "text/plain": [
       "array([[[ 61,  61,  61],\n",
       "        [ 44,  44,  44],\n",
       "        [ 47,  47,  47],\n",
       "        ...,\n",
       "        [132, 132, 132],\n",
       "        [126, 126, 126],\n",
       "        [125, 125, 125]],\n",
       "\n",
       "       [[ 18,  18,  18],\n",
       "        [  0,   0,   0],\n",
       "        [  8,   8,   8],\n",
       "        ...,\n",
       "        [ 88,  88,  88],\n",
       "        [ 84,  84,  84],\n",
       "        [ 88,  88,  88]],\n",
       "\n",
       "       [[ 23,  23,  23],\n",
       "        [  7,   7,   7],\n",
       "        [ 28,  28,  28],\n",
       "        ...,\n",
       "        [ 84,  84,  84],\n",
       "        [ 84,  84,  84],\n",
       "        [ 74,  74,  74]],\n",
       "\n",
       "       ...,\n",
       "\n",
       "       [[158, 158, 158],\n",
       "        [129, 129, 129],\n",
       "        [128, 128, 128],\n",
       "        ...,\n",
       "        [121, 121, 121],\n",
       "        [ 31,  31,  31],\n",
       "        [ 35,  35,  35]],\n",
       "\n",
       "       [[138, 138, 138],\n",
       "        [112, 112, 112],\n",
       "        [120, 120, 120],\n",
       "        ...,\n",
       "        [142, 142, 142],\n",
       "        [ 64,  64,  64],\n",
       "        [ 56,  56,  56]],\n",
       "\n",
       "       [[145, 145, 145],\n",
       "        [130, 130, 130],\n",
       "        [136, 136, 136],\n",
       "        ...,\n",
       "        [180, 180, 180],\n",
       "        [117, 117, 117],\n",
       "        [ 95,  95,  95]]], dtype=uint8)"
      ]
     },
     "execution_count": 41,
     "metadata": {},
     "output_type": "execute_result"
    }
   ],
   "source": [
    "grey_X_train = X_train\n",
    "i=0;\n",
    "for img_index,img in enumerate(grey_X_train):\n",
    "    for row_index,row in enumerate(img):\n",
    "        for column_index,column in enumerate(row):\n",
    "            grey_X_train[img_index][row_index][column_index]= np.mean(np.array(column))\n",
    "    # if(i>0):\n",
    "    #     break\n",
    "    # i+=1\n",
    "grey_X_train[0]"
   ]
  },
  {
   "cell_type": "code",
   "execution_count": 13,
   "metadata": {},
   "outputs": [
    {
     "data": {
      "image/png": "[encoded data removed]",
      "image/svg+xml": [
       "<?xml version=\"1.0\" encoding=\"utf-8\" standalone=\"no\"?>\r\n",
       "<!DOCTYPE svg PUBLIC \"-//W3C//DTD SVG 1.1//EN\"\r\n",
       "  \"http://www.w3.org/Graphics/SVG/1.1/DTD/svg11.dtd\">\r\n",
       "<!-- Created with matplotlib (https://matplotlib.org/) -->\r\n",
       "<svg height=\"88.387969pt\" version=\"1.1\" viewBox=\"0 0 88.485 88.387969\" width=\"88.485pt\" xmlns=\"http://www.w3.org/2000/svg\" xmlns:xlink=\"http://www.w3.org/1999/xlink\">\r\n",
       " <metadata>\r\n",
       "  <rdf:RDF xmlns:cc=\"http://creativecommons.org/ns#\" xmlns:dc=\"http://purl.org/dc/elements/1.1/\" xmlns:rdf=\"http://www.w3.org/1999/02/22-rdf-syntax-ns#\">\r\n",
       "   <cc:Work>\r\n",
       "    <dc:type rdf:resource=\"http://purl.org/dc/dcmitype/StillImage\"/>\r\n",
       "    <dc:date>2021-03-15T23:34:23.636604</dc:date>\r\n",
       "    <dc:format>image/svg+xml</dc:format>\r\n",
       "    <dc:creator>\r\n",
       "     <cc:Agent>\r\n",
       "      <dc:title>Matplotlib v3.3.4, https://matplotlib.org/</dc:title>\r\n",
       "     </cc:Agent>\r\n",
       "    </dc:creator>\r\n",
       "   </cc:Work>\r\n",
       "  </rdf:RDF>\r\n",
       " </metadata>\r\n",
       " <defs>\r\n",
       "  <style type=\"text/css\">*{stroke-linecap:butt;stroke-linejoin:round;}</style>\r\n",
       " </defs>\r\n",
       " <g id=\"figure_1\">\r\n",
       "  <g id=\"patch_1\">\r\n",
       "   <path d=\"M 0 88.387969 \r\n",
       "L 88.485 88.387969 \r\n",
       "L 88.485 0 \r\n",
       "L 0 0 \r\n",
       "z\r\n",
       "\" style=\"fill:none;\"/>\r\n",
       "  </g>\r\n",
       "  <g id=\"axes_1\">\r\n",
       "   <g id=\"patch_2\">\r\n",
       "    <path d=\"M 26.925 64.509844 \r\n",
       "L 81.285 64.509844 \r\n",
       "L 81.285 10.149844 \r\n",
       "L 26.925 10.149844 \r\n",
       "z\r\n",
       "\" style=\"fill:#ffffff;\"/>\r\n",
       "   </g>\r\n",
       "   <g clip-path=\"url(#p5fc3c39d2d)\">\r\n",
       "    <image height=\"55\" id=\"image261be47bfa\" transform=\"scale(1 -1)translate(0 -55)\" width=\"55\" x=\"26.925\" xlink:href=\"data:image/png;base64,\r\n",
       "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\" y=\"-9.509844\"/>\r\n",
       "   </g>\r\n",
       "   <g id=\"matplotlib.axis_1\">\r\n",
       "    <g id=\"xtick_1\">\r\n",
       "     <g id=\"line2d_1\">\r\n",
       "      <defs>\r\n",
       "       <path d=\"M 0 0 \r\n",
       "L 0 3.5 \r\n",
       "\" id=\"me77e8d6d9f\" style=\"stroke:#000000;stroke-width:0.8;\"/>\r\n",
       "      </defs>\r\n",
       "      <g>\r\n",
       "       <use style=\"stroke:#000000;stroke-width:0.8;\" x=\"27.774375\" xlink:href=\"#me77e8d6d9f\" y=\"64.509844\"/>\r\n",
       "      </g>\r\n",
       "     </g>\r\n",
       "     <g id=\"text_1\">\r\n",
       "      <!-- 0 -->\r\n",
       "      <g transform=\"translate(24.593125 79.108281)scale(0.1 -0.1)\">\r\n",
       "       <defs>\r\n",
       "        <path d=\"M 31.78125 66.40625 \r\n",
       "Q 24.171875 66.40625 20.328125 58.90625 \r\n",
       "Q 16.5 51.421875 16.5 36.375 \r\n",
       "Q 16.5 21.390625 20.328125 13.890625 \r\n",
       "Q 24.171875 6.390625 31.78125 6.390625 \r\n",
       "Q 39.453125 6.390625 43.28125 13.890625 \r\n",
       "Q 47.125 21.390625 47.125 36.375 \r\n",
       "Q 47.125 51.421875 43.28125 58.90625 \r\n",
       "Q 39.453125 66.40625 31.78125 66.40625 \r\n",
       "z\r\n",
       "M 31.78125 74.21875 \r\n",
       "Q 44.046875 74.21875 50.515625 64.515625 \r\n",
       "Q 56.984375 54.828125 56.984375 36.375 \r\n",
       "Q 56.984375 17.96875 50.515625 8.265625 \r\n",
       "Q 44.046875 -1.421875 31.78125 -1.421875 \r\n",
       "Q 19.53125 -1.421875 13.0625 8.265625 \r\n",
       "Q 6.59375 17.96875 6.59375 36.375 \r\n",
       "Q 6.59375 54.828125 13.0625 64.515625 \r\n",
       "Q 19.53125 74.21875 31.78125 74.21875 \r\n",
       "z\r\n",
       "\" id=\"DejaVuSans-48\"/>\r\n",
       "       </defs>\r\n",
       "       <use xlink:href=\"#DejaVuSans-48\"/>\r\n",
       "      </g>\r\n",
       "     </g>\r\n",
       "    </g>\r\n",
       "    <g id=\"xtick_2\">\r\n",
       "     <g id=\"line2d_2\">\r\n",
       "      <g>\r\n",
       "       <use style=\"stroke:#000000;stroke-width:0.8;\" x=\"70.243125\" xlink:href=\"#me77e8d6d9f\" y=\"64.509844\"/>\r\n",
       "      </g>\r\n",
       "     </g>\r\n",
       "     <g id=\"text_2\">\r\n",
       "      <!-- 25 -->\r\n",
       "      <g transform=\"translate(63.880625 79.108281)scale(0.1 -0.1)\">\r\n",
       "       <defs>\r\n",
       "        <path d=\"M 19.1875 8.296875 \r\n",
       "L 53.609375 8.296875 \r\n",
       "L 53.609375 0 \r\n",
       "L 7.328125 0 \r\n",
       "L 7.328125 8.296875 \r\n",
       "Q 12.9375 14.109375 22.625 23.890625 \r\n",
       "Q 32.328125 33.6875 34.8125 36.53125 \r\n",
       "Q 39.546875 41.84375 41.421875 45.53125 \r\n",
       "Q 43.3125 49.21875 43.3125 52.78125 \r\n",
       "Q 43.3125 58.59375 39.234375 62.25 \r\n",
       "Q 35.15625 65.921875 28.609375 65.921875 \r\n",
       "Q 23.96875 65.921875 18.8125 64.3125 \r\n",
       "Q 13.671875 62.703125 7.8125 59.421875 \r\n",
       "L 7.8125 69.390625 \r\n",
       "Q 13.765625 71.78125 18.9375 73 \r\n",
       "Q 24.125 74.21875 28.421875 74.21875 \r\n",
       "Q 39.75 74.21875 46.484375 68.546875 \r\n",
       "Q 53.21875 62.890625 53.21875 53.421875 \r\n",
       "Q 53.21875 48.921875 51.53125 44.890625 \r\n",
       "Q 49.859375 40.875 45.40625 35.40625 \r\n",
       "Q 44.1875 33.984375 37.640625 27.21875 \r\n",
       "Q 31.109375 20.453125 19.1875 8.296875 \r\n",
       "z\r\n",
       "\" id=\"DejaVuSans-50\"/>\r\n",
       "        <path d=\"M 10.796875 72.90625 \r\n",
       "L 49.515625 72.90625 \r\n",
       "L 49.515625 64.59375 \r\n",
       "L 19.828125 64.59375 \r\n",
       "L 19.828125 46.734375 \r\n",
       "Q 21.96875 47.46875 24.109375 47.828125 \r\n",
       "Q 26.265625 48.1875 28.421875 48.1875 \r\n",
       "Q 40.625 48.1875 47.75 41.5 \r\n",
       "Q 54.890625 34.8125 54.890625 23.390625 \r\n",
       "Q 54.890625 11.625 47.5625 5.09375 \r\n",
       "Q 40.234375 -1.421875 26.90625 -1.421875 \r\n",
       "Q 22.3125 -1.421875 17.546875 -0.640625 \r\n",
       "Q 12.796875 0.140625 7.71875 1.703125 \r\n",
       "L 7.71875 11.625 \r\n",
       "Q 12.109375 9.234375 16.796875 8.0625 \r\n",
       "Q 21.484375 6.890625 26.703125 6.890625 \r\n",
       "Q 35.15625 6.890625 40.078125 11.328125 \r\n",
       "Q 45.015625 15.765625 45.015625 23.390625 \r\n",
       "Q 45.015625 31 40.078125 35.4375 \r\n",
       "Q 35.15625 39.890625 26.703125 39.890625 \r\n",
       "Q 22.75 39.890625 18.8125 39.015625 \r\n",
       "Q 14.890625 38.140625 10.796875 36.28125 \r\n",
       "z\r\n",
       "\" id=\"DejaVuSans-53\"/>\r\n",
       "       </defs>\r\n",
       "       <use xlink:href=\"#DejaVuSans-50\"/>\r\n",
       "       <use x=\"63.623047\" xlink:href=\"#DejaVuSans-53\"/>\r\n",
       "      </g>\r\n",
       "     </g>\r\n",
       "    </g>\r\n",
       "   </g>\r\n",
       "   <g id=\"matplotlib.axis_2\">\r\n",
       "    <g id=\"ytick_1\">\r\n",
       "     <g id=\"line2d_3\">\r\n",
       "      <defs>\r\n",
       "       <path d=\"M 0 0 \r\n",
       "L -3.5 0 \r\n",
       "\" id=\"m729bf5df7e\" style=\"stroke:#000000;stroke-width:0.8;\"/>\r\n",
       "      </defs>\r\n",
       "      <g>\r\n",
       "       <use style=\"stroke:#000000;stroke-width:0.8;\" x=\"26.925\" xlink:href=\"#m729bf5df7e\" y=\"10.999219\"/>\r\n",
       "      </g>\r\n",
       "     </g>\r\n",
       "     <g id=\"text_3\">\r\n",
       "      <!-- 0 -->\r\n",
       "      <g transform=\"translate(13.5625 14.798437)scale(0.1 -0.1)\">\r\n",
       "       <use xlink:href=\"#DejaVuSans-48\"/>\r\n",
       "      </g>\r\n",
       "     </g>\r\n",
       "    </g>\r\n",
       "    <g id=\"ytick_2\">\r\n",
       "     <g id=\"line2d_4\">\r\n",
       "      <g>\r\n",
       "       <use style=\"stroke:#000000;stroke-width:0.8;\" x=\"26.925\" xlink:href=\"#m729bf5df7e\" y=\"44.974219\"/>\r\n",
       "      </g>\r\n",
       "     </g>\r\n",
       "     <g id=\"text_4\">\r\n",
       "      <!-- 20 -->\r\n",
       "      <g transform=\"translate(7.2 48.773438)scale(0.1 -0.1)\">\r\n",
       "       <use xlink:href=\"#DejaVuSans-50\"/>\r\n",
       "       <use x=\"63.623047\" xlink:href=\"#DejaVuSans-48\"/>\r\n",
       "      </g>\r\n",
       "     </g>\r\n",
       "    </g>\r\n",
       "   </g>\r\n",
       "   <g id=\"patch_3\">\r\n",
       "    <path d=\"M 26.925 64.509844 \r\n",
       "L 26.925 10.149844 \r\n",
       "\" style=\"fill:none;stroke:#000000;stroke-linecap:square;stroke-linejoin:miter;stroke-width:0.8;\"/>\r\n",
       "   </g>\r\n",
       "   <g id=\"patch_4\">\r\n",
       "    <path d=\"M 81.285 64.509844 \r\n",
       "L 81.285 10.149844 \r\n",
       "\" style=\"fill:none;stroke:#000000;stroke-linecap:square;stroke-linejoin:miter;stroke-width:0.8;\"/>\r\n",
       "   </g>\r\n",
       "   <g id=\"patch_5\">\r\n",
       "    <path d=\"M 26.925 64.509844 \r\n",
       "L 81.285 64.509844 \r\n",
       "\" style=\"fill:none;stroke:#000000;stroke-linecap:square;stroke-linejoin:miter;stroke-width:0.8;\"/>\r\n",
       "   </g>\r\n",
       "   <g id=\"patch_6\">\r\n",
       "    <path d=\"M 26.925 10.149844 \r\n",
       "L 81.285 10.149844 \r\n",
       "\" style=\"fill:none;stroke:#000000;stroke-linecap:square;stroke-linejoin:miter;stroke-width:0.8;\"/>\r\n",
       "   </g>\r\n",
       "  </g>\r\n",
       " </g>\r\n",
       " <defs>\r\n",
       "  <clipPath id=\"p5fc3c39d2d\">\r\n",
       "   <rect height=\"54.36\" width=\"54.36\" x=\"26.925\" y=\"10.149844\"/>\r\n",
       "  </clipPath>\r\n",
       " </defs>\r\n",
       "</svg>\r\n"
      ],
      "text/plain": [
       "<Figure size 720x72 with 1 Axes>"
      ]
     },
     "metadata": {
      "needs_background": "light"
     },
     "output_type": "display_data"
    }
   ],
   "source": [
    "def showImg(index):\n",
    "    plt.figure(figsize=(10,1))\n",
    "    plt.matshow(X_train[index])\n",
    "\n",
    "showImg(1)"
   ]
  },
  {
   "cell_type": "code",
   "execution_count": 15,
   "metadata": {},
   "outputs": [],
   "source": [
    "classes = [\"airplane\",\"automobile\",\"bird\",\"cat\",\"deer\",\"dog\",\"frog\",\"horse\",\"ship\",\"truck\"]"
   ]
  },
  {
   "cell_type": "code",
   "execution_count": 7,
   "metadata": {},
   "outputs": [],
   "source": [
    "X_train_scaled = X_train/255\n",
    "X_test_scaled = X_test/255"
   ]
  },
  {
   "cell_type": "code",
   "execution_count": 8,
   "metadata": {},
   "outputs": [],
   "source": [
    "y_train_categorical = keras.utils.to_categorical(\n",
    "    y_train , num_classes=10,dtype=\"float32\"\n",
    ")"
   ]
  },
  {
   "cell_type": "code",
   "execution_count": 9,
   "metadata": {},
   "outputs": [
    {
     "ename": "TypeError",
     "evalue": "Invalid keyword argument(s) in `compile`: {'metrices'}",
     "output_type": "error",
     "traceback": [
      "\u001b[1;31m---------------------------------------------------------------------------\u001b[0m",
      "\u001b[1;31mTypeError\u001b[0m                                 Traceback (most recent call last)",
      "\u001b[1;32m<ipython-input-9-950030e091d7>\u001b[0m in \u001b[0;36m<module>\u001b[1;34m\u001b[0m\n\u001b[0;32m      6\u001b[0m ]);\n\u001b[0;32m      7\u001b[0m \u001b[1;33m\u001b[0m\u001b[0m\n\u001b[1;32m----> 8\u001b[1;33m model.compile(optimizer=\"SGD\",\n\u001b[0m\u001b[0;32m      9\u001b[0m                     \u001b[0mloss\u001b[0m\u001b[1;33m=\u001b[0m\u001b[1;34m\"categorical_crossentropy\"\u001b[0m\u001b[1;33m,\u001b[0m\u001b[1;33m\u001b[0m\u001b[1;33m\u001b[0m\u001b[0m\n\u001b[0;32m     10\u001b[0m                     metrices=[\"accuracy\"])\n",
      "\u001b[1;32me:\\machine_learning\\learningDL\\myEnv\\lib\\site-packages\\tensorflow\\python\\keras\\engine\\training.py\u001b[0m in \u001b[0;36mcompile\u001b[1;34m(self, optimizer, loss, metrics, loss_weights, weighted_metrics, run_eagerly, steps_per_execution, **kwargs)\u001b[0m\n\u001b[0;32m    532\u001b[0m           \u001b[0msteps_per_execution\u001b[0m \u001b[1;33m=\u001b[0m \u001b[0mkwargs\u001b[0m\u001b[1;33m.\u001b[0m\u001b[0mpop\u001b[0m\u001b[1;33m(\u001b[0m\u001b[1;34m'experimental_steps_per_execution'\u001b[0m\u001b[1;33m)\u001b[0m\u001b[1;33m\u001b[0m\u001b[1;33m\u001b[0m\u001b[0m\n\u001b[0;32m    533\u001b[0m \u001b[1;33m\u001b[0m\u001b[0m\n\u001b[1;32m--> 534\u001b[1;33m       \u001b[0mself\u001b[0m\u001b[1;33m.\u001b[0m\u001b[0m_validate_compile\u001b[0m\u001b[1;33m(\u001b[0m\u001b[0moptimizer\u001b[0m\u001b[1;33m,\u001b[0m \u001b[0mmetrics\u001b[0m\u001b[1;33m,\u001b[0m \u001b[1;33m**\u001b[0m\u001b[0mkwargs\u001b[0m\u001b[1;33m)\u001b[0m\u001b[1;33m\u001b[0m\u001b[1;33m\u001b[0m\u001b[0m\n\u001b[0m\u001b[0;32m    535\u001b[0m       \u001b[0mself\u001b[0m\u001b[1;33m.\u001b[0m\u001b[0m_run_eagerly\u001b[0m \u001b[1;33m=\u001b[0m \u001b[0mrun_eagerly\u001b[0m\u001b[1;33m\u001b[0m\u001b[1;33m\u001b[0m\u001b[0m\n\u001b[0;32m    536\u001b[0m \u001b[1;33m\u001b[0m\u001b[0m\n",
      "\u001b[1;32me:\\machine_learning\\learningDL\\myEnv\\lib\\site-packages\\tensorflow\\python\\keras\\engine\\training.py\u001b[0m in \u001b[0;36m_validate_compile\u001b[1;34m(self, optimizer, metrics, **kwargs)\u001b[0m\n\u001b[0;32m   2517\u001b[0m     \u001b[0minvalid_kwargs\u001b[0m \u001b[1;33m=\u001b[0m \u001b[0mset\u001b[0m\u001b[1;33m(\u001b[0m\u001b[0mkwargs\u001b[0m\u001b[1;33m)\u001b[0m \u001b[1;33m-\u001b[0m \u001b[1;33m{\u001b[0m\u001b[1;34m'sample_weight_mode'\u001b[0m\u001b[1;33m}\u001b[0m\u001b[1;33m\u001b[0m\u001b[1;33m\u001b[0m\u001b[0m\n\u001b[0;32m   2518\u001b[0m     \u001b[1;32mif\u001b[0m \u001b[0minvalid_kwargs\u001b[0m\u001b[1;33m:\u001b[0m\u001b[1;33m\u001b[0m\u001b[1;33m\u001b[0m\u001b[0m\n\u001b[1;32m-> 2519\u001b[1;33m       raise TypeError('Invalid keyword argument(s) in `compile`: %s' %\n\u001b[0m\u001b[0;32m   2520\u001b[0m                       (invalid_kwargs,))\n\u001b[0;32m   2521\u001b[0m \u001b[1;33m\u001b[0m\u001b[0m\n",
      "\u001b[1;31mTypeError\u001b[0m: Invalid keyword argument(s) in `compile`: {'metrices'}"
     ]
    }
   ],
   "source": [
    "model = keras.Sequential([\n",
    "    keras.layers.Flatten(input_shape=(32,32,3)),\n",
    "    keras.layers.Dense(3000,activation=\"relu\"),\n",
    "    keras.layers.Dense(1000,activation=\"relu\"),\n",
    "    keras.layers.Dense(10,activation=\"sigmoid\")\n",
    "]);\n",
    "\n",
    "model.compile(optimizer=\"SGD\",\n",
    "                    loss=\"categorical_crossentropy\",\n",
    "                    metrics=[\"accuracy\"])\n",
    "model.fit(X_train_scaled,y_train_categorical,epochs=50)\n",
    "\n"
   ]
  },
  {
   "cell_type": "code",
   "execution_count": null,
   "metadata": {},
   "outputs": [],
   "source": []
  }
 ],
 "metadata": {
  "kernelspec": {
   "display_name": "tfgpu",
   "language": "python",
   "name": "tfgpu"
  },
  "language_info": {
   "codemirror_mode": {
    "name": "ipython",
    "version": 3
   },
   "file_extension": ".py",
   "mimetype": "text/x-python",
   "name": "python",
   "nbconvert_exporter": "python",
   "pygments_lexer": "ipython3",
   "version": "3.8.6"
  }
 },
 "nbformat": 4,
 "nbformat_minor": 2
}
