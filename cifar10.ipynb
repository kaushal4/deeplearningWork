{
 "cells": [
  {
   "cell_type": "code",
   "execution_count": 2,
   "metadata": {},
   "outputs": [],
   "source": [
    "import tensorflow as tf\n",
    "from tensorflow import keras\n",
    "import matplotlib.pyplot as plt\n",
    "import numpy as np \n",
    "%matplotlib inline"
   ]
  },
  {
   "cell_type": "code",
   "execution_count": 3,
   "metadata": {},
   "outputs": [
    {
     "output_type": "execute_result",
     "data": {
      "text/plain": [
       "[PhysicalDevice(name='/physical_device:CPU:0', device_type='CPU'),\n",
       " PhysicalDevice(name='/physical_device:GPU:0', device_type='GPU')]"
      ]
     },
     "metadata": {},
     "execution_count": 3
    }
   ],
   "source": [
    "tf.config.experimental.list_physical_devices()"
   ]
  },
  {
   "cell_type": "code",
   "execution_count": 5,
   "metadata": {},
   "outputs": [
    {
     "output_type": "execute_result",
     "data": {
      "text/plain": [
       "True"
      ]
     },
     "metadata": {},
     "execution_count": 5
    }
   ],
   "source": [
    "tf.test.is_built_with_cuda()"
   ]
  },
  {
   "cell_type": "code",
   "execution_count": 6,
   "metadata": {},
   "outputs": [],
   "source": [
    "(X_train,y_train) , (X_test,y_test) = tf.keras.datasets.cifar10.load_data()"
   ]
  },
  {
   "cell_type": "code",
   "execution_count": 8,
   "metadata": {},
   "outputs": [
    {
     "output_type": "display_data",
     "data": {
      "text/plain": "<Figure size 720x72 with 0 Axes>"
     },
     "metadata": {}
    },
    {
     "output_type": "display_data",
     "data": {
      "text/plain": "<Figure size 288x288 with 1 Axes>",
      "image/svg+xml": "<?xml version=\"1.0\" encoding=\"utf-8\" standalone=\"no\"?>\r\n<!DOCTYPE svg PUBLIC \"-//W3C//DTD SVG 1.1//EN\"\r\n  \"http://www.w3.org/Graphics/SVG/1.1/DTD/svg11.dtd\">\r\n<svg height=\"257.778125pt\" version=\"1.1\" viewBox=\"0 0 257.325 257.778125\" width=\"257.325pt\" xmlns=\"http://www.w3.org/2000/svg\" xmlns:xlink=\"http://www.w3.org/1999/xlink\">\r\n <metadata>\r\n  <rdf:RDF xmlns:cc=\"http://creativecommons.org/ns#\" xmlns:dc=\"http://purl.org/dc/elements/1.1/\" xmlns:rdf=\"http://www.w3.org/1999/02/22-rdf-syntax-ns#\">\r\n   <cc:Work>\r\n    <dc:type rdf:resource=\"http://purl.org/dc/dcmitype/StillImage\"/>\r\n    <dc:date>2021-03-29T22:29:05.305122</dc:date>\r\n    <dc:format>image/svg+xml</dc:format>\r\n    <dc:creator>\r\n     <cc:Agent>\r\n      <dc:title>Matplotlib v3.4.0, https://matplotlib.org/</dc:title>\r\n     </cc:Agent>\r\n    </dc:creator>\r\n   </cc:Work>\r\n  </rdf:RDF>\r\n </metadata>\r\n <defs>\r\n  <style type=\"text/css\">*{stroke-linecap:butt;stroke-linejoin:round;}</style>\r\n </defs>\r\n <g id=\"figure_1\">\r\n  <g id=\"patch_1\">\r\n   <path d=\"M 0 257.778125 \r\nL 257.325 257.778125 \r\nL 257.325 0 \r\nL 0 0 \r\nz\r\n\" style=\"fill:none;\"/>\r\n  </g>\r\n  <g id=\"axes_1\">\r\n   <g id=\"patch_2\">\r\n    <path d=\"M 26.925 247.078125 \r\nL 250.125 247.078125 \r\nL 250.125 23.878125 \r\nL 26.925 23.878125 \r\nz\r\n\" style=\"fill:#ffffff;\"/>\r\n   </g>\r\n   <g clip-path=\"url(#pa8979325f9)\">\r\n    <image height=\"224\" id=\"imageb5a420cbf4\" transform=\"scale(1 -1)translate(0 -224)\" width=\"224\" x=\"26.925\" xlink:href=\"data:image/png;base64,\r\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\" y=\"-23.078125\"/>\r\n   </g>\r\n   <g id=\"matplotlib.axis_1\">\r\n    <g id=\"xtick_1\">\r\n     <g id=\"line2d_1\">\r\n      <defs>\r\n       <path d=\"M 0 0 \r\nL 0 3.5 \r\n\" id=\"m41998c0788\" style=\"stroke:#000000;stroke-width:0.8;\"/>\r\n      </defs>\r\n      <g>\r\n       <use style=\"stroke:#000000;stroke-width:0.8;\" x=\"30.4125\" xlink:href=\"#m41998c0788\" y=\"247.078125\"/>\r\n      </g>\r\n     </g>\r\n     <g id=\"line2d_2\">\r\n      <defs>\r\n       <path d=\"M 0 0 \r\nL 0 -3.5 \r\n\" id=\"m9b259aac99\" style=\"stroke:#000000;stroke-width:0.8;\"/>\r\n      </defs>\r\n      <g>\r\n       <use style=\"stroke:#000000;stroke-width:0.8;\" x=\"30.4125\" xlink:href=\"#m9b259aac99\" y=\"23.878125\"/>\r\n      </g>\r\n     </g>\r\n     <g id=\"text_1\">\r\n      <!-- 0 -->\r\n      <g transform=\"translate(27.23125 14.798438)scale(0.1 -0.1)\">\r\n       <defs>\r\n        <path d=\"M 2034 4250 \r\nQ 1547 4250 1301 3770 \r\nQ 1056 3291 1056 2328 \r\nQ 1056 1369 1301 889 \r\nQ 1547 409 2034 409 \r\nQ 2525 409 2770 889 \r\nQ 3016 1369 3016 2328 \r\nQ 3016 3291 2770 3770 \r\nQ 2525 4250 2034 4250 \r\nz\r\nM 2034 4750 \r\nQ 2819 4750 3233 4129 \r\nQ 3647 3509 3647 2328 \r\nQ 3647 1150 3233 529 \r\nQ 2819 -91 2034 -91 \r\nQ 1250 -91 836 529 \r\nQ 422 1150 422 2328 \r\nQ 422 3509 836 4129 \r\nQ 1250 4750 2034 4750 \r\nz\r\n\" id=\"DejaVuSans-30\" transform=\"scale(0.015625)\"/>\r\n       </defs>\r\n       <use xlink:href=\"#DejaVuSans-30\"/>\r\n      </g>\r\n     </g>\r\n    </g>\r\n    <g id=\"xtick_2\">\r\n     <g id=\"line2d_3\">\r\n      <g>\r\n       <use style=\"stroke:#000000;stroke-width:0.8;\" x=\"65.2875\" xlink:href=\"#m41998c0788\" y=\"247.078125\"/>\r\n      </g>\r\n     </g>\r\n     <g id=\"line2d_4\">\r\n      <g>\r\n       <use style=\"stroke:#000000;stroke-width:0.8;\" x=\"65.2875\" xlink:href=\"#m9b259aac99\" y=\"23.878125\"/>\r\n      </g>\r\n     </g>\r\n     <g id=\"text_2\">\r\n      <!-- 5 -->\r\n      <g transform=\"translate(62.10625 14.798438)scale(0.1 -0.1)\">\r\n       <defs>\r\n        <path d=\"M 691 4666 \r\nL 3169 4666 \r\nL 3169 4134 \r\nL 1269 4134 \r\nL 1269 2991 \r\nQ 1406 3038 1543 3061 \r\nQ 1681 3084 1819 3084 \r\nQ 2600 3084 3056 2656 \r\nQ 3513 2228 3513 1497 \r\nQ 3513 744 3044 326 \r\nQ 2575 -91 1722 -91 \r\nQ 1428 -91 1123 -41 \r\nQ 819 9 494 109 \r\nL 494 744 \r\nQ 775 591 1075 516 \r\nQ 1375 441 1709 441 \r\nQ 2250 441 2565 725 \r\nQ 2881 1009 2881 1497 \r\nQ 2881 1984 2565 2268 \r\nQ 2250 2553 1709 2553 \r\nQ 1456 2553 1204 2497 \r\nQ 953 2441 691 2322 \r\nL 691 4666 \r\nz\r\n\" id=\"DejaVuSans-35\" transform=\"scale(0.015625)\"/>\r\n       </defs>\r\n       <use xlink:href=\"#DejaVuSans-35\"/>\r\n      </g>\r\n     </g>\r\n    </g>\r\n    <g id=\"xtick_3\">\r\n     <g id=\"line2d_5\">\r\n      <g>\r\n       <use style=\"stroke:#000000;stroke-width:0.8;\" x=\"100.1625\" xlink:href=\"#m41998c0788\" y=\"247.078125\"/>\r\n      </g>\r\n     </g>\r\n     <g id=\"line2d_6\">\r\n      <g>\r\n       <use style=\"stroke:#000000;stroke-width:0.8;\" x=\"100.1625\" xlink:href=\"#m9b259aac99\" y=\"23.878125\"/>\r\n      </g>\r\n     </g>\r\n     <g id=\"text_3\">\r\n      <!-- 10 -->\r\n      <g transform=\"translate(93.8 14.798438)scale(0.1 -0.1)\">\r\n       <defs>\r\n        <path d=\"M 794 531 \r\nL 1825 531 \r\nL 1825 4091 \r\nL 703 3866 \r\nL 703 4441 \r\nL 1819 4666 \r\nL 2450 4666 \r\nL 2450 531 \r\nL 3481 531 \r\nL 3481 0 \r\nL 794 0 \r\nL 794 531 \r\nz\r\n\" id=\"DejaVuSans-31\" transform=\"scale(0.015625)\"/>\r\n       </defs>\r\n       <use xlink:href=\"#DejaVuSans-31\"/>\r\n       <use x=\"63.623047\" xlink:href=\"#DejaVuSans-30\"/>\r\n      </g>\r\n     </g>\r\n    </g>\r\n    <g id=\"xtick_4\">\r\n     <g id=\"line2d_7\">\r\n      <g>\r\n       <use style=\"stroke:#000000;stroke-width:0.8;\" x=\"135.0375\" xlink:href=\"#m41998c0788\" y=\"247.078125\"/>\r\n      </g>\r\n     </g>\r\n     <g id=\"line2d_8\">\r\n      <g>\r\n       <use style=\"stroke:#000000;stroke-width:0.8;\" x=\"135.0375\" xlink:href=\"#m9b259aac99\" y=\"23.878125\"/>\r\n      </g>\r\n     </g>\r\n     <g id=\"text_4\">\r\n      <!-- 15 -->\r\n      <g transform=\"translate(128.675 14.798438)scale(0.1 -0.1)\">\r\n       <use xlink:href=\"#DejaVuSans-31\"/>\r\n       <use x=\"63.623047\" xlink:href=\"#DejaVuSans-35\"/>\r\n      </g>\r\n     </g>\r\n    </g>\r\n    <g id=\"xtick_5\">\r\n     <g id=\"line2d_9\">\r\n      <g>\r\n       <use style=\"stroke:#000000;stroke-width:0.8;\" x=\"169.9125\" xlink:href=\"#m41998c0788\" y=\"247.078125\"/>\r\n      </g>\r\n     </g>\r\n     <g id=\"line2d_10\">\r\n      <g>\r\n       <use style=\"stroke:#000000;stroke-width:0.8;\" x=\"169.9125\" xlink:href=\"#m9b259aac99\" y=\"23.878125\"/>\r\n      </g>\r\n     </g>\r\n     <g id=\"text_5\">\r\n      <!-- 20 -->\r\n      <g transform=\"translate(163.55 14.798438)scale(0.1 -0.1)\">\r\n       <defs>\r\n        <path d=\"M 1228 531 \r\nL 3431 531 \r\nL 3431 0 \r\nL 469 0 \r\nL 469 531 \r\nQ 828 903 1448 1529 \r\nQ 2069 2156 2228 2338 \r\nQ 2531 2678 2651 2914 \r\nQ 2772 3150 2772 3378 \r\nQ 2772 3750 2511 3984 \r\nQ 2250 4219 1831 4219 \r\nQ 1534 4219 1204 4116 \r\nQ 875 4013 500 3803 \r\nL 500 4441 \r\nQ 881 4594 1212 4672 \r\nQ 1544 4750 1819 4750 \r\nQ 2544 4750 2975 4387 \r\nQ 3406 4025 3406 3419 \r\nQ 3406 3131 3298 2873 \r\nQ 3191 2616 2906 2266 \r\nQ 2828 2175 2409 1742 \r\nQ 1991 1309 1228 531 \r\nz\r\n\" id=\"DejaVuSans-32\" transform=\"scale(0.015625)\"/>\r\n       </defs>\r\n       <use xlink:href=\"#DejaVuSans-32\"/>\r\n       <use x=\"63.623047\" xlink:href=\"#DejaVuSans-30\"/>\r\n      </g>\r\n     </g>\r\n    </g>\r\n    <g id=\"xtick_6\">\r\n     <g id=\"line2d_11\">\r\n      <g>\r\n       <use style=\"stroke:#000000;stroke-width:0.8;\" x=\"204.7875\" xlink:href=\"#m41998c0788\" y=\"247.078125\"/>\r\n      </g>\r\n     </g>\r\n     <g id=\"line2d_12\">\r\n      <g>\r\n       <use style=\"stroke:#000000;stroke-width:0.8;\" x=\"204.7875\" xlink:href=\"#m9b259aac99\" y=\"23.878125\"/>\r\n      </g>\r\n     </g>\r\n     <g id=\"text_6\">\r\n      <!-- 25 -->\r\n      <g transform=\"translate(198.425 14.798438)scale(0.1 -0.1)\">\r\n       <use xlink:href=\"#DejaVuSans-32\"/>\r\n       <use x=\"63.623047\" xlink:href=\"#DejaVuSans-35\"/>\r\n      </g>\r\n     </g>\r\n    </g>\r\n    <g id=\"xtick_7\">\r\n     <g id=\"line2d_13\">\r\n      <g>\r\n       <use style=\"stroke:#000000;stroke-width:0.8;\" x=\"239.6625\" xlink:href=\"#m41998c0788\" y=\"247.078125\"/>\r\n      </g>\r\n     </g>\r\n     <g id=\"line2d_14\">\r\n      <g>\r\n       <use style=\"stroke:#000000;stroke-width:0.8;\" x=\"239.6625\" xlink:href=\"#m9b259aac99\" y=\"23.878125\"/>\r\n      </g>\r\n     </g>\r\n     <g id=\"text_7\">\r\n      <!-- 30 -->\r\n      <g transform=\"translate(233.3 14.798438)scale(0.1 -0.1)\">\r\n       <defs>\r\n        <path d=\"M 2597 2516 \r\nQ 3050 2419 3304 2112 \r\nQ 3559 1806 3559 1356 \r\nQ 3559 666 3084 287 \r\nQ 2609 -91 1734 -91 \r\nQ 1441 -91 1130 -33 \r\nQ 819 25 488 141 \r\nL 488 750 \r\nQ 750 597 1062 519 \r\nQ 1375 441 1716 441 \r\nQ 2309 441 2620 675 \r\nQ 2931 909 2931 1356 \r\nQ 2931 1769 2642 2001 \r\nQ 2353 2234 1838 2234 \r\nL 1294 2234 \r\nL 1294 2753 \r\nL 1863 2753 \r\nQ 2328 2753 2575 2939 \r\nQ 2822 3125 2822 3475 \r\nQ 2822 3834 2567 4026 \r\nQ 2313 4219 1838 4219 \r\nQ 1578 4219 1281 4162 \r\nQ 984 4106 628 3988 \r\nL 628 4550 \r\nQ 988 4650 1302 4700 \r\nQ 1616 4750 1894 4750 \r\nQ 2613 4750 3031 4423 \r\nQ 3450 4097 3450 3541 \r\nQ 3450 3153 3228 2886 \r\nQ 3006 2619 2597 2516 \r\nz\r\n\" id=\"DejaVuSans-33\" transform=\"scale(0.015625)\"/>\r\n       </defs>\r\n       <use xlink:href=\"#DejaVuSans-33\"/>\r\n       <use x=\"63.623047\" xlink:href=\"#DejaVuSans-30\"/>\r\n      </g>\r\n     </g>\r\n    </g>\r\n   </g>\r\n   <g id=\"matplotlib.axis_2\">\r\n    <g id=\"ytick_1\">\r\n     <g id=\"line2d_15\">\r\n      <defs>\r\n       <path d=\"M 0 0 \r\nL -3.5 0 \r\n\" id=\"m8a905260bc\" style=\"stroke:#000000;stroke-width:0.8;\"/>\r\n      </defs>\r\n      <g>\r\n       <use style=\"stroke:#000000;stroke-width:0.8;\" x=\"26.925\" xlink:href=\"#m8a905260bc\" y=\"27.365625\"/>\r\n      </g>\r\n     </g>\r\n     <g id=\"text_8\">\r\n      <!-- 0 -->\r\n      <g transform=\"translate(13.5625 31.164844)scale(0.1 -0.1)\">\r\n       <use xlink:href=\"#DejaVuSans-30\"/>\r\n      </g>\r\n     </g>\r\n    </g>\r\n    <g id=\"ytick_2\">\r\n     <g id=\"line2d_16\">\r\n      <g>\r\n       <use style=\"stroke:#000000;stroke-width:0.8;\" x=\"26.925\" xlink:href=\"#m8a905260bc\" y=\"62.240625\"/>\r\n      </g>\r\n     </g>\r\n     <g id=\"text_9\">\r\n      <!-- 5 -->\r\n      <g transform=\"translate(13.5625 66.039844)scale(0.1 -0.1)\">\r\n       <use xlink:href=\"#DejaVuSans-35\"/>\r\n      </g>\r\n     </g>\r\n    </g>\r\n    <g id=\"ytick_3\">\r\n     <g id=\"line2d_17\">\r\n      <g>\r\n       <use style=\"stroke:#000000;stroke-width:0.8;\" x=\"26.925\" xlink:href=\"#m8a905260bc\" y=\"97.115625\"/>\r\n      </g>\r\n     </g>\r\n     <g id=\"text_10\">\r\n      <!-- 10 -->\r\n      <g transform=\"translate(7.2 100.914844)scale(0.1 -0.1)\">\r\n       <use xlink:href=\"#DejaVuSans-31\"/>\r\n       <use x=\"63.623047\" xlink:href=\"#DejaVuSans-30\"/>\r\n      </g>\r\n     </g>\r\n    </g>\r\n    <g id=\"ytick_4\">\r\n     <g id=\"line2d_18\">\r\n      <g>\r\n       <use style=\"stroke:#000000;stroke-width:0.8;\" x=\"26.925\" xlink:href=\"#m8a905260bc\" y=\"131.990625\"/>\r\n      </g>\r\n     </g>\r\n     <g id=\"text_11\">\r\n      <!-- 15 -->\r\n      <g transform=\"translate(7.2 135.789844)scale(0.1 -0.1)\">\r\n       <use xlink:href=\"#DejaVuSans-31\"/>\r\n       <use x=\"63.623047\" xlink:href=\"#DejaVuSans-35\"/>\r\n      </g>\r\n     </g>\r\n    </g>\r\n    <g id=\"ytick_5\">\r\n     <g id=\"line2d_19\">\r\n      <g>\r\n       <use style=\"stroke:#000000;stroke-width:0.8;\" x=\"26.925\" xlink:href=\"#m8a905260bc\" y=\"166.865625\"/>\r\n      </g>\r\n     </g>\r\n     <g id=\"text_12\">\r\n      <!-- 20 -->\r\n      <g transform=\"translate(7.2 170.664844)scale(0.1 -0.1)\">\r\n       <use xlink:href=\"#DejaVuSans-32\"/>\r\n       <use x=\"63.623047\" xlink:href=\"#DejaVuSans-30\"/>\r\n      </g>\r\n     </g>\r\n    </g>\r\n    <g id=\"ytick_6\">\r\n     <g id=\"line2d_20\">\r\n      <g>\r\n       <use style=\"stroke:#000000;stroke-width:0.8;\" x=\"26.925\" xlink:href=\"#m8a905260bc\" y=\"201.740625\"/>\r\n      </g>\r\n     </g>\r\n     <g id=\"text_13\">\r\n      <!-- 25 -->\r\n      <g transform=\"translate(7.2 205.539844)scale(0.1 -0.1)\">\r\n       <use xlink:href=\"#DejaVuSans-32\"/>\r\n       <use x=\"63.623047\" xlink:href=\"#DejaVuSans-35\"/>\r\n      </g>\r\n     </g>\r\n    </g>\r\n    <g id=\"ytick_7\">\r\n     <g id=\"line2d_21\">\r\n      <g>\r\n       <use style=\"stroke:#000000;stroke-width:0.8;\" x=\"26.925\" xlink:href=\"#m8a905260bc\" y=\"236.615625\"/>\r\n      </g>\r\n     </g>\r\n     <g id=\"text_14\">\r\n      <!-- 30 -->\r\n      <g transform=\"translate(7.2 240.414844)scale(0.1 -0.1)\">\r\n       <use xlink:href=\"#DejaVuSans-33\"/>\r\n       <use x=\"63.623047\" xlink:href=\"#DejaVuSans-30\"/>\r\n      </g>\r\n     </g>\r\n    </g>\r\n   </g>\r\n   <g id=\"patch_3\">\r\n    <path d=\"M 26.925 247.078125 \r\nL 26.925 23.878125 \r\n\" style=\"fill:none;stroke:#000000;stroke-linecap:square;stroke-linejoin:miter;stroke-width:0.8;\"/>\r\n   </g>\r\n   <g id=\"patch_4\">\r\n    <path d=\"M 250.125 247.078125 \r\nL 250.125 23.878125 \r\n\" style=\"fill:none;stroke:#000000;stroke-linecap:square;stroke-linejoin:miter;stroke-width:0.8;\"/>\r\n   </g>\r\n   <g id=\"patch_5\">\r\n    <path d=\"M 26.925 247.078125 \r\nL 250.125 247.078125 \r\n\" style=\"fill:none;stroke:#000000;stroke-linecap:square;stroke-linejoin:miter;stroke-width:0.8;\"/>\r\n   </g>\r\n   <g id=\"patch_6\">\r\n    <path d=\"M 26.925 23.878125 \r\nL 250.125 23.878125 \r\n\" style=\"fill:none;stroke:#000000;stroke-linecap:square;stroke-linejoin:miter;stroke-width:0.8;\"/>\r\n   </g>\r\n  </g>\r\n </g>\r\n <defs>\r\n  <clipPath id=\"pa8979325f9\">\r\n   <rect height=\"223.2\" width=\"223.2\" x=\"26.925\" y=\"23.878125\"/>\r\n  </clipPath>\r\n </defs>\r\n</svg>\r\n",
      "image/png": "[encoded data removed]"
     },
     "metadata": {
      "needs_background": "light"
     }
    }
   ],
   "source": [
    "def showImg(index):\n",
    "    plt.figure(figsize=(10,1))\n",
    "    plt.matshow(X_train[index])\n",
    "\n",
    "showImg(1)"
   ]
  },
  {
   "cell_type": "code",
   "execution_count": 9,
   "metadata": {},
   "outputs": [],
   "source": [
    "classes = [\"airplane\",\"automobile\",\"bird\",\"cat\",\"deer\",\"dog\",\"frog\",\"horse\",\"ship\",\"truck\"]"
   ]
  },
  {
   "cell_type": "code",
   "execution_count": 10,
   "metadata": {},
   "outputs": [],
   "source": [
    "X_train_scaled = X_train/255\n",
    "X_test_scaled = X_test/255"
   ]
  },
  {
   "cell_type": "code",
   "execution_count": 11,
   "metadata": {},
   "outputs": [],
   "source": [
    "y_train_categorical = keras.utils.to_categorical(\n",
    "    y_train , num_classes=10,dtype=\"float32\"\n",
    ")"
   ]
  },
  {
   "cell_type": "code",
   "execution_count": 16,
   "metadata": {},
   "outputs": [],
   "source": [
    "model = keras.Sequential([\n",
    "    #cnn\n",
    "    keras.layers.Conv2D(filters=32,kernel_size=(3,3),activation=\"relu\",input_shape=(32,32,3)),\n",
    "    keras.layers.MaxPooling2D((2,2)),\n",
    "    keras.layers.Conv2D(filters=32,kernel_size=(3,3),activation=\"relu\"),\n",
    "    keras.layers.MaxPooling2D((2,2)),\n",
    "    #dense\n",
    "    keras.layers.Flatten(),\n",
    "    keras.layers.Dense(64,activation=\"relu\"),\n",
    "    keras.layers.Dense(32,activation=\"relu\"),\n",
    "    keras.layers.Dense(10,activation=\"softmax\")\n",
    "]);\n",
    "\n",
    "model.compile(optimizer=\"SGD\",\n",
    "                    loss=\"categorical_crossentropy\",\n",
    "                    metrics=[\"accuracy\"])\n",
    "\n",
    "\n"
   ]
  },
  {
   "cell_type": "code",
   "execution_count": 21,
   "metadata": {},
   "outputs": [
    {
     "output_type": "stream",
     "name": "stdout",
     "text": [
      "Epoch 1/10\n",
      "1563/1563 [==============================] - 7s 5ms/step - loss: 0.9364 - accuracy: 0.6722\n",
      "Epoch 2/10\n",
      "1563/1563 [==============================] - 7s 5ms/step - loss: 0.9069 - accuracy: 0.6838\n",
      "Epoch 3/10\n",
      "1563/1563 [==============================] - 8s 5ms/step - loss: 0.8831 - accuracy: 0.6912\n",
      "Epoch 4/10\n",
      "1563/1563 [==============================] - 8s 5ms/step - loss: 0.8573 - accuracy: 0.7022\n",
      "Epoch 5/10\n",
      "1563/1563 [==============================] - 8s 5ms/step - loss: 0.8346 - accuracy: 0.7117\n",
      "Epoch 6/10\n",
      "1563/1563 [==============================] - 8s 5ms/step - loss: 0.8122 - accuracy: 0.7150\n",
      "Epoch 7/10\n",
      "1563/1563 [==============================] - 8s 5ms/step - loss: 0.7901 - accuracy: 0.7248\n",
      "Epoch 8/10\n",
      "1563/1563 [==============================] - 8s 5ms/step - loss: 0.7697 - accuracy: 0.7273\n",
      "Epoch 9/10\n",
      "1563/1563 [==============================] - 9s 5ms/step - loss: 0.7486 - accuracy: 0.7417\n",
      "Epoch 10/10\n",
      "1563/1563 [==============================] - 9s 5ms/step - loss: 0.7283 - accuracy: 0.7441\n"
     ]
    },
    {
     "output_type": "execute_result",
     "data": {
      "text/plain": [
       "<tensorflow.python.keras.callbacks.History at 0x16d97c65c10>"
      ]
     },
     "metadata": {},
     "execution_count": 21
    }
   ],
   "source": [
    "model.fit(X_train_scaled,y_train_categorical,epochs=10)"
   ]
  },
  {
   "cell_type": "code",
   "execution_count": 23,
   "metadata": {},
   "outputs": [],
   "source": [
    "y_test_categorical = keras.utils.to_categorical(\n",
    "    y_test , num_classes=10,dtype=\"float32\"\n",
    ")"
   ]
  },
  {
   "cell_type": "code",
   "execution_count": 31,
   "metadata": {},
   "outputs": [
    {
     "output_type": "stream",
     "name": "stdout",
     "text": [
      "313/313 [==============================] - 2s 5ms/step - loss: 0.9503 - accuracy: 0.6751\n"
     ]
    },
    {
     "output_type": "execute_result",
     "data": {
      "text/plain": [
       "[0.9503472447395325, 0.6751000285148621]"
      ]
     },
     "metadata": {},
     "execution_count": 31
    }
   ],
   "source": [
    "model.evaluate(X_test_scaled,y_test_categorical)"
   ]
  },
  {
   "cell_type": "code",
   "execution_count": 32,
   "metadata": {},
   "outputs": [
    {
     "output_type": "execute_result",
     "data": {
      "text/plain": [
       "array([[1.2386997e-03, 7.0458292e-03, 1.6879136e-02, ..., 1.2625761e-04,\n",
       "        2.3695106e-02, 3.9685443e-03],\n",
       "       [4.0706975e-04, 1.0616807e-03, 1.5468848e-06, ..., 4.0142809e-10,\n",
       "        9.9852604e-01, 2.7705316e-06],\n",
       "       [3.6715563e-02, 7.4816309e-02, 3.1075694e-04, ..., 3.9692950e-05,\n",
       "        8.8459450e-01, 3.1188189e-03],\n",
       "       ...,\n",
       "       [2.8260543e-05, 5.4313125e-05, 1.2618837e-01, ..., 2.7937520e-02,\n",
       "        2.0124771e-04, 8.4841397e-04],\n",
       "       [2.7050192e-02, 4.7701389e-01, 1.5600305e-03, ..., 7.0630084e-03,\n",
       "        1.2439936e-02, 1.1295532e-03],\n",
       "       [8.4930609e-05, 1.0089449e-02, 4.6879710e-03, ..., 7.8291613e-01,\n",
       "        3.6857833e-05, 1.8166350e-04]], dtype=float32)"
      ]
     },
     "metadata": {},
     "execution_count": 32
    }
   ],
   "source": [
    "y_pred = model.predict(X_test_scaled)\n",
    "y_pred"
   ]
  },
  {
   "cell_type": "code",
   "execution_count": 34,
   "metadata": {},
   "outputs": [
    {
     "output_type": "execute_result",
     "data": {
      "text/plain": [
       "[3, 8, 8, 8, 4]"
      ]
     },
     "metadata": {},
     "execution_count": 34
    }
   ],
   "source": [
    "y_classes = [np.argmax(element) for element in y_pred]\n",
    "y_classes[:5]"
   ]
  },
  {
   "cell_type": "code",
   "execution_count": 35,
   "metadata": {},
   "outputs": [
    {
     "output_type": "execute_result",
     "data": {
      "text/plain": [
       "array([[3],\n",
       "       [8],\n",
       "       [8],\n",
       "       [0],\n",
       "       [6]], dtype=uint8)"
      ]
     },
     "metadata": {},
     "execution_count": 35
    }
   ],
   "source": [
    "y_test[:5]"
   ]
  },
  {
   "cell_type": "code",
   "execution_count": null,
   "metadata": {},
   "outputs": [],
   "source": []
  }
 ],
 "metadata": {
  "kernelspec": {
   "display_name": "tfgpu",
   "language": "python",
   "name": "tfgpu"
  },
  "language_info": {
   "codemirror_mode": {
    "name": "ipython",
    "version": 3
   },
   "file_extension": ".py",
   "mimetype": "text/x-python",
   "name": "python",
   "nbconvert_exporter": "python",
   "pygments_lexer": "ipython3",
   "version": "3.8.6-final"
  }
 },
 "nbformat": 4,
 "nbformat_minor": 2
}